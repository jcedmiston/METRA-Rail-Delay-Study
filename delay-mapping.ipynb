{
 "cells": [
  {
   "cell_type": "markdown",
   "metadata": {},
   "source": [
    "# Mapping \n",
    "\n",
    "Transportation is about getting from place A to place B.  Therefore, most transportation data has a spatial component to it.  It is nice to be able to put these data on a map and see what is going on.  It is even better if we can put it on a map and interact with the data.  It would be even cooler if we could put our interactive map on a website to show it off!\n",
    "\n",
    "To do this, we are going to use a package called folium.  You can find the documentation here: \n",
    "\n",
    "https://folium.readthedocs.io/en/latest/\n",
    "\n",
    "And access it on github here: \n",
    "\n",
    "https://github.com/python-visualization/folium\n"
   ]
  },
  {
   "cell_type": "markdown",
   "metadata": {},
   "source": [
    "### Credits\n",
    "\n",
    "This lesson draws from the folium quickstart notebook, and from Vik Paruchuri DataQuest lesson: \n",
    "\n",
    "https://www.dataquest.io/blog/python-data-visualization-libraries/"
   ]
  },
  {
   "cell_type": "markdown",
   "metadata": {},
   "source": [
    "### A side note on static mapping\n",
    "\n",
    "Sometimes you may want to create a static map instead of an interactive map.  Interactive maps are nice for exploring your data, but static maps work well for an image that you can insert into a paper.  If you want to create static maps, then basemap is a good tool.  Here is a nice lesson focused on mapping earthquake activity: \n",
    "\n",
    "http://introtopython.org/visualization_earthquakes.html\n",
    "\n"
   ]
  },
  {
   "cell_type": "markdown",
   "metadata": {},
   "source": [
    "### OK, back to interactive mapping, because that's fun...\n",
    "\n",
    "It turns out that folium doesn't do much itself.  It is just a wrapper around something called leafletjs.  You can read more about that here:\n",
    "\n",
    "http://leafletjs.com/index.html\n",
    "\n",
    "Leaflet is a library in the JavaScript language.  JavaScript is the language used for most web applications.  We could do the same thing using JavaScript and leaflet directly, but then we would have to learn the syntax for another language.  That might not be too hard, but to keep it simple, we'll stick to the python wrapper for now.  It is good to be aware of, though, because if you want more options than folium allows, you can go directly to leaflet.  \n",
    "\n",
    "What makes this possible is the fact that leaflet has a well-defined API.  That means that we can pass data back and forth, even from a different language.  \n"
   ]
  },
  {
   "cell_type": "markdown",
   "metadata": {
    "collapsed": true
   },
   "source": [
    "\n",
    "Getting Started\n",
    "---------------\n",
    "\n",
    "To create a base map, simply pass your starting coordinates to Folium:"
   ]
  },
  {
   "cell_type": "code",
   "execution_count": 1,
   "metadata": {},
   "outputs": [],
   "source": [
    "import folium"
   ]
  },
  {
   "cell_type": "code",
   "execution_count": 2,
   "metadata": {},
   "outputs": [],
   "source": [
    "m = folium.Map(location=[41.8781,-87.6298])"
   ]
  },
  {
   "cell_type": "markdown",
   "metadata": {
    "collapsed": true
   },
   "source": [
    "to display it in your notebook, just ask for the object representation. "
   ]
  },
  {
   "cell_type": "code",
   "execution_count": 3,
   "metadata": {},
   "outputs": [
    {
     "data": {
      "text/html": [
       "<div style=\"width:100%;\"><div style=\"position:relative;width:100%;height:0;padding-bottom:60%;\"><iframe src=\"data:text/html;charset=utf-8;base64,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\" style=\"position:absolute;width:100%;height:100%;left:0;top:0;border:none !important;\" allowfullscreen webkitallowfullscreen mozallowfullscreen></iframe></div></div>"
      ],
      "text/plain": [
       "<folium.folium.Map at 0x11ff72278>"
      ]
     },
     "execution_count": 3,
     "metadata": {},
     "output_type": "execute_result"
    }
   ],
   "source": [
    "m"
   ]
  },
  {
   "cell_type": "code",
   "execution_count": 4,
   "metadata": {},
   "outputs": [],
   "source": [
    "import pandas as pd\n",
    "import numpy as np"
   ]
  },
  {
   "cell_type": "code",
   "execution_count": 5,
   "metadata": {},
   "outputs": [],
   "source": [
    "# These files use \\N as a missing value indicator.  When reading the CSVs, we will tell\n",
    "# it to use that value as missing or NA.  The double backslash is required because\n",
    "# otherwise it will interpret \\N as a carriage return.\n",
    "trips = pd.read_csv(\"data/trip.csv\", header=None, na_values='\\\\N')\n",
    "trips.columns = [\"time\", \"time_formated\", \"id\", \"route_id\", \"vehicle_id\", \"vehicle_label\", \"delay\", \"lat\", \"lon\", \"general_weather\", \"temp\", \"temp_min\", \"temp_max\", \"visibility\", \"wind_speed\"] "
   ]
  },
  {
   "cell_type": "code",
   "execution_count": 6,
   "metadata": {},
   "outputs": [
    {
     "data": {
      "text/html": [
       "<div>\n",
       "<style scoped>\n",
       "    .dataframe tbody tr th:only-of-type {\n",
       "        vertical-align: middle;\n",
       "    }\n",
       "\n",
       "    .dataframe tbody tr th {\n",
       "        vertical-align: top;\n",
       "    }\n",
       "\n",
       "    .dataframe thead th {\n",
       "        text-align: right;\n",
       "    }\n",
       "</style>\n",
       "<table border=\"1\" class=\"dataframe\">\n",
       "  <thead>\n",
       "    <tr style=\"text-align: right;\">\n",
       "      <th></th>\n",
       "      <th>time</th>\n",
       "      <th>time_formated</th>\n",
       "      <th>id</th>\n",
       "      <th>route_id</th>\n",
       "      <th>vehicle_id</th>\n",
       "      <th>vehicle_label</th>\n",
       "      <th>delay</th>\n",
       "      <th>lat</th>\n",
       "      <th>lon</th>\n",
       "      <th>general_weather</th>\n",
       "      <th>temp</th>\n",
       "      <th>temp_min</th>\n",
       "      <th>temp_max</th>\n",
       "      <th>visibility</th>\n",
       "      <th>wind_speed</th>\n",
       "    </tr>\n",
       "  </thead>\n",
       "  <tbody>\n",
       "    <tr>\n",
       "      <th>0</th>\n",
       "      <td>1.554010e+09</td>\n",
       "      <td>2019-03-31 01:19:36.171123</td>\n",
       "      <td>UP-N_UN835_V6_B</td>\n",
       "      <td>UP-N</td>\n",
       "      <td>8413</td>\n",
       "      <td>835</td>\n",
       "      <td>300</td>\n",
       "      <td>42.346638</td>\n",
       "      <td>-87.829590</td>\n",
       "      <td>[{'id': 802, 'main': 'Clouds', 'description': ...</td>\n",
       "      <td>271.76</td>\n",
       "      <td>270.15</td>\n",
       "      <td>273.15</td>\n",
       "      <td>16093.0</td>\n",
       "      <td>3.6</td>\n",
       "    </tr>\n",
       "    <tr>\n",
       "      <th>1</th>\n",
       "      <td>1.554010e+09</td>\n",
       "      <td>2019-03-31 01:19:36.171123</td>\n",
       "      <td>BNSF_BN1328_V6_B</td>\n",
       "      <td>BNSF</td>\n",
       "      <td>8584</td>\n",
       "      <td>1328</td>\n",
       "      <td>300</td>\n",
       "      <td>41.845730</td>\n",
       "      <td>-87.738174</td>\n",
       "      <td>[{'id': 803, 'main': 'Clouds', 'description': ...</td>\n",
       "      <td>272.22</td>\n",
       "      <td>271.48</td>\n",
       "      <td>273.15</td>\n",
       "      <td>16093.0</td>\n",
       "      <td>6.7</td>\n",
       "    </tr>\n",
       "    <tr>\n",
       "      <th>2</th>\n",
       "      <td>1.554010e+09</td>\n",
       "      <td>2019-03-31 01:20:07.779114</td>\n",
       "      <td>UP-N_UN835_V6_B</td>\n",
       "      <td>UP-N</td>\n",
       "      <td>8413</td>\n",
       "      <td>835</td>\n",
       "      <td>300</td>\n",
       "      <td>42.353279</td>\n",
       "      <td>-87.828880</td>\n",
       "      <td>[{'id': 802, 'main': 'Clouds', 'description': ...</td>\n",
       "      <td>271.76</td>\n",
       "      <td>270.15</td>\n",
       "      <td>273.15</td>\n",
       "      <td>16093.0</td>\n",
       "      <td>3.6</td>\n",
       "    </tr>\n",
       "    <tr>\n",
       "      <th>3</th>\n",
       "      <td>1.554010e+09</td>\n",
       "      <td>2019-03-31 01:20:07.779114</td>\n",
       "      <td>BNSF_BN1328_V6_B</td>\n",
       "      <td>BNSF</td>\n",
       "      <td>8584</td>\n",
       "      <td>1328</td>\n",
       "      <td>300</td>\n",
       "      <td>41.847168</td>\n",
       "      <td>-87.732002</td>\n",
       "      <td>[{'id': 803, 'main': 'Clouds', 'description': ...</td>\n",
       "      <td>272.23</td>\n",
       "      <td>271.48</td>\n",
       "      <td>273.15</td>\n",
       "      <td>16093.0</td>\n",
       "      <td>6.7</td>\n",
       "    </tr>\n",
       "    <tr>\n",
       "      <th>4</th>\n",
       "      <td>1.554010e+09</td>\n",
       "      <td>2019-03-31 01:20:39.113679</td>\n",
       "      <td>UP-N_UN835_V6_B</td>\n",
       "      <td>UP-N</td>\n",
       "      <td>8413</td>\n",
       "      <td>835</td>\n",
       "      <td>300</td>\n",
       "      <td>42.356483</td>\n",
       "      <td>-87.828545</td>\n",
       "      <td>[{'id': 803, 'main': 'Clouds', 'description': ...</td>\n",
       "      <td>271.75</td>\n",
       "      <td>270.15</td>\n",
       "      <td>273.15</td>\n",
       "      <td>16093.0</td>\n",
       "      <td>2.6</td>\n",
       "    </tr>\n",
       "  </tbody>\n",
       "</table>\n",
       "</div>"
      ],
      "text/plain": [
       "           time               time_formated                id route_id  \\\n",
       "0  1.554010e+09  2019-03-31 01:19:36.171123   UP-N_UN835_V6_B     UP-N   \n",
       "1  1.554010e+09  2019-03-31 01:19:36.171123  BNSF_BN1328_V6_B     BNSF   \n",
       "2  1.554010e+09  2019-03-31 01:20:07.779114   UP-N_UN835_V6_B     UP-N   \n",
       "3  1.554010e+09  2019-03-31 01:20:07.779114  BNSF_BN1328_V6_B     BNSF   \n",
       "4  1.554010e+09  2019-03-31 01:20:39.113679   UP-N_UN835_V6_B     UP-N   \n",
       "\n",
       "   vehicle_id  vehicle_label  delay        lat        lon  \\\n",
       "0        8413            835    300  42.346638 -87.829590   \n",
       "1        8584           1328    300  41.845730 -87.738174   \n",
       "2        8413            835    300  42.353279 -87.828880   \n",
       "3        8584           1328    300  41.847168 -87.732002   \n",
       "4        8413            835    300  42.356483 -87.828545   \n",
       "\n",
       "                                     general_weather    temp  temp_min  \\\n",
       "0  [{'id': 802, 'main': 'Clouds', 'description': ...  271.76    270.15   \n",
       "1  [{'id': 803, 'main': 'Clouds', 'description': ...  272.22    271.48   \n",
       "2  [{'id': 802, 'main': 'Clouds', 'description': ...  271.76    270.15   \n",
       "3  [{'id': 803, 'main': 'Clouds', 'description': ...  272.23    271.48   \n",
       "4  [{'id': 803, 'main': 'Clouds', 'description': ...  271.75    270.15   \n",
       "\n",
       "   temp_max  visibility  wind_speed  \n",
       "0    273.15     16093.0         3.6  \n",
       "1    273.15     16093.0         6.7  \n",
       "2    273.15     16093.0         3.6  \n",
       "3    273.15     16093.0         6.7  \n",
       "4    273.15     16093.0         2.6  "
      ]
     },
     "execution_count": 6,
     "metadata": {},
     "output_type": "execute_result"
    }
   ],
   "source": [
    "# let's peek at what we have\n",
    "trips.head()"
   ]
  },
  {
   "cell_type": "code",
   "execution_count": 7,
   "metadata": {},
   "outputs": [],
   "source": [
    "trips = trips[:100]"
   ]
  },
  {
   "cell_type": "code",
   "execution_count": 8,
   "metadata": {},
   "outputs": [],
   "source": [
    "for name, row in trips.iterrows():\n",
    "    marker = folium.CircleMarker([row['lat'], row['lon']], radius=2, popup=str(row['delay']))\n",
    "    marker.add_to(m)"
   ]
  },
  {
   "cell_type": "code",
   "execution_count": 9,
   "metadata": {},
   "outputs": [
    {
     "data": {
      "text/html": [
       "<div style=\"width:100%;\"><div style=\"position:relative;width:100%;height:0;padding-bottom:60%;\"><iframe src=\"data:text/html;charset=utf-8;base64,PCFET0NUWVBFIGh0bWw+CjxoZWFkPiAgICAKICAgIDxtZXRhIGh0dHAtZXF1aXY9ImNvbnRlbnQtdHlwZSIgY29udGVudD0idGV4dC9odG1sOyBjaGFyc2V0PVVURi04IiAvPgogICAgPHNjcmlwdD5MX1BSRUZFUl9DQU5WQVM9ZmFsc2U7IExfTk9fVE9VQ0g9ZmFsc2U7IExfRElTQUJMRV8zRD1mYWxzZTs8L3NjcmlwdD4KICAgIDxzY3JpcHQgc3JjPSJodHRwczovL2Nkbi5qc2RlbGl2ci5uZXQvbnBtL2xlYWZsZXRAMS4zLjQvZGlzdC9sZWFmbGV0LmpzIj48L3NjcmlwdD4KICAgIDxzY3JpcHQgc3JjPSJodHRwczovL2FqYXguZ29vZ2xlYXBpcy5jb20vYWpheC9saWJzL2pxdWVyeS8xLjExLjEvanF1ZXJ5Lm1pbi5qcyI+PC9zY3JpcHQ+CiAgICA8c2NyaXB0IHNyYz0iaHR0cHM6Ly9tYXhjZG4uYm9vdHN0cmFwY2RuLmNvbS9ib290c3RyYXAvMy4yLjAvanMvYm9vdHN0cmFwLm1pbi5qcyI+PC9zY3JpcHQ+CiAgICA8c2NyaXB0IHNyYz0iaHR0cHM6Ly9jZG5qcy5jbG91ZGZsYXJlLmNvbS9hamF4L2xpYnMvTGVhZmxldC5hd2Vzb21lLW1hcmtlcnMvMi4wLjIvbGVhZmxldC5hd2Vzb21lLW1hcmtlcnMuanMiPjwvc2NyaXB0PgogICAgPGxpbmsgcmVsPSJzdHlsZXNoZWV0IiBocmVmPSJodHRwczovL2Nkbi5qc2RlbGl2ci5uZXQvbnBtL2xlYWZsZXRAMS4zLjQvZGlzdC9sZWFmbGV0LmNzcyIvPgogICAgPGxpbmsgcmVsPSJzdHlsZXNoZWV0IiBocmVmPSJodHRwczovL21heGNkbi5ib290c3RyYXBjZG4uY29tL2Jvb3RzdHJhcC8zLjIuMC9jc3MvYm9vdHN0cmFwLm1pbi5jc3MiLz4KICAgIDxsaW5rIHJlbD0ic3R5bGVzaGVldCIgaHJlZj0iaHR0cHM6Ly9tYXhjZG4uYm9vdHN0cmFwY2RuLmNvbS9ib290c3RyYXAvMy4yLjAvY3NzL2Jvb3RzdHJhcC10aGVtZS5taW4uY3NzIi8+CiAgICA8bGluayByZWw9InN0eWxlc2hlZXQiIGhyZWY9Imh0dHBzOi8vbWF4Y2RuLmJvb3RzdHJhcGNkbi5jb20vZm9udC1hd2Vzb21lLzQuNi4zL2Nzcy9mb250LWF3ZXNvbWUubWluLmNzcyIvPgogICAgPGxpbmsgcmVsPSJzdHlsZXNoZWV0IiBocmVmPSJodHRwczovL2NkbmpzLmNsb3VkZmxhcmUuY29tL2FqYXgvbGlicy9MZWFmbGV0LmF3ZXNvbWUtbWFya2Vycy8yLjAuMi9sZWFmbGV0LmF3ZXNvbWUtbWFya2Vycy5jc3MiLz4KICAgIDxsaW5rIHJlbD0ic3R5bGVzaGVldCIgaHJlZj0iaHR0cHM6Ly9yYXdjZG4uZ2l0aGFjay5jb20vcHl0aG9uLXZpc3VhbGl6YXRpb24vZm9saXVtL21hc3Rlci9mb2xpdW0vdGVtcGxhdGVzL2xlYWZsZXQuYXdlc29tZS5yb3RhdGUuY3NzIi8+CiAgICA8c3R5bGU+aHRtbCwgYm9keSB7d2lkdGg6IDEwMCU7aGVpZ2h0OiAxMDAlO21hcmdpbjogMDtwYWRkaW5nOiAwO308L3N0eWxlPgogICAgPHN0eWxlPiNtYXAge3Bvc2l0aW9uOmFic29sdXRlO3RvcDowO2JvdHRvbTowO3JpZ2h0OjA7bGVmdDowO308L3N0eWxlPgogICAgCiAgICA8bWV0YSBuYW1lPSJ2aWV3cG9ydCIgY29udGVudD0id2lkdGg9ZGV2aWNlLXdpZHRoLAogICAgICAgIGluaXRpYWwtc2NhbGU9MS4wLCBtYXhpbXVtLXNjYWxlPTEuMCwgdXNlci1zY2FsYWJsZT1ubyIgLz4KICAgIDxzdHlsZT4jbWFwX2I1NjU3MDg0NmQzMDRhZTJhYWI5NDRiOTQzOGI2N2ZiIHsKICAgICAgICBwb3NpdGlvbjogcmVsYXRpdmU7CiAgICAgICAgd2lkdGg6IDEwMC4wJTsKICAgICAgICBoZWlnaHQ6IDEwMC4wJTsKICAgICAgICBsZWZ0OiAwLjAlOwogICAgICAgIHRvcDogMC4wJTsKICAgICAgICB9CiAgICA8L3N0eWxlPgo8L2hlYWQ+Cjxib2R5PiAgICAKICAgIAogICAgPGRpdiBjbGFzcz0iZm9saXVtLW1hcCIgaWQ9Im1hcF9iNTY1NzA4NDZkMzA0YWUyYWFiOTQ0Yjk0MzhiNjdmYiIgPjwvZGl2Pgo8L2JvZHk+CjxzY3JpcHQ+ICAgIAogICAgCiAgICAKICAgICAgICB2YXIgYm91bmRzID0gbnVsbDsKICAgIAoKICAgIHZhciBtYXBfYjU2NTcwODQ2ZDMwNGFlMmFhYjk0NGI5NDM4YjY3ZmIgPSBMLm1hcCgKICAgICAgICAnbWFwX2I1NjU3MDg0NmQzMDRhZTJhYWI5NDRiOTQzOGI2N2ZiJywgewogICAgICAgIGNlbnRlcjogWzQxLjg3ODEsIC04Ny42Mjk4XSwKICAgICAgICB6b29tOiAxMCwKICAgICAgICBtYXhCb3VuZHM6IGJvdW5kcywKICAgICAgICBsYXllcnM6IFtdLAogICAgICAgIHdvcmxkQ29weUp1bXA6IGZhbHNlLAogICAgICAgIGNyczogTC5DUlMuRVBTRzM4NTcsCiAgICAgICAgem9vbUNvbnRyb2w6IHRydWUsCiAgICAgICAgfSk7CgogICAgCiAgICAKICAgIHZhciB0aWxlX2xheWVyXzE0N2FlZjg2NmEwYTQ1OTk4YTgzMzA4MTAyZjA1YjA1ID0gTC50aWxlTGF5ZXIoCiAgICAgICAgJ2h0dHBzOi8ve3N9LnRpbGUub3BlbnN0cmVldG1hcC5vcmcve3p9L3t4fS97eX0ucG5nJywKICAgICAgICB7CiAgICAgICAgImF0dHJpYnV0aW9uIjogbnVsbCwKICAgICAgICAiZGV0ZWN0UmV0aW5hIjogZmFsc2UsCiAgICAgICAgIm1heE5hdGl2ZVpvb20iOiAxOCwKICAgICAgICAibWF4Wm9vbSI6IDE4LAogICAgICAgICJtaW5ab29tIjogMCwKICAgICAgICAibm9XcmFwIjogZmFsc2UsCiAgICAgICAgIm9wYWNpdHkiOiAxLAogICAgICAgICJzdWJkb21haW5zIjogImFiYyIsCiAgICAgICAgInRtcyI6IGZhbHNlCn0pLmFkZFRvKG1hcF9iNTY1NzA4NDZkMzA0YWUyYWFiOTQ0Yjk0MzhiNjdmYik7CiAgICAKICAgICAgICAgICAgdmFyIGNpcmNsZV9tYXJrZXJfMmU0NWRiZmQ2YmM4NGYxMGJlZTk1YjUwZDg3MWJmMDcgPSBMLmNpcmNsZU1hcmtlcigKICAgICAgICAgICAgICAgIFs0Mi4zNDY2Mzc3MjU4MzAwOCwgLTg3LjgyOTU4OTg0Mzc1XSwKICAgICAgICAgICAgICAgIHsKICAiYnViYmxpbmdNb3VzZUV2ZW50cyI6IHRydWUsCiAgImNvbG9yIjogIiMzMzg4ZmYiLAogICJkYXNoQXJyYXkiOiBudWxsLAogICJkYXNoT2Zmc2V0IjogbnVsbCwKICAiZmlsbCI6IGZhbHNlLAogICJmaWxsQ29sb3IiOiAiIzMzODhmZiIsCiAgImZpbGxPcGFjaXR5IjogMC4yLAogICJmaWxsUnVsZSI6ICJldmVub2RkIiwKICAibGluZUNhcCI6ICJyb3VuZCIsCiAgImxpbmVKb2luIjogInJvdW5kIiwKICAib3BhY2l0eSI6IDEuMCwKICAicmFkaXVzIjogMiwKICAic3Ryb2tlIjogdHJ1ZSwKICAid2VpZ2h0IjogMwp9CiAgICAgICAgICAgICAgICApCiAgICAgICAgICAgICAgICAuYWRkVG8obWFwX2I1NjU3MDg0NmQzMDRhZTJhYWI5NDRiOTQzOGI2N2ZiKTsKICAgICAgICAgICAgCiAgICAKICAgICAgICAgICAgdmFyIHBvcHVwXzAwYTFlYWRhMjE4ZTQ5MzRhZDI4OGQzZjFlYmFiZGZjID0gTC5wb3B1cCh7bWF4V2lkdGg6ICczMDAnCiAgICAgICAgICAgIAogICAgICAgICAgICB9KTsKCiAgICAgICAgICAgIAogICAgICAgICAgICAgICAgdmFyIGh0bWxfMmI0MmE0NmJjNTA5NGI1Nzk1YmJmNTEzMGYxNTdlZjIgPSAkKGA8ZGl2IGlkPSJodG1sXzJiNDJhNDZiYzUwOTRiNTc5NWJiZjUxMzBmMTU3ZWYyIiBzdHlsZT0id2lkdGg6IDEwMC4wJTsgaGVpZ2h0OiAxMDAuMCU7Ij4zMDA8L2Rpdj5gKVswXTsKICAgICAgICAgICAgICAgIHBvcHVwXzAwYTFlYWRhMjE4ZTQ5MzRhZDI4OGQzZjFlYmFiZGZjLnNldENvbnRlbnQoaHRtbF8yYjQyYTQ2YmM1MDk0YjU3OTViYmY1MTMwZjE1N2VmMik7CiAgICAgICAgICAgIAoKICAgICAgICAgICAgY2lyY2xlX21hcmtlcl8yZTQ1ZGJmZDZiYzg0ZjEwYmVlOTViNTBkODcxYmYwNy5iaW5kUG9wdXAocG9wdXBfMDBhMWVhZGEyMThlNDkzNGFkMjg4ZDNmMWViYWJkZmMpCiAgICAgICAgICAgIDsKCiAgICAgICAgICAgIAogICAgICAgIAogICAgCiAgICAgICAgICAgIHZhciBjaXJjbGVfbWFya2VyXzY1ZGZjMTcxNmIxYzRkOWQ4ZTYxYzIwZmU1MDY5ZGQyID0gTC5jaXJjbGVNYXJrZXIoCiAgICAgICAgICAgICAgICBbNDEuODQ1NzI5ODI3ODgwODYsIC04Ny43MzgxNzQ0Mzg0NzY1Nl0sCiAgICAgICAgICAgICAgICB7CiAgImJ1YmJsaW5nTW91c2VFdmVudHMiOiB0cnVlLAogICJjb2xvciI6ICIjMzM4OGZmIiwKICAiZGFzaEFycmF5IjogbnVsbCwKICAiZGFzaE9mZnNldCI6IG51bGwsCiAgImZpbGwiOiBmYWxzZSwKICAiZmlsbENvbG9yIjogIiMzMzg4ZmYiLAogICJmaWxsT3BhY2l0eSI6IDAuMiwKICAiZmlsbFJ1bGUiOiAiZXZlbm9kZCIsCiAgImxpbmVDYXAiOiAicm91bmQiLAogICJsaW5lSm9pbiI6ICJyb3VuZCIsCiAgIm9wYWNpdHkiOiAxLjAsCiAgInJhZGl1cyI6IDIsCiAgInN0cm9rZSI6IHRydWUsCiAgIndlaWdodCI6IDMKfQogICAgICAgICAgICAgICAgKQogICAgICAgICAgICAgICAgLmFkZFRvKG1hcF9iNTY1NzA4NDZkMzA0YWUyYWFiOTQ0Yjk0MzhiNjdmYik7CiAgICAgICAgICAgIAogICAgCiAgICAgICAgICAgIHZhciBwb3B1cF8zOGJkZWMzYzRmNTg0M2Y4OGQ3MTA2OGZkNjk2MjUyYyA9IEwucG9wdXAoe21heFdpZHRoOiAnMzAwJwogICAgICAgICAgICAKICAgICAgICAgICAgfSk7CgogICAgICAgICAgICAKICAgICAgICAgICAgICAgIHZhciBodG1sX2UyZWE2NjVmNzI5MjQ0MTM5YTVhZDM4M2NmZTRkMDRiID0gJChgPGRpdiBpZD0iaHRtbF9lMmVhNjY1ZjcyOTI0NDEzOWE1YWQzODNjZmU0ZDA0YiIgc3R5bGU9IndpZHRoOiAxMDAuMCU7IGhlaWdodDogMTAwLjAlOyI+MzAwPC9kaXY+YClbMF07CiAgICAgICAgICAgICAgICBwb3B1cF8zOGJkZWMzYzRmNTg0M2Y4OGQ3MTA2OGZkNjk2MjUyYy5zZXRDb250ZW50KGh0bWxfZTJlYTY2NWY3MjkyNDQxMzlhNWFkMzgzY2ZlNGQwNGIpOwogICAgICAgICAgICAKCiAgICAgICAgICAgIGNpcmNsZV9tYXJrZXJfNjVkZmMxNzE2YjFjNGQ5ZDhlNjFjMjBmZTUwNjlkZDIuYmluZFBvcHVwKHBvcHVwXzM4YmRlYzNjNGY1ODQzZjg4ZDcxMDY4ZmQ2OTYyNTJjKQogICAgICAgICAgICA7CgogICAgICAgICAgICAKICAgICAgICAKICAgIAogICAgICAgICAgICB2YXIgY2lyY2xlX21hcmtlcl8wNDdmYjA5YWQxZTg0MjJkYjg2ZjY3ODAwMTc2ZDNlMyA9IEwuY2lyY2xlTWFya2VyKAogICAgICAgICAgICAgICAgWzQyLjM1MzI3OTExMzc2OTUzLCAtODcuODI4ODgwMzEwMDU4Nl0sCiAgICAgICAgICAgICAgICB7CiAgImJ1YmJsaW5nTW91c2VFdmVudHMiOiB0cnVlLAogICJjb2xvciI6ICIjMzM4OGZmIiwKICAiZGFzaEFycmF5IjogbnVsbCwKICAiZGFzaE9mZnNldCI6IG51bGwsCiAgImZpbGwiOiBmYWxzZSwKICAiZmlsbENvbG9yIjogIiMzMzg4ZmYiLAogICJmaWxsT3BhY2l0eSI6IDAuMiwKICAiZmlsbFJ1bGUiOiAiZXZlbm9kZCIsCiAgImxpbmVDYXAiOiAicm91bmQiLAogICJsaW5lSm9pbiI6ICJyb3VuZCIsCiAgIm9wYWNpdHkiOiAxLjAsCiAgInJhZGl1cyI6IDIsCiAgInN0cm9rZSI6IHRydWUsCiAgIndlaWdodCI6IDMKfQogICAgICAgICAgICAgICAgKQogICAgICAgICAgICAgICAgLmFkZFRvKG1hcF9iNTY1NzA4NDZkMzA0YWUyYWFiOTQ0Yjk0MzhiNjdmYik7CiAgICAgICAgICAgIAogICAgCiAgICAgICAgICAgIHZhciBwb3B1cF82YjJkM2ViODM5MTE0MTg4ODU3MTY4MGM1ZDJhMmZjOSA9IEwucG9wdXAoe21heFdpZHRoOiAnMzAwJwogICAgICAgICAgICAKICAgICAgICAgICAgfSk7CgogICAgICAgICAgICAKICAgICAgICAgICAgICAgIHZhciBodG1sX2JmZDk4MzFlNTEyYjQyZjliMDYyYjYwMzEzN2UzYTNjID0gJChgPGRpdiBpZD0iaHRtbF9iZmQ5ODMxZTUxMmI0MmY5YjA2MmI2MDMxMzdlM2EzYyIgc3R5bGU9IndpZHRoOiAxMDAuMCU7IGhlaWdodDogMTAwLjAlOyI+MzAwPC9kaXY+YClbMF07CiAgICAgICAgICAgICAgICBwb3B1cF82YjJkM2ViODM5MTE0MTg4ODU3MTY4MGM1ZDJhMmZjOS5zZXRDb250ZW50KGh0bWxfYmZkOTgzMWU1MTJiNDJmOWIwNjJiNjAzMTM3ZTNhM2MpOwogICAgICAgICAgICAKCiAgICAgICAgICAgIGNpcmNsZV9tYXJrZXJfMDQ3ZmIwOWFkMWU4NDIyZGI4NmY2NzgwMDE3NmQzZTMuYmluZFBvcHVwKHBvcHVwXzZiMmQzZWI4MzkxMTQxODg4NTcxNjgwYzVkMmEyZmM5KQogICAgICAgICAgICA7CgogICAgICAgICAgICAKICAgICAgICAKICAgIAogICAgICAgICAgICB2YXIgY2lyY2xlX21hcmtlcl8yZmRkNTM5NzEwZDk0ZDk1YmQ1YTI4YzQzZTVlMGU2ZSA9IEwuY2lyY2xlTWFya2VyKAogICAgICAgICAgICAgICAgWzQxLjg0NzE2Nzk2ODc1LCAtODcuNzMyMDAyMjU4MzAwNzhdLAogICAgICAgICAgICAgICAgewogICJidWJibGluZ01vdXNlRXZlbnRzIjogdHJ1ZSwKICAiY29sb3IiOiAiIzMzODhmZiIsCiAgImRhc2hBcnJheSI6IG51bGwsCiAgImRhc2hPZmZzZXQiOiBudWxsLAogICJmaWxsIjogZmFsc2UsCiAgImZpbGxDb2xvciI6ICIjMzM4OGZmIiwKICAiZmlsbE9wYWNpdHkiOiAwLjIsCiAgImZpbGxSdWxlIjogImV2ZW5vZGQiLAogICJsaW5lQ2FwIjogInJvdW5kIiwKICAibGluZUpvaW4iOiAicm91bmQiLAogICJvcGFjaXR5IjogMS4wLAogICJyYWRpdXMiOiAyLAogICJzdHJva2UiOiB0cnVlLAogICJ3ZWlnaHQiOiAzCn0KICAgICAgICAgICAgICAgICkKICAgICAgICAgICAgICAgIC5hZGRUbyhtYXBfYjU2NTcwODQ2ZDMwNGFlMmFhYjk0NGI5NDM4YjY3ZmIpOwogICAgICAgICAgICAKICAgIAogICAgICAgICAgICB2YXIgcG9wdXBfZTc3NTA2N2ZlNWI3NDMzMmI2OWU5NzU4ZDBkYTE1YTkgPSBMLnBvcHVwKHttYXhXaWR0aDogJzMwMCcKICAgICAgICAgICAgCiAgICAgICAgICAgIH0pOwoKICAgICAgICAgICAgCiAgICAgICAgICAgICAgICB2YXIgaHRtbF9jMDAyMTg4YTIzZjE0NGQzOTAxNDc2YTE4MDE4NzVlOSA9ICQoYDxkaXYgaWQ9Imh0bWxfYzAwMjE4OGEyM2YxNDRkMzkwMTQ3NmExODAxODc1ZTkiIHN0eWxlPSJ3aWR0aDogMTAwLjAlOyBoZWlnaHQ6IDEwMC4wJTsiPjMwMDwvZGl2PmApWzBdOwogICAgICAgICAgICAgICAgcG9wdXBfZTc3NTA2N2ZlNWI3NDMzMmI2OWU5NzU4ZDBkYTE1YTkuc2V0Q29udGVudChodG1sX2MwMDIxODhhMjNmMTQ0ZDM5MDE0NzZhMTgwMTg3NWU5KTsKICAgICAgICAgICAgCgogICAgICAgICAgICBjaXJjbGVfbWFya2VyXzJmZGQ1Mzk3MTBkOTRkOTViZDVhMjhjNDNlNWUwZTZlLmJpbmRQb3B1cChwb3B1cF9lNzc1MDY3ZmU1Yjc0MzMyYjY5ZTk3NThkMGRhMTVhOSkKICAgICAgICAgICAgOwoKICAgICAgICAgICAgCiAgICAgICAgCiAgICAKICAgICAgICAgICAgdmFyIGNpcmNsZV9tYXJrZXJfYzg4OWUwODVmM2UzNDk0ZmIwZWJlMGQ2MzM2M2QyYjAgPSBMLmNpcmNsZU1hcmtlcigKICAgICAgICAgICAgICAgIFs0Mi4zNTY0ODM0NTk0NzI2NTYsIC04Ny44Mjg1NDQ2MTY2OTkyMl0sCiAgICAgICAgICAgICAgICB7CiAgImJ1YmJsaW5nTW91c2VFdmVudHMiOiB0cnVlLAogICJjb2xvciI6ICIjMzM4OGZmIiwKICAiZGFzaEFycmF5IjogbnVsbCwKICAiZGFzaE9mZnNldCI6IG51bGwsCiAgImZpbGwiOiBmYWxzZSwKICAiZmlsbENvbG9yIjogIiMzMzg4ZmYiLAogICJmaWxsT3BhY2l0eSI6IDAuMiwKICAiZmlsbFJ1bGUiOiAiZXZlbm9kZCIsCiAgImxpbmVDYXAiOiAicm91bmQiLAogICJsaW5lSm9pbiI6ICJyb3VuZCIsCiAgIm9wYWNpdHkiOiAxLjAsCiAgInJhZGl1cyI6IDIsCiAgInN0cm9rZSI6IHRydWUsCiAgIndlaWdodCI6IDMKfQogICAgICAgICAgICAgICAgKQogICAgICAgICAgICAgICAgLmFkZFRvKG1hcF9iNTY1NzA4NDZkMzA0YWUyYWFiOTQ0Yjk0MzhiNjdmYik7CiAgICAgICAgICAgIAogICAgCiAgICAgICAgICAgIHZhciBwb3B1cF81YTQ5NjAzYWIyMWY0ZDExODJmNmQ2MTQ5ZGRlZGU5YSA9IEwucG9wdXAoe21heFdpZHRoOiAnMzAwJwogICAgICAgICAgICAKICAgICAgICAgICAgfSk7CgogICAgICAgICAgICAKICAgICAgICAgICAgICAgIHZhciBodG1sX2RkYjU1MDZmZjM2ZjRkN2M5OWM4NWJkNmE2N2QyNjljID0gJChgPGRpdiBpZD0iaHRtbF9kZGI1NTA2ZmYzNmY0ZDdjOTljODViZDZhNjdkMjY5YyIgc3R5bGU9IndpZHRoOiAxMDAuMCU7IGhlaWdodDogMTAwLjAlOyI+MzAwPC9kaXY+YClbMF07CiAgICAgICAgICAgICAgICBwb3B1cF81YTQ5NjAzYWIyMWY0ZDExODJmNmQ2MTQ5ZGRlZGU5YS5zZXRDb250ZW50KGh0bWxfZGRiNTUwNmZmMzZmNGQ3Yzk5Yzg1YmQ2YTY3ZDI2OWMpOwogICAgICAgICAgICAKCiAgICAgICAgICAgIGNpcmNsZV9tYXJrZXJfYzg4OWUwODVmM2UzNDk0ZmIwZWJlMGQ2MzM2M2QyYjAuYmluZFBvcHVwKHBvcHVwXzVhNDk2MDNhYjIxZjRkMTE4MmY2ZDYxNDlkZGVkZTlhKQogICAgICAgICAgICA7CgogICAgICAgICAgICAKICAgICAgICAKICAgIAogICAgICAgICAgICB2YXIgY2lyY2xlX21hcmtlcl83OGUyYmU4NGI2YTI0OWIyODYzY2IwZGRmZjdmNTllMSA9IEwuY2lyY2xlTWFya2VyKAogICAgICAgICAgICAgICAgWzQxLjg0ODc3Nzc3MDk5NjA5NCwgLTg3LjcyNDgwNzczOTI1NzgxXSwKICAgICAgICAgICAgICAgIHsKICAiYnViYmxpbmdNb3VzZUV2ZW50cyI6IHRydWUsCiAgImNvbG9yIjogIiMzMzg4ZmYiLAogICJkYXNoQXJyYXkiOiBudWxsLAogICJkYXNoT2Zmc2V0IjogbnVsbCwKICAiZmlsbCI6IGZhbHNlLAogICJmaWxsQ29sb3IiOiAiIzMzODhmZiIsCiAgImZpbGxPcGFjaXR5IjogMC4yLAogICJmaWxsUnVsZSI6ICJldmVub2RkIiwKICAibGluZUNhcCI6ICJyb3VuZCIsCiAgImxpbmVKb2luIjogInJvdW5kIiwKICAib3BhY2l0eSI6IDEuMCwKICAicmFkaXVzIjogMiwKICAic3Ryb2tlIjogdHJ1ZSwKICAid2VpZ2h0IjogMwp9CiAgICAgICAgICAgICAgICApCiAgICAgICAgICAgICAgICAuYWRkVG8obWFwX2I1NjU3MDg0NmQzMDRhZTJhYWI5NDRiOTQzOGI2N2ZiKTsKICAgICAgICAgICAgCiAgICAKICAgICAgICAgICAgdmFyIHBvcHVwXzk2ZjA2Yzk1OTBlODQ2NGRhODkzZTM1MGY0MjZiMzVmID0gTC5wb3B1cCh7bWF4V2lkdGg6ICczMDAnCiAgICAgICAgICAgIAogICAgICAgICAgICB9KTsKCiAgICAgICAgICAgIAogICAgICAgICAgICAgICAgdmFyIGh0bWxfYTcyZDdiYTk2ODY1NDY4OGE5ZGNkMGRmZTk1OTY3OTMgPSAkKGA8ZGl2IGlkPSJodG1sX2E3MmQ3YmE5Njg2NTQ2ODhhOWRjZDBkZmU5NTk2NzkzIiBzdHlsZT0id2lkdGg6IDEwMC4wJTsgaGVpZ2h0OiAxMDAuMCU7Ij4yNDA8L2Rpdj5gKVswXTsKICAgICAgICAgICAgICAgIHBvcHVwXzk2ZjA2Yzk1OTBlODQ2NGRhODkzZTM1MGY0MjZiMzVmLnNldENvbnRlbnQoaHRtbF9hNzJkN2JhOTY4NjU0Njg4YTlkY2QwZGZlOTU5Njc5Myk7CiAgICAgICAgICAgIAoKICAgICAgICAgICAgY2lyY2xlX21hcmtlcl83OGUyYmU4NGI2YTI0OWIyODYzY2IwZGRmZjdmNTllMS5iaW5kUG9wdXAocG9wdXBfOTZmMDZjOTU5MGU4NDY0ZGE4OTNlMzUwZjQyNmIzNWYpCiAgICAgICAgICAgIDsKCiAgICAgICAgICAgIAogICAgICAgIAogICAgCiAgICAgICAgICAgIHZhciBjaXJjbGVfbWFya2VyXzZmYWFiNGFmZmRjMDQzZGI4MzhmMWQxM2JmMmFkNGY0ID0gTC5jaXJjbGVNYXJrZXIoCiAgICAgICAgICAgICAgICBbNDIuMzU3ODU2NzUwNDg4MjgsIC04Ny44MjgzOTIwMjg4MDg2XSwKICAgICAgICAgICAgICAgIHsKICAiYnViYmxpbmdNb3VzZUV2ZW50cyI6IHRydWUsCiAgImNvbG9yIjogIiMzMzg4ZmYiLAogICJkYXNoQXJyYXkiOiBudWxsLAogICJkYXNoT2Zmc2V0IjogbnVsbCwKICAiZmlsbCI6IGZhbHNlLAogICJmaWxsQ29sb3IiOiAiIzMzODhmZiIsCiAgImZpbGxPcGFjaXR5IjogMC4yLAogICJmaWxsUnVsZSI6ICJldmVub2RkIiwKICAibGluZUNhcCI6ICJyb3VuZCIsCiAgImxpbmVKb2luIjogInJvdW5kIiwKICAib3BhY2l0eSI6IDEuMCwKICAicmFkaXVzIjogMiwKICAic3Ryb2tlIjogdHJ1ZSwKICAid2VpZ2h0IjogMwp9CiAgICAgICAgICAgICAgICApCiAgICAgICAgICAgICAgICAuYWRkVG8obWFwX2I1NjU3MDg0NmQzMDRhZTJhYWI5NDRiOTQzOGI2N2ZiKTsKICAgICAgICAgICAgCiAgICAKICAgICAgICAgICAgdmFyIHBvcHVwXzk2YmZkMGQxOTZlNzQzZmNhNDljNDc5ZmQ4YjUzZjM3ID0gTC5wb3B1cCh7bWF4V2lkdGg6ICczMDAnCiAgICAgICAgICAgIAogICAgICAgICAgICB9KTsKCiAgICAgICAgICAgIAogICAgICAgICAgICAgICAgdmFyIGh0bWxfYWNiOGM3ZmE5YjNlNDQ4N2EwOTU4OGVkODk2ZTIzZmUgPSAkKGA8ZGl2IGlkPSJodG1sX2FjYjhjN2ZhOWIzZTQ0ODdhMDk1ODhlZDg5NmUyM2ZlIiBzdHlsZT0id2lkdGg6IDEwMC4wJTsgaGVpZ2h0OiAxMDAuMCU7Ij4zMDA8L2Rpdj5gKVswXTsKICAgICAgICAgICAgICAgIHBvcHVwXzk2YmZkMGQxOTZlNzQzZmNhNDljNDc5ZmQ4YjUzZjM3LnNldENvbnRlbnQoaHRtbF9hY2I4YzdmYTliM2U0NDg3YTA5NTg4ZWQ4OTZlMjNmZSk7CiAgICAgICAgICAgIAoKICAgICAgICAgICAgY2lyY2xlX21hcmtlcl82ZmFhYjRhZmZkYzA0M2RiODM4ZjFkMTNiZjJhZDRmNC5iaW5kUG9wdXAocG9wdXBfOTZiZmQwZDE5NmU3NDNmY2E0OWM0NzlmZDhiNTNmMzcpCiAgICAgICAgICAgIDsKCiAgICAgICAgICAgIAogICAgICAgIAogICAgCiAgICAgICAgICAgIHZhciBjaXJjbGVfbWFya2VyXzY0YjIxYWNkMGI0YzRlY2U5YjhhMzY3MDBmODFmNmVhID0gTC5jaXJjbGVNYXJrZXIoCiAgICAgICAgICAgICAgICBbNDEuODUwNDUyNDIzMDk1NywgLTg3LjcxNzIzMTc1MDQ4ODI4XSwKICAgICAgICAgICAgICAgIHsKICAiYnViYmxpbmdNb3VzZUV2ZW50cyI6IHRydWUsCiAgImNvbG9yIjogIiMzMzg4ZmYiLAogICJkYXNoQXJyYXkiOiBudWxsLAogICJkYXNoT2Zmc2V0IjogbnVsbCwKICAiZmlsbCI6IGZhbHNlLAogICJmaWxsQ29sb3IiOiAiIzMzODhmZiIsCiAgImZpbGxPcGFjaXR5IjogMC4yLAogICJmaWxsUnVsZSI6ICJldmVub2RkIiwKICAibGluZUNhcCI6ICJyb3VuZCIsCiAgImxpbmVKb2luIjogInJvdW5kIiwKICAib3BhY2l0eSI6IDEuMCwKICAicmFkaXVzIjogMiwKICAic3Ryb2tlIjogdHJ1ZSwKICAid2VpZ2h0IjogMwp9CiAgICAgICAgICAgICAgICApCiAgICAgICAgICAgICAgICAuYWRkVG8obWFwX2I1NjU3MDg0NmQzMDRhZTJhYWI5NDRiOTQzOGI2N2ZiKTsKICAgICAgICAgICAgCiAgICAKICAgICAgICAgICAgdmFyIHBvcHVwXzRjZTc1MTU1NzU3OTQxN2U4NmM5YTA5MWUzMzZmNWRjID0gTC5wb3B1cCh7bWF4V2lkdGg6ICczMDAnCiAgICAgICAgICAgIAogICAgICAgICAgICB9KTsKCiAgICAgICAgICAgIAogICAgICAgICAgICAgICAgdmFyIGh0bWxfNDY1OTAzZTg3ZGQ3NGU4OTkwZTRlZDZkZWNmNDZlMmMgPSAkKGA8ZGl2IGlkPSJodG1sXzQ2NTkwM2U4N2RkNzRlODk5MGU0ZWQ2ZGVjZjQ2ZTJjIiBzdHlsZT0id2lkdGg6IDEwMC4wJTsgaGVpZ2h0OiAxMDAuMCU7Ij4yNDA8L2Rpdj5gKVswXTsKICAgICAgICAgICAgICAgIHBvcHVwXzRjZTc1MTU1NzU3OTQxN2U4NmM5YTA5MWUzMzZmNWRjLnNldENvbnRlbnQoaHRtbF80NjU5MDNlODdkZDc0ZTg5OTBlNGVkNmRlY2Y0NmUyYyk7CiAgICAgICAgICAgIAoKICAgICAgICAgICAgY2lyY2xlX21hcmtlcl82NGIyMWFjZDBiNGM0ZWNlOWI4YTM2NzAwZjgxZjZlYS5iaW5kUG9wdXAocG9wdXBfNGNlNzUxNTU3NTc5NDE3ZTg2YzlhMDkxZTMzNmY1ZGMpCiAgICAgICAgICAgIDsKCiAgICAgICAgICAgIAogICAgICAgIAogICAgCiAgICAgICAgICAgIHZhciBjaXJjbGVfbWFya2VyX2JjMzlhNmU5MmU4MDQ2YWI4YTkzZmE4NTE3NTk5MWUyID0gTC5jaXJjbGVNYXJrZXIoCiAgICAgICAgICAgICAgICBbNDIuMzU3ODU2NzUwNDg4MjgsIC04Ny44MjgzOTIwMjg4MDg2XSwKICAgICAgICAgICAgICAgIHsKICAiYnViYmxpbmdNb3VzZUV2ZW50cyI6IHRydWUsCiAgImNvbG9yIjogIiMzMzg4ZmYiLAogICJkYXNoQXJyYXkiOiBudWxsLAogICJkYXNoT2Zmc2V0IjogbnVsbCwKICAiZmlsbCI6IGZhbHNlLAogICJmaWxsQ29sb3IiOiAiIzMzODhmZiIsCiAgImZpbGxPcGFjaXR5IjogMC4yLAogICJmaWxsUnVsZSI6ICJldmVub2RkIiwKICAibGluZUNhcCI6ICJyb3VuZCIsCiAgImxpbmVKb2luIjogInJvdW5kIiwKICAib3BhY2l0eSI6IDEuMCwKICAicmFkaXVzIjogMiwKICAic3Ryb2tlIjogdHJ1ZSwKICAid2VpZ2h0IjogMwp9CiAgICAgICAgICAgICAgICApCiAgICAgICAgICAgICAgICAuYWRkVG8obWFwX2I1NjU3MDg0NmQzMDRhZTJhYWI5NDRiOTQzOGI2N2ZiKTsKICAgICAgICAgICAgCiAgICAKICAgICAgICAgICAgdmFyIHBvcHVwXzFmZWI3YzQ0ZmVhYzRhNjBhM2Q0ZTYwZDYwODAzYzJkID0gTC5wb3B1cCh7bWF4V2lkdGg6ICczMDAnCiAgICAgICAgICAgIAogICAgICAgICAgICB9KTsKCiAgICAgICAgICAgIAogICAgICAgICAgICAgICAgdmFyIGh0bWxfM2Q5Njk0NTFjNGM1NDAzNWJhYzZlYmZkNmYwMzNiZTAgPSAkKGA8ZGl2IGlkPSJodG1sXzNkOTY5NDUxYzRjNTQwMzViYWM2ZWJmZDZmMDMzYmUwIiBzdHlsZT0id2lkdGg6IDEwMC4wJTsgaGVpZ2h0OiAxMDAuMCU7Ij4zMDA8L2Rpdj5gKVswXTsKICAgICAgICAgICAgICAgIHBvcHVwXzFmZWI3YzQ0ZmVhYzRhNjBhM2Q0ZTYwZDYwODAzYzJkLnNldENvbnRlbnQoaHRtbF8zZDk2OTQ1MWM0YzU0MDM1YmFjNmViZmQ2ZjAzM2JlMCk7CiAgICAgICAgICAgIAoKICAgICAgICAgICAgY2lyY2xlX21hcmtlcl9iYzM5YTZlOTJlODA0NmFiOGE5M2ZhODUxNzU5OTFlMi5iaW5kUG9wdXAocG9wdXBfMWZlYjdjNDRmZWFjNGE2MGEzZDRlNjBkNjA4MDNjMmQpCiAgICAgICAgICAgIDsKCiAgICAgICAgICAgIAogICAgICAgIAogICAgCiAgICAgICAgICAgIHZhciBjaXJjbGVfbWFya2VyX2VmYzdhYTE4YzZmOTRhM2E5NjU2ZmY0OTRlMTA5MWNhID0gTC5jaXJjbGVNYXJrZXIoCiAgICAgICAgICAgICAgICBbNDEuODUyNzY3OTQ0MzM1OTQsIC04Ny43MDY5NTQ5NTYwNTQ2OV0sCiAgICAgICAgICAgICAgICB7CiAgImJ1YmJsaW5nTW91c2VFdmVudHMiOiB0cnVlLAogICJjb2xvciI6ICIjMzM4OGZmIiwKICAiZGFzaEFycmF5IjogbnVsbCwKICAiZGFzaE9mZnNldCI6IG51bGwsCiAgImZpbGwiOiBmYWxzZSwKICAiZmlsbENvbG9yIjogIiMzMzg4ZmYiLAogICJmaWxsT3BhY2l0eSI6IDAuMiwKICAiZmlsbFJ1bGUiOiAiZXZlbm9kZCIsCiAgImxpbmVDYXAiOiAicm91bmQiLAogICJsaW5lSm9pbiI6ICJyb3VuZCIsCiAgIm9wYWNpdHkiOiAxLjAsCiAgInJhZGl1cyI6IDIsCiAgInN0cm9rZSI6IHRydWUsCiAgIndlaWdodCI6IDMKfQogICAgICAgICAgICAgICAgKQogICAgICAgICAgICAgICAgLmFkZFRvKG1hcF9iNTY1NzA4NDZkMzA0YWUyYWFiOTQ0Yjk0MzhiNjdmYik7CiAgICAgICAgICAgIAogICAgCiAgICAgICAgICAgIHZhciBwb3B1cF82N2E4MWE4OWE5YTQ0ZDQ0YTIyNTcyNDlhYzZkMGEwZCA9IEwucG9wdXAoe21heFdpZHRoOiAnMzAwJwogICAgICAgICAgICAKICAgICAgICAgICAgfSk7CgogICAgICAgICAgICAKICAgICAgICAgICAgICAgIHZhciBodG1sX2E4Yzc0NmQzYTc2MTRhMTY5M2JhMGFkN2NkODA5ZGRlID0gJChgPGRpdiBpZD0iaHRtbF9hOGM3NDZkM2E3NjE0YTE2OTNiYTBhZDdjZDgwOWRkZSIgc3R5bGU9IndpZHRoOiAxMDAuMCU7IGhlaWdodDogMTAwLjAlOyI+MTgwPC9kaXY+YClbMF07CiAgICAgICAgICAgICAgICBwb3B1cF82N2E4MWE4OWE5YTQ0ZDQ0YTIyNTcyNDlhYzZkMGEwZC5zZXRDb250ZW50KGh0bWxfYThjNzQ2ZDNhNzYxNGExNjkzYmEwYWQ3Y2Q4MDlkZGUpOwogICAgICAgICAgICAKCiAgICAgICAgICAgIGNpcmNsZV9tYXJrZXJfZWZjN2FhMThjNmY5NGEzYTk2NTZmZjQ5NGUxMDkxY2EuYmluZFBvcHVwKHBvcHVwXzY3YTgxYTg5YTlhNDRkNDRhMjI1NzI0OWFjNmQwYTBkKQogICAgICAgICAgICA7CgogICAgICAgICAgICAKICAgICAgICAKICAgIAogICAgICAgICAgICB2YXIgY2lyY2xlX21hcmtlcl82NjBhNjEwOGE0OTU0ZjcyOTY2ODQ0NWIyYWE0ZmQzNCA9IEwuY2lyY2xlTWFya2VyKAogICAgICAgICAgICAgICAgWzQyLjM1Nzg1Njc1MDQ4ODI4LCAtODcuODI4MzkyMDI4ODA4Nl0sCiAgICAgICAgICAgICAgICB7CiAgImJ1YmJsaW5nTW91c2VFdmVudHMiOiB0cnVlLAogICJjb2xvciI6ICIjMzM4OGZmIiwKICAiZGFzaEFycmF5IjogbnVsbCwKICAiZGFzaE9mZnNldCI6IG51bGwsCiAgImZpbGwiOiBmYWxzZSwKICAiZmlsbENvbG9yIjogIiMzMzg4ZmYiLAogICJmaWxsT3BhY2l0eSI6IDAuMiwKICAiZmlsbFJ1bGUiOiAiZXZlbm9kZCIsCiAgImxpbmVDYXAiOiAicm91bmQiLAogICJsaW5lSm9pbiI6ICJyb3VuZCIsCiAgIm9wYWNpdHkiOiAxLjAsCiAgInJhZGl1cyI6IDIsCiAgInN0cm9rZSI6IHRydWUsCiAgIndlaWdodCI6IDMKfQogICAgICAgICAgICAgICAgKQogICAgICAgICAgICAgICAgLmFkZFRvKG1hcF9iNTY1NzA4NDZkMzA0YWUyYWFiOTQ0Yjk0MzhiNjdmYik7CiAgICAgICAgICAgIAogICAgCiAgICAgICAgICAgIHZhciBwb3B1cF8wYTE3YjU1Y2MzYjA0N2IwYTg0ZjU2MWJlOThjNDQ1NCA9IEwucG9wdXAoe21heFdpZHRoOiAnMzAwJwogICAgICAgICAgICAKICAgICAgICAgICAgfSk7CgogICAgICAgICAgICAKICAgICAgICAgICAgICAgIHZhciBodG1sXzQ1OGY2NDExMmJkMjQ2MzViZWJjZWE5NGUwNWEzZDI5ID0gJChgPGRpdiBpZD0iaHRtbF80NThmNjQxMTJiZDI0NjM1YmViY2VhOTRlMDVhM2QyOSIgc3R5bGU9IndpZHRoOiAxMDAuMCU7IGhlaWdodDogMTAwLjAlOyI+MzAwPC9kaXY+YClbMF07CiAgICAgICAgICAgICAgICBwb3B1cF8wYTE3YjU1Y2MzYjA0N2IwYTg0ZjU2MWJlOThjNDQ1NC5zZXRDb250ZW50KGh0bWxfNDU4ZjY0MTEyYmQyNDYzNWJlYmNlYTk0ZTA1YTNkMjkpOwogICAgICAgICAgICAKCiAgICAgICAgICAgIGNpcmNsZV9tYXJrZXJfNjYwYTYxMDhhNDk1NGY3Mjk2Njg0NDViMmFhNGZkMzQuYmluZFBvcHVwKHBvcHVwXzBhMTdiNTVjYzNiMDQ3YjBhODRmNTYxYmU5OGM0NDU0KQogICAgICAgICAgICA7CgogICAgICAgICAgICAKICAgICAgICAKICAgIAogICAgICAgICAgICB2YXIgY2lyY2xlX21hcmtlcl9iN2RiY2Q4YWY5OGM0ZTVkYWY1NmNhNDRmYTZkOGIxOCA9IEwuY2lyY2xlTWFya2VyKAogICAgICAgICAgICAgICAgWzQxLjg1NDg3NzQ3MTkyMzgzLCAtODcuNjk3NTU1NTQxOTkyMTldLAogICAgICAgICAgICAgICAgewogICJidWJibGluZ01vdXNlRXZlbnRzIjogdHJ1ZSwKICAiY29sb3IiOiAiIzMzODhmZiIsCiAgImRhc2hBcnJheSI6IG51bGwsCiAgImRhc2hPZmZzZXQiOiBudWxsLAogICJmaWxsIjogZmFsc2UsCiAgImZpbGxDb2xvciI6ICIjMzM4OGZmIiwKICAiZmlsbE9wYWNpdHkiOiAwLjIsCiAgImZpbGxSdWxlIjogImV2ZW5vZGQiLAogICJsaW5lQ2FwIjogInJvdW5kIiwKICAibGluZUpvaW4iOiAicm91bmQiLAogICJvcGFjaXR5IjogMS4wLAogICJyYWRpdXMiOiAyLAogICJzdHJva2UiOiB0cnVlLAogICJ3ZWlnaHQiOiAzCn0KICAgICAgICAgICAgICAgICkKICAgICAgICAgICAgICAgIC5hZGRUbyhtYXBfYjU2NTcwODQ2ZDMwNGFlMmFhYjk0NGI5NDM4YjY3ZmIpOwogICAgICAgICAgICAKICAgIAogICAgICAgICAgICB2YXIgcG9wdXBfOWZjNzI1Y2RjNmVjNDBlYzkxNGQ2YzVlNDIyMWNjNDUgPSBMLnBvcHVwKHttYXhXaWR0aDogJzMwMCcKICAgICAgICAgICAgCiAgICAgICAgICAgIH0pOwoKICAgICAgICAgICAgCiAgICAgICAgICAgICAgICB2YXIgaHRtbF83N2ZlYmFhZWFhMzg0ZDA4YjllNjU1YTc3NThmNTFhNSA9ICQoYDxkaXYgaWQ9Imh0bWxfNzdmZWJhYWVhYTM4NGQwOGI5ZTY1NWE3NzU4ZjUxYTUiIHN0eWxlPSJ3aWR0aDogMTAwLjAlOyBoZWlnaHQ6IDEwMC4wJTsiPjEyMDwvZGl2PmApWzBdOwogICAgICAgICAgICAgICAgcG9wdXBfOWZjNzI1Y2RjNmVjNDBlYzkxNGQ2YzVlNDIyMWNjNDUuc2V0Q29udGVudChodG1sXzc3ZmViYWFlYWEzODRkMDhiOWU2NTVhNzc1OGY1MWE1KTsKICAgICAgICAgICAgCgogICAgICAgICAgICBjaXJjbGVfbWFya2VyX2I3ZGJjZDhhZjk4YzRlNWRhZjU2Y2E0NGZhNmQ4YjE4LmJpbmRQb3B1cChwb3B1cF85ZmM3MjVjZGM2ZWM0MGVjOTE0ZDZjNWU0MjIxY2M0NSkKICAgICAgICAgICAgOwoKICAgICAgICAgICAgCiAgICAgICAgCiAgICAKICAgICAgICAgICAgdmFyIGNpcmNsZV9tYXJrZXJfOTZhODZiZTE4N2UwNGFiMzkwODVkZDMyYzY5ZDA5YzEgPSBMLmNpcmNsZU1hcmtlcigKICAgICAgICAgICAgICAgIFs0MS44NTcwNTU2NjQwNjI1LCAtODcuNjg3Nzg5OTE2OTkyMTldLAogICAgICAgICAgICAgICAgewogICJidWJibGluZ01vdXNlRXZlbnRzIjogdHJ1ZSwKICAiY29sb3IiOiAiIzMzODhmZiIsCiAgImRhc2hBcnJheSI6IG51bGwsCiAgImRhc2hPZmZzZXQiOiBudWxsLAogICJmaWxsIjogZmFsc2UsCiAgImZpbGxDb2xvciI6ICIjMzM4OGZmIiwKICAiZmlsbE9wYWNpdHkiOiAwLjIsCiAgImZpbGxSdWxlIjogImV2ZW5vZGQiLAogICJsaW5lQ2FwIjogInJvdW5kIiwKICAibGluZUpvaW4iOiAicm91bmQiLAogICJvcGFjaXR5IjogMS4wLAogICJyYWRpdXMiOiAyLAogICJzdHJva2UiOiB0cnVlLAogICJ3ZWlnaHQiOiAzCn0KICAgICAgICAgICAgICAgICkKICAgICAgICAgICAgICAgIC5hZGRUbyhtYXBfYjU2NTcwODQ2ZDMwNGFlMmFhYjk0NGI5NDM4YjY3ZmIpOwogICAgICAgICAgICAKICAgIAogICAgICAgICAgICB2YXIgcG9wdXBfYjI4MGNkMmI0YmY4NDgwNmIyMGU5MDhhOTRhY2ZjZDkgPSBMLnBvcHVwKHttYXhXaWR0aDogJzMwMCcKICAgICAgICAgICAgCiAgICAgICAgICAgIH0pOwoKICAgICAgICAgICAgCiAgICAgICAgICAgICAgICB2YXIgaHRtbF8yMmYzZWY4YWEwMjY0YzY1YjZhYjRiNGY2YzM3ZWEzZCA9ICQoYDxkaXYgaWQ9Imh0bWxfMjJmM2VmOGFhMDI2NGM2NWI2YWI0YjRmNmMzN2VhM2QiIHN0eWxlPSJ3aWR0aDogMTAwLjAlOyBoZWlnaHQ6IDEwMC4wJTsiPjYwPC9kaXY+YClbMF07CiAgICAgICAgICAgICAgICBwb3B1cF9iMjgwY2QyYjRiZjg0ODA2YjIwZTkwOGE5NGFjZmNkOS5zZXRDb250ZW50KGh0bWxfMjJmM2VmOGFhMDI2NGM2NWI2YWI0YjRmNmMzN2VhM2QpOwogICAgICAgICAgICAKCiAgICAgICAgICAgIGNpcmNsZV9tYXJrZXJfOTZhODZiZTE4N2UwNGFiMzkwODVkZDMyYzY5ZDA5YzEuYmluZFBvcHVwKHBvcHVwX2IyODBjZDJiNGJmODQ4MDZiMjBlOTA4YTk0YWNmY2Q5KQogICAgICAgICAgICA7CgogICAgICAgICAgICAKICAgICAgICAKICAgIAogICAgICAgICAgICB2YXIgY2lyY2xlX21hcmtlcl9hZDJhNTY0MzZlM2E0NWJhOTJkY2JhMTQ2Y2EwYTZhYyA9IEwuY2lyY2xlTWFya2VyKAogICAgICAgICAgICAgICAgWzQxLjg1OTM1OTc0MTIxMDk0LCAtODcuNjc4NDg5Njg1MDU4Nl0sCiAgICAgICAgICAgICAgICB7CiAgImJ1YmJsaW5nTW91c2VFdmVudHMiOiB0cnVlLAogICJjb2xvciI6ICIjMzM4OGZmIiwKICAiZGFzaEFycmF5IjogbnVsbCwKICAiZGFzaE9mZnNldCI6IG51bGwsCiAgImZpbGwiOiBmYWxzZSwKICAiZmlsbENvbG9yIjogIiMzMzg4ZmYiLAogICJmaWxsT3BhY2l0eSI6IDAuMiwKICAiZmlsbFJ1bGUiOiAiZXZlbm9kZCIsCiAgImxpbmVDYXAiOiAicm91bmQiLAogICJsaW5lSm9pbiI6ICJyb3VuZCIsCiAgIm9wYWNpdHkiOiAxLjAsCiAgInJhZGl1cyI6IDIsCiAgInN0cm9rZSI6IHRydWUsCiAgIndlaWdodCI6IDMKfQogICAgICAgICAgICAgICAgKQogICAgICAgICAgICAgICAgLmFkZFRvKG1hcF9iNTY1NzA4NDZkMzA0YWUyYWFiOTQ0Yjk0MzhiNjdmYik7CiAgICAgICAgICAgIAogICAgCiAgICAgICAgICAgIHZhciBwb3B1cF9jZWIwMDMxYjdlNmI0OTQ2OWMzNjBkNDk0NGJkMzdjMSA9IEwucG9wdXAoe21heFdpZHRoOiAnMzAwJwogICAgICAgICAgICAKICAgICAgICAgICAgfSk7CgogICAgICAgICAgICAKICAgICAgICAgICAgICAgIHZhciBodG1sXzdmZjcxNTRiMGY4MzQ1OTE4NjdkZDdiYTI0MjhjNWEzID0gJChgPGRpdiBpZD0iaHRtbF83ZmY3MTU0YjBmODM0NTkxODY3ZGQ3YmEyNDI4YzVhMyIgc3R5bGU9IndpZHRoOiAxMDAuMCU7IGhlaWdodDogMTAwLjAlOyI+NjA8L2Rpdj5gKVswXTsKICAgICAgICAgICAgICAgIHBvcHVwX2NlYjAwMzFiN2U2YjQ5NDY5YzM2MGQ0OTQ0YmQzN2MxLnNldENvbnRlbnQoaHRtbF83ZmY3MTU0YjBmODM0NTkxODY3ZGQ3YmEyNDI4YzVhMyk7CiAgICAgICAgICAgIAoKICAgICAgICAgICAgY2lyY2xlX21hcmtlcl9hZDJhNTY0MzZlM2E0NWJhOTJkY2JhMTQ2Y2EwYTZhYy5iaW5kUG9wdXAocG9wdXBfY2ViMDAzMWI3ZTZiNDk0NjljMzYwZDQ5NDRiZDM3YzEpCiAgICAgICAgICAgIDsKCiAgICAgICAgICAgIAogICAgICAgIAogICAgCiAgICAgICAgICAgIHZhciBjaXJjbGVfbWFya2VyXzUzYzZmMzYwODMwZDRkZWQ4ODdjMDUzYzcyNTYyZjVkID0gTC5jaXJjbGVNYXJrZXIoCiAgICAgICAgICAgICAgICBbNDEuODYwMTU3MDEyOTM5NDUsIC04Ny42NjA1MjI0NjA5Mzc1XSwKICAgICAgICAgICAgICAgIHsKICAiYnViYmxpbmdNb3VzZUV2ZW50cyI6IHRydWUsCiAgImNvbG9yIjogIiMzMzg4ZmYiLAogICJkYXNoQXJyYXkiOiBudWxsLAogICJkYXNoT2Zmc2V0IjogbnVsbCwKICAiZmlsbCI6IGZhbHNlLAogICJmaWxsQ29sb3IiOiAiIzMzODhmZiIsCiAgImZpbGxPcGFjaXR5IjogMC4yLAogICJmaWxsUnVsZSI6ICJldmVub2RkIiwKICAibGluZUNhcCI6ICJyb3VuZCIsCiAgImxpbmVKb2luIjogInJvdW5kIiwKICAib3BhY2l0eSI6IDEuMCwKICAicmFkaXVzIjogMiwKICAic3Ryb2tlIjogdHJ1ZSwKICAid2VpZ2h0IjogMwp9CiAgICAgICAgICAgICAgICApCiAgICAgICAgICAgICAgICAuYWRkVG8obWFwX2I1NjU3MDg0NmQzMDRhZTJhYWI5NDRiOTQzOGI2N2ZiKTsKICAgICAgICAgICAgCiAgICAKICAgICAgICAgICAgdmFyIHBvcHVwX2YzN2FkZDU4ODQ5MTRlM2I5NzIzNjA1OTExZDMwZDcwID0gTC5wb3B1cCh7bWF4V2lkdGg6ICczMDAnCiAgICAgICAgICAgIAogICAgICAgICAgICB9KTsKCiAgICAgICAgICAgIAogICAgICAgICAgICAgICAgdmFyIGh0bWxfZjhkZjg2NjI5NTFjNDY5OTk0NmNhNmM2MmJmMzJjZWQgPSAkKGA8ZGl2IGlkPSJodG1sX2Y4ZGY4NjYyOTUxYzQ2OTk5NDZjYTZjNjJiZjMyY2VkIiBzdHlsZT0id2lkdGg6IDEwMC4wJTsgaGVpZ2h0OiAxMDAuMCU7Ij4wPC9kaXY+YClbMF07CiAgICAgICAgICAgICAgICBwb3B1cF9mMzdhZGQ1ODg0OTE0ZTNiOTcyMzYwNTkxMWQzMGQ3MC5zZXRDb250ZW50KGh0bWxfZjhkZjg2NjI5NTFjNDY5OTk0NmNhNmM2MmJmMzJjZWQpOwogICAgICAgICAgICAKCiAgICAgICAgICAgIGNpcmNsZV9tYXJrZXJfNTNjNmYzNjA4MzBkNGRlZDg4N2MwNTNjNzI1NjJmNWQuYmluZFBvcHVwKHBvcHVwX2YzN2FkZDU4ODQ5MTRlM2I5NzIzNjA1OTExZDMwZDcwKQogICAgICAgICAgICA7CgogICAgICAgICAgICAKICAgICAgICAKICAgIAogICAgICAgICAgICB2YXIgY2lyY2xlX21hcmtlcl82NWVkNjc5NTcyNTU0MGY1OWUxOThjODI3MjdjOWUzZSA9IEwuY2lyY2xlTWFya2VyKAogICAgICAgICAgICAgICAgWzQxLjg2MDQxMjU5NzY1NjI1LCAtODcuNjUzMTYwMDk1MjE0ODRdLAogICAgICAgICAgICAgICAgewogICJidWJibGluZ01vdXNlRXZlbnRzIjogdHJ1ZSwKICAiY29sb3IiOiAiIzMzODhmZiIsCiAgImRhc2hBcnJheSI6IG51bGwsCiAgImRhc2hPZmZzZXQiOiBudWxsLAogICJmaWxsIjogZmFsc2UsCiAgImZpbGxDb2xvciI6ICIjMzM4OGZmIiwKICAiZmlsbE9wYWNpdHkiOiAwLjIsCiAgImZpbGxSdWxlIjogImV2ZW5vZGQiLAogICJsaW5lQ2FwIjogInJvdW5kIiwKICAibGluZUpvaW4iOiAicm91bmQiLAogICJvcGFjaXR5IjogMS4wLAogICJyYWRpdXMiOiAyLAogICJzdHJva2UiOiB0cnVlLAogICJ3ZWlnaHQiOiAzCn0KICAgICAgICAgICAgICAgICkKICAgICAgICAgICAgICAgIC5hZGRUbyhtYXBfYjU2NTcwODQ2ZDMwNGFlMmFhYjk0NGI5NDM4YjY3ZmIpOwogICAgICAgICAgICAKICAgIAogICAgICAgICAgICB2YXIgcG9wdXBfNzk0NTgyMTVmZDJjNDI5MTg2NWU5Nzc1MDYwNGU1MGQgPSBMLnBvcHVwKHttYXhXaWR0aDogJzMwMCcKICAgICAgICAgICAgCiAgICAgICAgICAgIH0pOwoKICAgICAgICAgICAgCiAgICAgICAgICAgICAgICB2YXIgaHRtbF8xYzBlNzFhNzM0MGY0NmE4OWRmZDZiNTQ5MzA3ZmEwNSA9ICQoYDxkaXYgaWQ9Imh0bWxfMWMwZTcxYTczNDBmNDZhODlkZmQ2YjU0OTMwN2ZhMDUiIHN0eWxlPSJ3aWR0aDogMTAwLjAlOyBoZWlnaHQ6IDEwMC4wJTsiPjA8L2Rpdj5gKVswXTsKICAgICAgICAgICAgICAgIHBvcHVwXzc5NDU4MjE1ZmQyYzQyOTE4NjVlOTc3NTA2MDRlNTBkLnNldENvbnRlbnQoaHRtbF8xYzBlNzFhNzM0MGY0NmE4OWRmZDZiNTQ5MzA3ZmEwNSk7CiAgICAgICAgICAgIAoKICAgICAgICAgICAgY2lyY2xlX21hcmtlcl82NWVkNjc5NTcyNTU0MGY1OWUxOThjODI3MjdjOWUzZS5iaW5kUG9wdXAocG9wdXBfNzk0NTgyMTVmZDJjNDI5MTg2NWU5Nzc1MDYwNGU1MGQpCiAgICAgICAgICAgIDsKCiAgICAgICAgICAgIAogICAgICAgIAogICAgCiAgICAgICAgICAgIHZhciBjaXJjbGVfbWFya2VyXzdiYTgyYjkzMmJhMTQxMjI4YWJmMGU0MDFmNjkyYWQ5ID0gTC5jaXJjbGVNYXJrZXIoCiAgICAgICAgICAgICAgICBbNDEuODYwNDM5MzAwNTM3MTEsIC04Ny42NDU4ODkyODIyMjY1Nl0sCiAgICAgICAgICAgICAgICB7CiAgImJ1YmJsaW5nTW91c2VFdmVudHMiOiB0cnVlLAogICJjb2xvciI6ICIjMzM4OGZmIiwKICAiZGFzaEFycmF5IjogbnVsbCwKICAiZGFzaE9mZnNldCI6IG51bGwsCiAgImZpbGwiOiBmYWxzZSwKICAiZmlsbENvbG9yIjogIiMzMzg4ZmYiLAogICJmaWxsT3BhY2l0eSI6IDAuMiwKICAiZmlsbFJ1bGUiOiAiZXZlbm9kZCIsCiAgImxpbmVDYXAiOiAicm91bmQiLAogICJsaW5lSm9pbiI6ICJyb3VuZCIsCiAgIm9wYWNpdHkiOiAxLjAsCiAgInJhZGl1cyI6IDIsCiAgInN0cm9rZSI6IHRydWUsCiAgIndlaWdodCI6IDMKfQogICAgICAgICAgICAgICAgKQogICAgICAgICAgICAgICAgLmFkZFRvKG1hcF9iNTY1NzA4NDZkMzA0YWUyYWFiOTQ0Yjk0MzhiNjdmYik7CiAgICAgICAgICAgIAogICAgCiAgICAgICAgICAgIHZhciBwb3B1cF82Y2EyNjAwYTQxNTk0ZjkzYjlkNzZmZWQ4MWZhNWEwNCA9IEwucG9wdXAoe21heFdpZHRoOiAnMzAwJwogICAgICAgICAgICAKICAgICAgICAgICAgfSk7CgogICAgICAgICAgICAKICAgICAgICAgICAgICAgIHZhciBodG1sX2Y3YzVmNTU0M2QzYjRmNjhiMmFlOTA1OGI2NmUwOTEwID0gJChgPGRpdiBpZD0iaHRtbF9mN2M1ZjU1NDNkM2I0ZjY4YjJhZTkwNThiNjZlMDkxMCIgc3R5bGU9IndpZHRoOiAxMDAuMCU7IGhlaWdodDogMTAwLjAlOyI+MDwvZGl2PmApWzBdOwogICAgICAgICAgICAgICAgcG9wdXBfNmNhMjYwMGE0MTU5NGY5M2I5ZDc2ZmVkODFmYTVhMDQuc2V0Q29udGVudChodG1sX2Y3YzVmNTU0M2QzYjRmNjhiMmFlOTA1OGI2NmUwOTEwKTsKICAgICAgICAgICAgCgogICAgICAgICAgICBjaXJjbGVfbWFya2VyXzdiYTgyYjkzMmJhMTQxMjI4YWJmMGU0MDFmNjkyYWQ5LmJpbmRQb3B1cChwb3B1cF82Y2EyNjAwYTQxNTk0ZjkzYjlkNzZmZWQ4MWZhNWEwNCkKICAgICAgICAgICAgOwoKICAgICAgICAgICAgCiAgICAgICAgCiAgICAKICAgICAgICAgICAgdmFyIGNpcmNsZV9tYXJrZXJfZDg1MjIzNDE4YWU4NDc5N2FjMGI5Y2M5MjBmNTVkZjUgPSBMLmNpcmNsZU1hcmtlcigKICAgICAgICAgICAgICAgIFs0MS44NjAzNzA2MzU5ODYzMywgLTg3LjY0MDY2MzE0Njk3MjY2XSwKICAgICAgICAgICAgICAgIHsKICAiYnViYmxpbmdNb3VzZUV2ZW50cyI6IHRydWUsCiAgImNvbG9yIjogIiMzMzg4ZmYiLAogICJkYXNoQXJyYXkiOiBudWxsLAogICJkYXNoT2Zmc2V0IjogbnVsbCwKICAiZmlsbCI6IGZhbHNlLAogICJmaWxsQ29sb3IiOiAiIzMzODhmZiIsCiAgImZpbGxPcGFjaXR5IjogMC4yLAogICJmaWxsUnVsZSI6ICJldmVub2RkIiwKICAibGluZUNhcCI6ICJyb3VuZCIsCiAgImxpbmVKb2luIjogInJvdW5kIiwKICAib3BhY2l0eSI6IDEuMCwKICAicmFkaXVzIjogMiwKICAic3Ryb2tlIjogdHJ1ZSwKICAid2VpZ2h0IjogMwp9CiAgICAgICAgICAgICAgICApCiAgICAgICAgICAgICAgICAuYWRkVG8obWFwX2I1NjU3MDg0NmQzMDRhZTJhYWI5NDRiOTQzOGI2N2ZiKTsKICAgICAgICAgICAgCiAgICAKICAgICAgICAgICAgdmFyIHBvcHVwX2U4NGFmYzk2OWIzMTQ0NjE5ZTRhNTA5OGJkMzllMjYzID0gTC5wb3B1cCh7bWF4V2lkdGg6ICczMDAnCiAgICAgICAgICAgIAogICAgICAgICAgICB9KTsKCiAgICAgICAgICAgIAogICAgICAgICAgICAgICAgdmFyIGh0bWxfYzQ5MWJhNTFlMTJmNDFlYzk4OWRhM2RjN2U2OTMxYWQgPSAkKGA8ZGl2IGlkPSJodG1sX2M0OTFiYTUxZTEyZjQxZWM5ODlkYTNkYzdlNjkzMWFkIiBzdHlsZT0id2lkdGg6IDEwMC4wJTsgaGVpZ2h0OiAxMDAuMCU7Ij4wPC9kaXY+YClbMF07CiAgICAgICAgICAgICAgICBwb3B1cF9lODRhZmM5NjliMzE0NDYxOWU0YTUwOThiZDM5ZTI2My5zZXRDb250ZW50KGh0bWxfYzQ5MWJhNTFlMTJmNDFlYzk4OWRhM2RjN2U2OTMxYWQpOwogICAgICAgICAgICAKCiAgICAgICAgICAgIGNpcmNsZV9tYXJrZXJfZDg1MjIzNDE4YWU4NDc5N2FjMGI5Y2M5MjBmNTVkZjUuYmluZFBvcHVwKHBvcHVwX2U4NGFmYzk2OWIzMTQ0NjE5ZTRhNTA5OGJkMzllMjYzKQogICAgICAgICAgICA7CgogICAgICAgICAgICAKICAgICAgICAKICAgIAogICAgICAgICAgICB2YXIgY2lyY2xlX21hcmtlcl9mZmNjOWI0YTAxZjI0YzQzYTlmM2JjY2NjOTg4MjYwZSA9IEwuY2lyY2xlTWFya2VyKAogICAgICAgICAgICAgICAgWzQxLjg2MDgzOTg0Mzc1LCAtODcuNjM3NjM0Mjc3MzQzNzVdLAogICAgICAgICAgICAgICAgewogICJidWJibGluZ01vdXNlRXZlbnRzIjogdHJ1ZSwKICAiY29sb3IiOiAiIzMzODhmZiIsCiAgImRhc2hBcnJheSI6IG51bGwsCiAgImRhc2hPZmZzZXQiOiBudWxsLAogICJmaWxsIjogZmFsc2UsCiAgImZpbGxDb2xvciI6ICIjMzM4OGZmIiwKICAiZmlsbE9wYWNpdHkiOiAwLjIsCiAgImZpbGxSdWxlIjogImV2ZW5vZGQiLAogICJsaW5lQ2FwIjogInJvdW5kIiwKICAibGluZUpvaW4iOiAicm91bmQiLAogICJvcGFjaXR5IjogMS4wLAogICJyYWRpdXMiOiAyLAogICJzdHJva2UiOiB0cnVlLAogICJ3ZWlnaHQiOiAzCn0KICAgICAgICAgICAgICAgICkKICAgICAgICAgICAgICAgIC5hZGRUbyhtYXBfYjU2NTcwODQ2ZDMwNGFlMmFhYjk0NGI5NDM4YjY3ZmIpOwogICAgICAgICAgICAKICAgIAogICAgICAgICAgICB2YXIgcG9wdXBfZDdkZTY3ZTllOWRjNDkwMTk1NjljZGFkMjhmY2ZiMWUgPSBMLnBvcHVwKHttYXhXaWR0aDogJzMwMCcKICAgICAgICAgICAgCiAgICAgICAgICAgIH0pOwoKICAgICAgICAgICAgCiAgICAgICAgICAgICAgICB2YXIgaHRtbF9hZjI3Zjg1ZWYzZTE0ZTYxYTdiMzM1ZTAyYTM5N2MzMSA9ICQoYDxkaXYgaWQ9Imh0bWxfYWYyN2Y4NWVmM2UxNGU2MWE3YjMzNWUwMmEzOTdjMzEiIHN0eWxlPSJ3aWR0aDogMTAwLjAlOyBoZWlnaHQ6IDEwMC4wJTsiPjA8L2Rpdj5gKVswXTsKICAgICAgICAgICAgICAgIHBvcHVwX2Q3ZGU2N2U5ZTlkYzQ5MDE5NTY5Y2RhZDI4ZmNmYjFlLnNldENvbnRlbnQoaHRtbF9hZjI3Zjg1ZWYzZTE0ZTYxYTdiMzM1ZTAyYTM5N2MzMSk7CiAgICAgICAgICAgIAoKICAgICAgICAgICAgY2lyY2xlX21hcmtlcl9mZmNjOWI0YTAxZjI0YzQzYTlmM2JjY2NjOTg4MjYwZS5iaW5kUG9wdXAocG9wdXBfZDdkZTY3ZTllOWRjNDkwMTk1NjljZGFkMjhmY2ZiMWUpCiAgICAgICAgICAgIDsKCiAgICAgICAgICAgIAogICAgICAgIAogICAgCiAgICAgICAgICAgIHZhciBjaXJjbGVfbWFya2VyX2RkODMzY2FkMDQ2NzQxNTc5ZGU3OTkzNGQ4MmQ3MTcyID0gTC5jaXJjbGVNYXJrZXIoCiAgICAgICAgICAgICAgICBbNDEuODYzODExNDkyOTE5OTIsIC04Ny42MzcxMjMxMDc5MTAxNl0sCiAgICAgICAgICAgICAgICB7CiAgImJ1YmJsaW5nTW91c2VFdmVudHMiOiB0cnVlLAogICJjb2xvciI6ICIjMzM4OGZmIiwKICAiZGFzaEFycmF5IjogbnVsbCwKICAiZGFzaE9mZnNldCI6IG51bGwsCiAgImZpbGwiOiBmYWxzZSwKICAiZmlsbENvbG9yIjogIiMzMzg4ZmYiLAogICJmaWxsT3BhY2l0eSI6IDAuMiwKICAiZmlsbFJ1bGUiOiAiZXZlbm9kZCIsCiAgImxpbmVDYXAiOiAicm91bmQiLAogICJsaW5lSm9pbiI6ICJyb3VuZCIsCiAgIm9wYWNpdHkiOiAxLjAsCiAgInJhZGl1cyI6IDIsCiAgInN0cm9rZSI6IHRydWUsCiAgIndlaWdodCI6IDMKfQogICAgICAgICAgICAgICAgKQogICAgICAgICAgICAgICAgLmFkZFRvKG1hcF9iNTY1NzA4NDZkMzA0YWUyYWFiOTQ0Yjk0MzhiNjdmYik7CiAgICAgICAgICAgIAogICAgCiAgICAgICAgICAgIHZhciBwb3B1cF83MzVlZTFlNGUyNjY0YWYyOTcyYmIwMzlmNTg3MTQwNCA9IEwucG9wdXAoe21heFdpZHRoOiAnMzAwJwogICAgICAgICAgICAKICAgICAgICAgICAgfSk7CgogICAgICAgICAgICAKICAgICAgICAgICAgICAgIHZhciBodG1sXzczZjkzYmJjOTA1YjQ5MjU4ZWJiY2JlZGNjOThjOGNhID0gJChgPGRpdiBpZD0iaHRtbF83M2Y5M2JiYzkwNWI0OTI1OGViYmNiZWRjYzk4YzhjYSIgc3R5bGU9IndpZHRoOiAxMDAuMCU7IGhlaWdodDogMTAwLjAlOyI+MDwvZGl2PmApWzBdOwogICAgICAgICAgICAgICAgcG9wdXBfNzM1ZWUxZTRlMjY2NGFmMjk3MmJiMDM5ZjU4NzE0MDQuc2V0Q29udGVudChodG1sXzczZjkzYmJjOTA1YjQ5MjU4ZWJiY2JlZGNjOThjOGNhKTsKICAgICAgICAgICAgCgogICAgICAgICAgICBjaXJjbGVfbWFya2VyX2RkODMzY2FkMDQ2NzQxNTc5ZGU3OTkzNGQ4MmQ3MTcyLmJpbmRQb3B1cChwb3B1cF83MzVlZTFlNGUyNjY0YWYyOTcyYmIwMzlmNTg3MTQwNCkKICAgICAgICAgICAgOwoKICAgICAgICAgICAgCiAgICAgICAgCiAgICAKICAgICAgICAgICAgdmFyIGNpcmNsZV9tYXJrZXJfMjk4MDU3ODBhNDcwNGFiY2JjMDhhNmVkNjdmNTIyOWYgPSBMLmNpcmNsZU1hcmtlcigKICAgICAgICAgICAgICAgIFs0MS44NjcwMjM0NjgwMTc1OCwgLTg3LjYzNzM1OTYxOTE0MDYyXSwKICAgICAgICAgICAgICAgIHsKICAiYnViYmxpbmdNb3VzZUV2ZW50cyI6IHRydWUsCiAgImNvbG9yIjogIiMzMzg4ZmYiLAogICJkYXNoQXJyYXkiOiBudWxsLAogICJkYXNoT2Zmc2V0IjogbnVsbCwKICAiZmlsbCI6IGZhbHNlLAogICJmaWxsQ29sb3IiOiAiIzMzODhmZiIsCiAgImZpbGxPcGFjaXR5IjogMC4yLAogICJmaWxsUnVsZSI6ICJldmVub2RkIiwKICAibGluZUNhcCI6ICJyb3VuZCIsCiAgImxpbmVKb2luIjogInJvdW5kIiwKICAib3BhY2l0eSI6IDEuMCwKICAicmFkaXVzIjogMiwKICAic3Ryb2tlIjogdHJ1ZSwKICAid2VpZ2h0IjogMwp9CiAgICAgICAgICAgICAgICApCiAgICAgICAgICAgICAgICAuYWRkVG8obWFwX2I1NjU3MDg0NmQzMDRhZTJhYWI5NDRiOTQzOGI2N2ZiKTsKICAgICAgICAgICAgCiAgICAKICAgICAgICAgICAgdmFyIHBvcHVwX2MwYmJlMDk3ODJkNjQ0ZjFhZWZlZWEwODY1N2VkNGVmID0gTC5wb3B1cCh7bWF4V2lkdGg6ICczMDAnCiAgICAgICAgICAgIAogICAgICAgICAgICB9KTsKCiAgICAgICAgICAgIAogICAgICAgICAgICAgICAgdmFyIGh0bWxfMDFlYTMxN2Q4YWZjNDQ5MjgyMjU3MDk0ZmVjZWQ3NTIgPSAkKGA8ZGl2IGlkPSJodG1sXzAxZWEzMTdkOGFmYzQ0OTI4MjI1NzA5NGZlY2VkNzUyIiBzdHlsZT0id2lkdGg6IDEwMC4wJTsgaGVpZ2h0OiAxMDAuMCU7Ij4wPC9kaXY+YClbMF07CiAgICAgICAgICAgICAgICBwb3B1cF9jMGJiZTA5NzgyZDY0NGYxYWVmZWVhMDg2NTdlZDRlZi5zZXRDb250ZW50KGh0bWxfMDFlYTMxN2Q4YWZjNDQ5MjgyMjU3MDk0ZmVjZWQ3NTIpOwogICAgICAgICAgICAKCiAgICAgICAgICAgIGNpcmNsZV9tYXJrZXJfMjk4MDU3ODBhNDcwNGFiY2JjMDhhNmVkNjdmNTIyOWYuYmluZFBvcHVwKHBvcHVwX2MwYmJlMDk3ODJkNjQ0ZjFhZWZlZWEwODY1N2VkNGVmKQogICAgICAgICAgICA7CgogICAgICAgICAgICAKICAgICAgICAKICAgIAogICAgICAgICAgICB2YXIgY2lyY2xlX21hcmtlcl85M2Y5ZTYxZDM4NDE0ZWZiODNkOTcyMmQzMzU0ZGM2NSA9IEwuY2lyY2xlTWFya2VyKAogICAgICAgICAgICAgICAgWzQxLjg2OTgyMzQ1NTgxMDU1LCAtODcuNjM3Nzc5MjM1ODM5ODRdLAogICAgICAgICAgICAgICAgewogICJidWJibGluZ01vdXNlRXZlbnRzIjogdHJ1ZSwKICAiY29sb3IiOiAiIzMzODhmZiIsCiAgImRhc2hBcnJheSI6IG51bGwsCiAgImRhc2hPZmZzZXQiOiBudWxsLAogICJmaWxsIjogZmFsc2UsCiAgImZpbGxDb2xvciI6ICIjMzM4OGZmIiwKICAiZmlsbE9wYWNpdHkiOiAwLjIsCiAgImZpbGxSdWxlIjogImV2ZW5vZGQiLAogICJsaW5lQ2FwIjogInJvdW5kIiwKICAibGluZUpvaW4iOiAicm91bmQiLAogICJvcGFjaXR5IjogMS4wLAogICJyYWRpdXMiOiAyLAogICJzdHJva2UiOiB0cnVlLAogICJ3ZWlnaHQiOiAzCn0KICAgICAgICAgICAgICAgICkKICAgICAgICAgICAgICAgIC5hZGRUbyhtYXBfYjU2NTcwODQ2ZDMwNGFlMmFhYjk0NGI5NDM4YjY3ZmIpOwogICAgICAgICAgICAKICAgIAogICAgICAgICAgICB2YXIgcG9wdXBfZmNjNThmZDEyYmVjNDNmMmFkMjg1NzFjNTgwNTg2NjMgPSBMLnBvcHVwKHttYXhXaWR0aDogJzMwMCcKICAgICAgICAgICAgCiAgICAgICAgICAgIH0pOwoKICAgICAgICAgICAgCiAgICAgICAgICAgICAgICB2YXIgaHRtbF9kNzNhMTY3OGUxNGQ0YmQ2YTg5ZGRkYTNlNDMxZjY2YyA9ICQoYDxkaXYgaWQ9Imh0bWxfZDczYTE2NzhlMTRkNGJkNmE4OWRkZGEzZTQzMWY2NmMiIHN0eWxlPSJ3aWR0aDogMTAwLjAlOyBoZWlnaHQ6IDEwMC4wJTsiPjA8L2Rpdj5gKVswXTsKICAgICAgICAgICAgICAgIHBvcHVwX2ZjYzU4ZmQxMmJlYzQzZjJhZDI4NTcxYzU4MDU4NjYzLnNldENvbnRlbnQoaHRtbF9kNzNhMTY3OGUxNGQ0YmQ2YTg5ZGRkYTNlNDMxZjY2Yyk7CiAgICAgICAgICAgIAoKICAgICAgICAgICAgY2lyY2xlX21hcmtlcl85M2Y5ZTYxZDM4NDE0ZWZiODNkOTcyMmQzMzU0ZGM2NS5iaW5kUG9wdXAocG9wdXBfZmNjNThmZDEyYmVjNDNmMmFkMjg1NzFjNTgwNTg2NjMpCiAgICAgICAgICAgIDsKCiAgICAgICAgICAgIAogICAgICAgIAogICAgCiAgICAgICAgICAgIHZhciBjaXJjbGVfbWFya2VyX2VmNDkzN2Y2NWFhMzQ0ZWJhOWM3YjEzN2Q1OTY1MGZmID0gTC5jaXJjbGVNYXJrZXIoCiAgICAgICAgICAgICAgICBbNDEuODcyMjIyOTAwMzkwNjMsIC04Ny42MzgxNTMwNzYxNzE4OF0sCiAgICAgICAgICAgICAgICB7CiAgImJ1YmJsaW5nTW91c2VFdmVudHMiOiB0cnVlLAogICJjb2xvciI6ICIjMzM4OGZmIiwKICAiZGFzaEFycmF5IjogbnVsbCwKICAiZGFzaE9mZnNldCI6IG51bGwsCiAgImZpbGwiOiBmYWxzZSwKICAiZmlsbENvbG9yIjogIiMzMzg4ZmYiLAogICJmaWxsT3BhY2l0eSI6IDAuMiwKICAiZmlsbFJ1bGUiOiAiZXZlbm9kZCIsCiAgImxpbmVDYXAiOiAicm91bmQiLAogICJsaW5lSm9pbiI6ICJyb3VuZCIsCiAgIm9wYWNpdHkiOiAxLjAsCiAgInJhZGl1cyI6IDIsCiAgInN0cm9rZSI6IHRydWUsCiAgIndlaWdodCI6IDMKfQogICAgICAgICAgICAgICAgKQogICAgICAgICAgICAgICAgLmFkZFRvKG1hcF9iNTY1NzA4NDZkMzA0YWUyYWFiOTQ0Yjk0MzhiNjdmYik7CiAgICAgICAgICAgIAogICAgCiAgICAgICAgICAgIHZhciBwb3B1cF9kYjkxMGJlZGZlNWQ0YTk1YjFmYzBlOGU1N2M0MGQyYiA9IEwucG9wdXAoe21heFdpZHRoOiAnMzAwJwogICAgICAgICAgICAKICAgICAgICAgICAgfSk7CgogICAgICAgICAgICAKICAgICAgICAgICAgICAgIHZhciBodG1sXzMyNTQ0Mjc3MDlmNzRmMjJiNjAyOWRjMzcwNDI5YThkID0gJChgPGRpdiBpZD0iaHRtbF8zMjU0NDI3NzA5Zjc0ZjIyYjYwMjlkYzM3MDQyOWE4ZCIgc3R5bGU9IndpZHRoOiAxMDAuMCU7IGhlaWdodDogMTAwLjAlOyI+MDwvZGl2PmApWzBdOwogICAgICAgICAgICAgICAgcG9wdXBfZGI5MTBiZWRmZTVkNGE5NWIxZmMwZThlNTdjNDBkMmIuc2V0Q29udGVudChodG1sXzMyNTQ0Mjc3MDlmNzRmMjJiNjAyOWRjMzcwNDI5YThkKTsKICAgICAgICAgICAgCgogICAgICAgICAgICBjaXJjbGVfbWFya2VyX2VmNDkzN2Y2NWFhMzQ0ZWJhOWM3YjEzN2Q1OTY1MGZmLmJpbmRQb3B1cChwb3B1cF9kYjkxMGJlZGZlNWQ0YTk1YjFmYzBlOGU1N2M0MGQyYikKICAgICAgICAgICAgOwoKICAgICAgICAgICAgCiAgICAgICAgCiAgICAKICAgICAgICAgICAgdmFyIGNpcmNsZV9tYXJrZXJfNmYzYzZhOWNhMTAzNDAzOWFmMzNhMWZiNjU5OWIyMzEgPSBMLmNpcmNsZU1hcmtlcigKICAgICAgICAgICAgICAgIFs0MS44NzIyMjI5MDAzOTA2MywgLTg3LjYzODE1MzA3NjE3MTg4XSwKICAgICAgICAgICAgICAgIHsKICAiYnViYmxpbmdNb3VzZUV2ZW50cyI6IHRydWUsCiAgImNvbG9yIjogIiMzMzg4ZmYiLAogICJkYXNoQXJyYXkiOiBudWxsLAogICJkYXNoT2Zmc2V0IjogbnVsbCwKICAiZmlsbCI6IGZhbHNlLAogICJmaWxsQ29sb3IiOiAiIzMzODhmZiIsCiAgImZpbGxPcGFjaXR5IjogMC4yLAogICJmaWxsUnVsZSI6ICJldmVub2RkIiwKICAibGluZUNhcCI6ICJyb3VuZCIsCiAgImxpbmVKb2luIjogInJvdW5kIiwKICAib3BhY2l0eSI6IDEuMCwKICAicmFkaXVzIjogMiwKICAic3Ryb2tlIjogdHJ1ZSwKICAid2VpZ2h0IjogMwp9CiAgICAgICAgICAgICAgICApCiAgICAgICAgICAgICAgICAuYWRkVG8obWFwX2I1NjU3MDg0NmQzMDRhZTJhYWI5NDRiOTQzOGI2N2ZiKTsKICAgICAgICAgICAgCiAgICAKICAgICAgICAgICAgdmFyIHBvcHVwXzllODNlNzg1ZmQ4NDQ4NDc4NTdmZjQ1Zjg2NGU0YjIyID0gTC5wb3B1cCh7bWF4V2lkdGg6ICczMDAnCiAgICAgICAgICAgIAogICAgICAgICAgICB9KTsKCiAgICAgICAgICAgIAogICAgICAgICAgICAgICAgdmFyIGh0bWxfYmMxNDhlZDA2NmE5NGQ1M2IwZDJkYTI5NDAzN2NhYzEgPSAkKGA8ZGl2IGlkPSJodG1sX2JjMTQ4ZWQwNjZhOTRkNTNiMGQyZGEyOTQwMzdjYWMxIiBzdHlsZT0id2lkdGg6IDEwMC4wJTsgaGVpZ2h0OiAxMDAuMCU7Ij4wPC9kaXY+YClbMF07CiAgICAgICAgICAgICAgICBwb3B1cF85ZTgzZTc4NWZkODQ0ODQ3ODU3ZmY0NWY4NjRlNGIyMi5zZXRDb250ZW50KGh0bWxfYmMxNDhlZDA2NmE5NGQ1M2IwZDJkYTI5NDAzN2NhYzEpOwogICAgICAgICAgICAKCiAgICAgICAgICAgIGNpcmNsZV9tYXJrZXJfNmYzYzZhOWNhMTAzNDAzOWFmMzNhMWZiNjU5OWIyMzEuYmluZFBvcHVwKHBvcHVwXzllODNlNzg1ZmQ4NDQ4NDc4NTdmZjQ1Zjg2NGU0YjIyKQogICAgICAgICAgICA7CgogICAgICAgICAgICAKICAgICAgICAKICAgIAogICAgICAgICAgICB2YXIgY2lyY2xlX21hcmtlcl9lYzYyNWY0NWFlOGI0MTU4YWU2YTY4MDM3ODNhMWY0NSA9IEwuY2lyY2xlTWFya2VyKAogICAgICAgICAgICAgICAgWzQxLjg3MjIyMjkwMDM5MDYzLCAtODcuNjM4MTUzMDc2MTcxODhdLAogICAgICAgICAgICAgICAgewogICJidWJibGluZ01vdXNlRXZlbnRzIjogdHJ1ZSwKICAiY29sb3IiOiAiIzMzODhmZiIsCiAgImRhc2hBcnJheSI6IG51bGwsCiAgImRhc2hPZmZzZXQiOiBudWxsLAogICJmaWxsIjogZmFsc2UsCiAgImZpbGxDb2xvciI6ICIjMzM4OGZmIiwKICAiZmlsbE9wYWNpdHkiOiAwLjIsCiAgImZpbGxSdWxlIjogImV2ZW5vZGQiLAogICJsaW5lQ2FwIjogInJvdW5kIiwKICAibGluZUpvaW4iOiAicm91bmQiLAogICJvcGFjaXR5IjogMS4wLAogICJyYWRpdXMiOiAyLAogICJzdHJva2UiOiB0cnVlLAogICJ3ZWlnaHQiOiAzCn0KICAgICAgICAgICAgICAgICkKICAgICAgICAgICAgICAgIC5hZGRUbyhtYXBfYjU2NTcwODQ2ZDMwNGFlMmFhYjk0NGI5NDM4YjY3ZmIpOwogICAgICAgICAgICAKICAgIAogICAgICAgICAgICB2YXIgcG9wdXBfMmZhNTY1ODAxYTFhNGJkZTgxMWU1YzAyODA5MGEwMTIgPSBMLnBvcHVwKHttYXhXaWR0aDogJzMwMCcKICAgICAgICAgICAgCiAgICAgICAgICAgIH0pOwoKICAgICAgICAgICAgCiAgICAgICAgICAgICAgICB2YXIgaHRtbF85ZDU5NjI3NDkwNzM0ZGM3YTkzMjgyM2U4YjE1MWM0ZCA9ICQoYDxkaXYgaWQ9Imh0bWxfOWQ1OTYyNzQ5MDczNGRjN2E5MzI4MjNlOGIxNTFjNGQiIHN0eWxlPSJ3aWR0aDogMTAwLjAlOyBoZWlnaHQ6IDEwMC4wJTsiPjA8L2Rpdj5gKVswXTsKICAgICAgICAgICAgICAgIHBvcHVwXzJmYTU2NTgwMWExYTRiZGU4MTFlNWMwMjgwOTBhMDEyLnNldENvbnRlbnQoaHRtbF85ZDU5NjI3NDkwNzM0ZGM3YTkzMjgyM2U4YjE1MWM0ZCk7CiAgICAgICAgICAgIAoKICAgICAgICAgICAgY2lyY2xlX21hcmtlcl9lYzYyNWY0NWFlOGI0MTU4YWU2YTY4MDM3ODNhMWY0NS5iaW5kUG9wdXAocG9wdXBfMmZhNTY1ODAxYTFhNGJkZTgxMWU1YzAyODA5MGEwMTIpCiAgICAgICAgICAgIDsKCiAgICAgICAgICAgIAogICAgICAgIAogICAgCiAgICAgICAgICAgIHZhciBjaXJjbGVfbWFya2VyXzg1M2JkMmVmYTNkNDRhOGM4YjVjMDJiMDMwNGUwYjcwID0gTC5jaXJjbGVNYXJrZXIoCiAgICAgICAgICAgICAgICBbNDEuODcyMjIyOTAwMzkwNjMsIC04Ny42MzgxNTMwNzYxNzE4OF0sCiAgICAgICAgICAgICAgICB7CiAgImJ1YmJsaW5nTW91c2VFdmVudHMiOiB0cnVlLAogICJjb2xvciI6ICIjMzM4OGZmIiwKICAiZGFzaEFycmF5IjogbnVsbCwKICAiZGFzaE9mZnNldCI6IG51bGwsCiAgImZpbGwiOiBmYWxzZSwKICAiZmlsbENvbG9yIjogIiMzMzg4ZmYiLAogICJmaWxsT3BhY2l0eSI6IDAuMiwKICAiZmlsbFJ1bGUiOiAiZXZlbm9kZCIsCiAgImxpbmVDYXAiOiAicm91bmQiLAogICJsaW5lSm9pbiI6ICJyb3VuZCIsCiAgIm9wYWNpdHkiOiAxLjAsCiAgInJhZGl1cyI6IDIsCiAgInN0cm9rZSI6IHRydWUsCiAgIndlaWdodCI6IDMKfQogICAgICAgICAgICAgICAgKQogICAgICAgICAgICAgICAgLmFkZFRvKG1hcF9iNTY1NzA4NDZkMzA0YWUyYWFiOTQ0Yjk0MzhiNjdmYik7CiAgICAgICAgICAgIAogICAgCiAgICAgICAgICAgIHZhciBwb3B1cF9hZTI1ZWIyOTI1YTU0OGU2YWQ1Nzk4ZmI3OThmODAxOSA9IEwucG9wdXAoe21heFdpZHRoOiAnMzAwJwogICAgICAgICAgICAKICAgICAgICAgICAgfSk7CgogICAgICAgICAgICAKICAgICAgICAgICAgICAgIHZhciBodG1sXzgxYzhiYmVhMTBjZjQxODFhNmVlYWEwZTU0OTg1MjQzID0gJChgPGRpdiBpZD0iaHRtbF84MWM4YmJlYTEwY2Y0MTgxYTZlZWFhMGU1NDk4NTI0MyIgc3R5bGU9IndpZHRoOiAxMDAuMCU7IGhlaWdodDogMTAwLjAlOyI+MDwvZGl2PmApWzBdOwogICAgICAgICAgICAgICAgcG9wdXBfYWUyNWViMjkyNWE1NDhlNmFkNTc5OGZiNzk4ZjgwMTkuc2V0Q29udGVudChodG1sXzgxYzhiYmVhMTBjZjQxODFhNmVlYWEwZTU0OTg1MjQzKTsKICAgICAgICAgICAgCgogICAgICAgICAgICBjaXJjbGVfbWFya2VyXzg1M2JkMmVmYTNkNDRhOGM4YjVjMDJiMDMwNGUwYjcwLmJpbmRQb3B1cChwb3B1cF9hZTI1ZWIyOTI1YTU0OGU2YWQ1Nzk4ZmI3OThmODAxOSkKICAgICAgICAgICAgOwoKICAgICAgICAgICAgCiAgICAgICAgCiAgICAKICAgICAgICAgICAgdmFyIGNpcmNsZV9tYXJrZXJfYmZhYjI4NTcyYjA1NDAzM2FlMDEwMWRkYjdjZGZiN2YgPSBMLmNpcmNsZU1hcmtlcigKICAgICAgICAgICAgICAgIFs0MS44NzY1OTA3Mjg3NTk3NywgLTg3LjYyMzAwMTA5ODYzMjgxXSwKICAgICAgICAgICAgICAgIHsKICAiYnViYmxpbmdNb3VzZUV2ZW50cyI6IHRydWUsCiAgImNvbG9yIjogIiMzMzg4ZmYiLAogICJkYXNoQXJyYXkiOiBudWxsLAogICJkYXNoT2Zmc2V0IjogbnVsbCwKICAiZmlsbCI6IGZhbHNlLAogICJmaWxsQ29sb3IiOiAiIzMzODhmZiIsCiAgImZpbGxPcGFjaXR5IjogMC4yLAogICJmaWxsUnVsZSI6ICJldmVub2RkIiwKICAibGluZUNhcCI6ICJyb3VuZCIsCiAgImxpbmVKb2luIjogInJvdW5kIiwKICAib3BhY2l0eSI6IDEuMCwKICAicmFkaXVzIjogMiwKICAic3Ryb2tlIjogdHJ1ZSwKICAid2VpZ2h0IjogMwp9CiAgICAgICAgICAgICAgICApCiAgICAgICAgICAgICAgICAuYWRkVG8obWFwX2I1NjU3MDg0NmQzMDRhZTJhYWI5NDRiOTQzOGI2N2ZiKTsKICAgICAgICAgICAgCiAgICAKICAgICAgICAgICAgdmFyIHBvcHVwXzkwZTQxMDA5MzA3YTRkODBhN2QxYmM2YmZkOTkzODlmID0gTC5wb3B1cCh7bWF4V2lkdGg6ICczMDAnCiAgICAgICAgICAgIAogICAgICAgICAgICB9KTsKCiAgICAgICAgICAgIAogICAgICAgICAgICAgICAgdmFyIGh0bWxfOWFhOGJlNjYxOTAxNDc4ZThhZGZmMTU3NzkzYmU5Y2IgPSAkKGA8ZGl2IGlkPSJodG1sXzlhYThiZTY2MTkwMTQ3OGU4YWRmZjE1Nzc5M2JlOWNiIiBzdHlsZT0id2lkdGg6IDEwMC4wJTsgaGVpZ2h0OiAxMDAuMCU7Ij4xMjA8L2Rpdj5gKVswXTsKICAgICAgICAgICAgICAgIHBvcHVwXzkwZTQxMDA5MzA3YTRkODBhN2QxYmM2YmZkOTkzODlmLnNldENvbnRlbnQoaHRtbF85YWE4YmU2NjE5MDE0NzhlOGFkZmYxNTc3OTNiZTljYik7CiAgICAgICAgICAgIAoKICAgICAgICAgICAgY2lyY2xlX21hcmtlcl9iZmFiMjg1NzJiMDU0MDMzYWUwMTAxZGRiN2NkZmI3Zi5iaW5kUG9wdXAocG9wdXBfOTBlNDEwMDkzMDdhNGQ4MGE3ZDFiYzZiZmQ5OTM4OWYpCiAgICAgICAgICAgIDsKCiAgICAgICAgICAgIAogICAgICAgIAogICAgCiAgICAgICAgICAgIHZhciBjaXJjbGVfbWFya2VyXzQwN2MzMzJhNWE0MTRhYWFiODE2NjNiYTBhYmM1M2VmID0gTC5jaXJjbGVNYXJrZXIoCiAgICAgICAgICAgICAgICBbNDEuODc0ODA1NDUwNDM5NDUsIC04Ny42MjI4MzMyNTE5NTMxMl0sCiAgICAgICAgICAgICAgICB7CiAgImJ1YmJsaW5nTW91c2VFdmVudHMiOiB0cnVlLAogICJjb2xvciI6ICIjMzM4OGZmIiwKICAiZGFzaEFycmF5IjogbnVsbCwKICAiZGFzaE9mZnNldCI6IG51bGwsCiAgImZpbGwiOiBmYWxzZSwKICAiZmlsbENvbG9yIjogIiMzMzg4ZmYiLAogICJmaWxsT3BhY2l0eSI6IDAuMiwKICAiZmlsbFJ1bGUiOiAiZXZlbm9kZCIsCiAgImxpbmVDYXAiOiAicm91bmQiLAogICJsaW5lSm9pbiI6ICJyb3VuZCIsCiAgIm9wYWNpdHkiOiAxLjAsCiAgInJhZGl1cyI6IDIsCiAgInN0cm9rZSI6IHRydWUsCiAgIndlaWdodCI6IDMKfQogICAgICAgICAgICAgICAgKQogICAgICAgICAgICAgICAgLmFkZFRvKG1hcF9iNTY1NzA4NDZkMzA0YWUyYWFiOTQ0Yjk0MzhiNjdmYik7CiAgICAgICAgICAgIAogICAgCiAgICAgICAgICAgIHZhciBwb3B1cF8yN2ZiOWY0NDRjYjI0ZThjOGNmOTFkYTQxZDQ5MTM1YSA9IEwucG9wdXAoe21heFdpZHRoOiAnMzAwJwogICAgICAgICAgICAKICAgICAgICAgICAgfSk7CgogICAgICAgICAgICAKICAgICAgICAgICAgICAgIHZhciBodG1sXzc0MzgxMTBlYjg5ZDRhYTRiMDI2ZWZkMjc0MDdhMzc5ID0gJChgPGRpdiBpZD0iaHRtbF83NDM4MTEwZWI4OWQ0YWE0YjAyNmVmZDI3NDA3YTM3OSIgc3R5bGU9IndpZHRoOiAxMDAuMCU7IGhlaWdodDogMTAwLjAlOyI+MTIwPC9kaXY+YClbMF07CiAgICAgICAgICAgICAgICBwb3B1cF8yN2ZiOWY0NDRjYjI0ZThjOGNmOTFkYTQxZDQ5MTM1YS5zZXRDb250ZW50KGh0bWxfNzQzODExMGViODlkNGFhNGIwMjZlZmQyNzQwN2EzNzkpOwogICAgICAgICAgICAKCiAgICAgICAgICAgIGNpcmNsZV9tYXJrZXJfNDA3YzMzMmE1YTQxNGFhYWI4MTY2M2JhMGFiYzUzZWYuYmluZFBvcHVwKHBvcHVwXzI3ZmI5ZjQ0NGNiMjRlOGM4Y2Y5MWRhNDFkNDkxMzVhKQogICAgICAgICAgICA7CgogICAgICAgICAgICAKICAgICAgICAKICAgIAogICAgICAgICAgICB2YXIgY2lyY2xlX21hcmtlcl9lNWI1ZWU0NGUyN2U0YjRiYWRmZWMyMjgyODI0ZDNjZiA9IEwuY2lyY2xlTWFya2VyKAogICAgICAgICAgICAgICAgWzQxLjg3MjMzNzM0MTMwODU5NCwgLTg3LjYyMjcxMTE4MTY0MDYyXSwKICAgICAgICAgICAgICAgIHsKICAiYnViYmxpbmdNb3VzZUV2ZW50cyI6IHRydWUsCiAgImNvbG9yIjogIiMzMzg4ZmYiLAogICJkYXNoQXJyYXkiOiBudWxsLAogICJkYXNoT2Zmc2V0IjogbnVsbCwKICAiZmlsbCI6IGZhbHNlLAogICJmaWxsQ29sb3IiOiAiIzMzODhmZiIsCiAgImZpbGxPcGFjaXR5IjogMC4yLAogICJmaWxsUnVsZSI6ICJldmVub2RkIiwKICAibGluZUNhcCI6ICJyb3VuZCIsCiAgImxpbmVKb2luIjogInJvdW5kIiwKICAib3BhY2l0eSI6IDEuMCwKICAicmFkaXVzIjogMiwKICAic3Ryb2tlIjogdHJ1ZSwKICAid2VpZ2h0IjogMwp9CiAgICAgICAgICAgICAgICApCiAgICAgICAgICAgICAgICAuYWRkVG8obWFwX2I1NjU3MDg0NmQzMDRhZTJhYWI5NDRiOTQzOGI2N2ZiKTsKICAgICAgICAgICAgCiAgICAKICAgICAgICAgICAgdmFyIHBvcHVwXzJkZTU2YjQzZTAzMTQxY2FiOGRmNjYxOWY4MjdhMTJmID0gTC5wb3B1cCh7bWF4V2lkdGg6ICczMDAnCiAgICAgICAgICAgIAogICAgICAgICAgICB9KTsKCiAgICAgICAgICAgIAogICAgICAgICAgICAgICAgdmFyIGh0bWxfYmFlOTBjN2U5OWFhNGM1ZGFjNDk5OGExNjg2MjU1NmEgPSAkKGA8ZGl2IGlkPSJodG1sX2JhZTkwYzdlOTlhYTRjNWRhYzQ5OThhMTY4NjI1NTZhIiBzdHlsZT0id2lkdGg6IDEwMC4wJTsgaGVpZ2h0OiAxMDAuMCU7Ij4xMjA8L2Rpdj5gKVswXTsKICAgICAgICAgICAgICAgIHBvcHVwXzJkZTU2YjQzZTAzMTQxY2FiOGRmNjYxOWY4MjdhMTJmLnNldENvbnRlbnQoaHRtbF9iYWU5MGM3ZTk5YWE0YzVkYWM0OTk4YTE2ODYyNTU2YSk7CiAgICAgICAgICAgIAoKICAgICAgICAgICAgY2lyY2xlX21hcmtlcl9lNWI1ZWU0NGUyN2U0YjRiYWRmZWMyMjgyODI0ZDNjZi5iaW5kUG9wdXAocG9wdXBfMmRlNTZiNDNlMDMxNDFjYWI4ZGY2NjE5ZjgyN2ExMmYpCiAgICAgICAgICAgIDsKCiAgICAgICAgICAgIAogICAgICAgIAogICAgCiAgICAgICAgICAgIHZhciBjaXJjbGVfbWFya2VyXzM3NDJhNjQ4MmU4NzQ1YmM4ODUxNmRlMjM0NGQyZDQ0ID0gTC5jaXJjbGVNYXJrZXIoCiAgICAgICAgICAgICAgICBbNDEuODcwODM0MzUwNTg1OTQsIC04Ny42MjI0NjcwNDEwMTU2Ml0sCiAgICAgICAgICAgICAgICB7CiAgImJ1YmJsaW5nTW91c2VFdmVudHMiOiB0cnVlLAogICJjb2xvciI6ICIjMzM4OGZmIiwKICAiZGFzaEFycmF5IjogbnVsbCwKICAiZGFzaE9mZnNldCI6IG51bGwsCiAgImZpbGwiOiBmYWxzZSwKICAiZmlsbENvbG9yIjogIiMzMzg4ZmYiLAogICJmaWxsT3BhY2l0eSI6IDAuMiwKICAiZmlsbFJ1bGUiOiAiZXZlbm9kZCIsCiAgImxpbmVDYXAiOiAicm91bmQiLAogICJsaW5lSm9pbiI6ICJyb3VuZCIsCiAgIm9wYWNpdHkiOiAxLjAsCiAgInJhZGl1cyI6IDIsCiAgInN0cm9rZSI6IHRydWUsCiAgIndlaWdodCI6IDMKfQogICAgICAgICAgICAgICAgKQogICAgICAgICAgICAgICAgLmFkZFRvKG1hcF9iNTY1NzA4NDZkMzA0YWUyYWFiOTQ0Yjk0MzhiNjdmYik7CiAgICAgICAgICAgIAogICAgCiAgICAgICAgICAgIHZhciBwb3B1cF8xNTJkOTQ1MGVhYzI0YmY4YjQ0MzUxNzk2OTBlNWQ2MCA9IEwucG9wdXAoe21heFdpZHRoOiAnMzAwJwogICAgICAgICAgICAKICAgICAgICAgICAgfSk7CgogICAgICAgICAgICAKICAgICAgICAgICAgICAgIHZhciBodG1sXzA5Y2MyZTJmYTFkMDRlYmY5MGQwZmMzZTExOTMyNmI5ID0gJChgPGRpdiBpZD0iaHRtbF8wOWNjMmUyZmExZDA0ZWJmOTBkMGZjM2UxMTkzMjZiOSIgc3R5bGU9IndpZHRoOiAxMDAuMCU7IGhlaWdodDogMTAwLjAlOyI+MTIwPC9kaXY+YClbMF07CiAgICAgICAgICAgICAgICBwb3B1cF8xNTJkOTQ1MGVhYzI0YmY4YjQ0MzUxNzk2OTBlNWQ2MC5zZXRDb250ZW50KGh0bWxfMDljYzJlMmZhMWQwNGViZjkwZDBmYzNlMTE5MzI2YjkpOwogICAgICAgICAgICAKCiAgICAgICAgICAgIGNpcmNsZV9tYXJrZXJfMzc0MmE2NDgyZTg3NDViYzg4NTE2ZGUyMzQ0ZDJkNDQuYmluZFBvcHVwKHBvcHVwXzE1MmQ5NDUwZWFjMjRiZjhiNDQzNTE3OTY5MGU1ZDYwKQogICAgICAgICAgICA7CgogICAgICAgICAgICAKICAgICAgICAKICAgIAogICAgICAgICAgICB2YXIgY2lyY2xlX21hcmtlcl80MWY4NjQyZjE0MmI0MzYyOWQzMmJkMTA0MzcxYmFkZCA9IEwuY2lyY2xlTWFya2VyKAogICAgICAgICAgICAgICAgWzQxLjg2OTAxODU1NDY4NzUsIC04Ny42MjE3MDQxMDE1NjI1XSwKICAgICAgICAgICAgICAgIHsKICAiYnViYmxpbmdNb3VzZUV2ZW50cyI6IHRydWUsCiAgImNvbG9yIjogIiMzMzg4ZmYiLAogICJkYXNoQXJyYXkiOiBudWxsLAogICJkYXNoT2Zmc2V0IjogbnVsbCwKICAiZmlsbCI6IGZhbHNlLAogICJmaWxsQ29sb3IiOiAiIzMzODhmZiIsCiAgImZpbGxPcGFjaXR5IjogMC4yLAogICJmaWxsUnVsZSI6ICJldmVub2RkIiwKICAibGluZUNhcCI6ICJyb3VuZCIsCiAgImxpbmVKb2luIjogInJvdW5kIiwKICAib3BhY2l0eSI6IDEuMCwKICAicmFkaXVzIjogMiwKICAic3Ryb2tlIjogdHJ1ZSwKICAid2VpZ2h0IjogMwp9CiAgICAgICAgICAgICAgICApCiAgICAgICAgICAgICAgICAuYWRkVG8obWFwX2I1NjU3MDg0NmQzMDRhZTJhYWI5NDRiOTQzOGI2N2ZiKTsKICAgICAgICAgICAgCiAgICAKICAgICAgICAgICAgdmFyIHBvcHVwXzllMDEzYzg1N2U2NjQ5MWVhZGU1MmZiNWMwYWNiNDY4ID0gTC5wb3B1cCh7bWF4V2lkdGg6ICczMDAnCiAgICAgICAgICAgIAogICAgICAgICAgICB9KTsKCiAgICAgICAgICAgIAogICAgICAgICAgICAgICAgdmFyIGh0bWxfNzI1MWU0MTZhZjlmNGIzZWIzZTEwOTJkOWVjN2JlYjkgPSAkKGA8ZGl2IGlkPSJodG1sXzcyNTFlNDE2YWY5ZjRiM2ViM2UxMDkyZDllYzdiZWI5IiBzdHlsZT0id2lkdGg6IDEwMC4wJTsgaGVpZ2h0OiAxMDAuMCU7Ij4xMjA8L2Rpdj5gKVswXTsKICAgICAgICAgICAgICAgIHBvcHVwXzllMDEzYzg1N2U2NjQ5MWVhZGU1MmZiNWMwYWNiNDY4LnNldENvbnRlbnQoaHRtbF83MjUxZTQxNmFmOWY0YjNlYjNlMTA5MmQ5ZWM3YmViOSk7CiAgICAgICAgICAgIAoKICAgICAgICAgICAgY2lyY2xlX21hcmtlcl80MWY4NjQyZjE0MmI0MzYyOWQzMmJkMTA0MzcxYmFkZC5iaW5kUG9wdXAocG9wdXBfOWUwMTNjODU3ZTY2NDkxZWFkZTUyZmI1YzBhY2I0NjgpCiAgICAgICAgICAgIDsKCiAgICAgICAgICAgIAogICAgICAgIAogICAgCiAgICAgICAgICAgIHZhciBjaXJjbGVfbWFya2VyXzdlOTc5NWYyNGZkZTQ0ZjI5YjIyZjUzYmI5ODAzZmJlID0gTC5jaXJjbGVNYXJrZXIoCiAgICAgICAgICAgICAgICBbNDEuODY3Nzk0MDM2ODY1MjMsIC04Ny42MjEyMDgxOTA5MTc5N10sCiAgICAgICAgICAgICAgICB7CiAgImJ1YmJsaW5nTW91c2VFdmVudHMiOiB0cnVlLAogICJjb2xvciI6ICIjMzM4OGZmIiwKICAiZGFzaEFycmF5IjogbnVsbCwKICAiZGFzaE9mZnNldCI6IG51bGwsCiAgImZpbGwiOiBmYWxzZSwKICAiZmlsbENvbG9yIjogIiMzMzg4ZmYiLAogICJmaWxsT3BhY2l0eSI6IDAuMiwKICAiZmlsbFJ1bGUiOiAiZXZlbm9kZCIsCiAgImxpbmVDYXAiOiAicm91bmQiLAogICJsaW5lSm9pbiI6ICJyb3VuZCIsCiAgIm9wYWNpdHkiOiAxLjAsCiAgInJhZGl1cyI6IDIsCiAgInN0cm9rZSI6IHRydWUsCiAgIndlaWdodCI6IDMKfQogICAgICAgICAgICAgICAgKQogICAgICAgICAgICAgICAgLmFkZFRvKG1hcF9iNTY1NzA4NDZkMzA0YWUyYWFiOTQ0Yjk0MzhiNjdmYik7CiAgICAgICAgICAgIAogICAgCiAgICAgICAgICAgIHZhciBwb3B1cF8zMDJmNmRjOWQ1MTc0YWY0ODcwZjQ5MWZiMDhiY2IwZiA9IEwucG9wdXAoe21heFdpZHRoOiAnMzAwJwogICAgICAgICAgICAKICAgICAgICAgICAgfSk7CgogICAgICAgICAgICAKICAgICAgICAgICAgICAgIHZhciBodG1sXzcxODQ4NWVlMGU1OTRkYWE4MWQzYTU5NWI5YzM4NTBjID0gJChgPGRpdiBpZD0iaHRtbF83MTg0ODVlZTBlNTk0ZGFhODFkM2E1OTViOWMzODUwYyIgc3R5bGU9IndpZHRoOiAxMDAuMCU7IGhlaWdodDogMTAwLjAlOyI+MTIwPC9kaXY+YClbMF07CiAgICAgICAgICAgICAgICBwb3B1cF8zMDJmNmRjOWQ1MTc0YWY0ODcwZjQ5MWZiMDhiY2IwZi5zZXRDb250ZW50KGh0bWxfNzE4NDg1ZWUwZTU5NGRhYTgxZDNhNTk1YjljMzg1MGMpOwogICAgICAgICAgICAKCiAgICAgICAgICAgIGNpcmNsZV9tYXJrZXJfN2U5Nzk1ZjI0ZmRlNDRmMjliMjJmNTNiYjk4MDNmYmUuYmluZFBvcHVwKHBvcHVwXzMwMmY2ZGM5ZDUxNzRhZjQ4NzBmNDkxZmIwOGJjYjBmKQogICAgICAgICAgICA7CgogICAgICAgICAgICAKICAgICAgICAKICAgIAogICAgICAgICAgICB2YXIgY2lyY2xlX21hcmtlcl85YjUyMmQ2ZmVkYzI0MjA4OTBkNGE1NTUxYTc0OGI4NSA9IEwuY2lyY2xlTWFya2VyKAogICAgICAgICAgICAgICAgWzQxLjg2Nzc5NDAzNjg2NTIzLCAtODcuNjIxMjA4MTkwOTE3OTddLAogICAgICAgICAgICAgICAgewogICJidWJibGluZ01vdXNlRXZlbnRzIjogdHJ1ZSwKICAiY29sb3IiOiAiIzMzODhmZiIsCiAgImRhc2hBcnJheSI6IG51bGwsCiAgImRhc2hPZmZzZXQiOiBudWxsLAogICJmaWxsIjogZmFsc2UsCiAgImZpbGxDb2xvciI6ICIjMzM4OGZmIiwKICAiZmlsbE9wYWNpdHkiOiAwLjIsCiAgImZpbGxSdWxlIjogImV2ZW5vZGQiLAogICJsaW5lQ2FwIjogInJvdW5kIiwKICAibGluZUpvaW4iOiAicm91bmQiLAogICJvcGFjaXR5IjogMS4wLAogICJyYWRpdXMiOiAyLAogICJzdHJva2UiOiB0cnVlLAogICJ3ZWlnaHQiOiAzCn0KICAgICAgICAgICAgICAgICkKICAgICAgICAgICAgICAgIC5hZGRUbyhtYXBfYjU2NTcwODQ2ZDMwNGFlMmFhYjk0NGI5NDM4YjY3ZmIpOwogICAgICAgICAgICAKICAgIAogICAgICAgICAgICB2YXIgcG9wdXBfNjQyNGYxNWE5MDIyNGJiMmE4MzBkYjBjN2IwOTU1NDQgPSBMLnBvcHVwKHttYXhXaWR0aDogJzMwMCcKICAgICAgICAgICAgCiAgICAgICAgICAgIH0pOwoKICAgICAgICAgICAgCiAgICAgICAgICAgICAgICB2YXIgaHRtbF82ZmYyNTEyOTgxZDY0OWJhYTdkYjJlOTQ0OWNhM2ExYyA9ICQoYDxkaXYgaWQ9Imh0bWxfNmZmMjUxMjk4MWQ2NDliYWE3ZGIyZTk0NDljYTNhMWMiIHN0eWxlPSJ3aWR0aDogMTAwLjAlOyBoZWlnaHQ6IDEwMC4wJTsiPjEyMDwvZGl2PmApWzBdOwogICAgICAgICAgICAgICAgcG9wdXBfNjQyNGYxNWE5MDIyNGJiMmE4MzBkYjBjN2IwOTU1NDQuc2V0Q29udGVudChodG1sXzZmZjI1MTI5ODFkNjQ5YmFhN2RiMmU5NDQ5Y2EzYTFjKTsKICAgICAgICAgICAgCgogICAgICAgICAgICBjaXJjbGVfbWFya2VyXzliNTIyZDZmZWRjMjQyMDg5MGQ0YTU1NTFhNzQ4Yjg1LmJpbmRQb3B1cChwb3B1cF82NDI0ZjE1YTkwMjI0YmIyYTgzMGRiMGM3YjA5NTU0NCkKICAgICAgICAgICAgOwoKICAgICAgICAgICAgCiAgICAgICAgCiAgICAKICAgICAgICAgICAgdmFyIGNpcmNsZV9tYXJrZXJfMjViZDFkNTk2MjNjNDgxZTk5OTBmYjBjY2E3N2YyNzMgPSBMLmNpcmNsZU1hcmtlcigKICAgICAgICAgICAgICAgIFs0MS44Njc3OTQwMzY4NjUyMywgLTg3LjYyMTIwODE5MDkxNzk3XSwKICAgICAgICAgICAgICAgIHsKICAiYnViYmxpbmdNb3VzZUV2ZW50cyI6IHRydWUsCiAgImNvbG9yIjogIiMzMzg4ZmYiLAogICJkYXNoQXJyYXkiOiBudWxsLAogICJkYXNoT2Zmc2V0IjogbnVsbCwKICAiZmlsbCI6IGZhbHNlLAogICJmaWxsQ29sb3IiOiAiIzMzODhmZiIsCiAgImZpbGxPcGFjaXR5IjogMC4yLAogICJmaWxsUnVsZSI6ICJldmVub2RkIiwKICAibGluZUNhcCI6ICJyb3VuZCIsCiAgImxpbmVKb2luIjogInJvdW5kIiwKICAib3BhY2l0eSI6IDEuMCwKICAicmFkaXVzIjogMiwKICAic3Ryb2tlIjogdHJ1ZSwKICAid2VpZ2h0IjogMwp9CiAgICAgICAgICAgICAgICApCiAgICAgICAgICAgICAgICAuYWRkVG8obWFwX2I1NjU3MDg0NmQzMDRhZTJhYWI5NDRiOTQzOGI2N2ZiKTsKICAgICAgICAgICAgCiAgICAKICAgICAgICAgICAgdmFyIHBvcHVwX2Q3NjU0YmU2NTJmYzRhMDU4Mjc4MzNhNzk4ZTA1ZWUzID0gTC5wb3B1cCh7bWF4V2lkdGg6ICczMDAnCiAgICAgICAgICAgIAogICAgICAgICAgICB9KTsKCiAgICAgICAgICAgIAogICAgICAgICAgICAgICAgdmFyIGh0bWxfYmVhNWJmYmEwOGJhNDI1Mzg0MTliMTk2ZTRiMjk0YjIgPSAkKGA8ZGl2IGlkPSJodG1sX2JlYTViZmJhMDhiYTQyNTM4NDE5YjE5NmU0YjI5NGIyIiBzdHlsZT0id2lkdGg6IDEwMC4wJTsgaGVpZ2h0OiAxMDAuMCU7Ij4xMjA8L2Rpdj5gKVswXTsKICAgICAgICAgICAgICAgIHBvcHVwX2Q3NjU0YmU2NTJmYzRhMDU4Mjc4MzNhNzk4ZTA1ZWUzLnNldENvbnRlbnQoaHRtbF9iZWE1YmZiYTA4YmE0MjUzODQxOWIxOTZlNGIyOTRiMik7CiAgICAgICAgICAgIAoKICAgICAgICAgICAgY2lyY2xlX21hcmtlcl8yNWJkMWQ1OTYyM2M0ODFlOTk5MGZiMGNjYTc3ZjI3My5iaW5kUG9wdXAocG9wdXBfZDc2NTRiZTY1MmZjNGEwNTgyNzgzM2E3OThlMDVlZTMpCiAgICAgICAgICAgIDsKCiAgICAgICAgICAgIAogICAgICAgIAogICAgCiAgICAgICAgICAgIHZhciBjaXJjbGVfbWFya2VyX2IyNGJiYjdjODZkZTRjZmY5Mjg0Y2ZiZTgyNTFhYTRhID0gTC5jaXJjbGVNYXJrZXIoCiAgICAgICAgICAgICAgICBbNDEuODY3Nzk0MDM2ODY1MjMsIC04Ny42MjEyMDgxOTA5MTc5N10sCiAgICAgICAgICAgICAgICB7CiAgImJ1YmJsaW5nTW91c2VFdmVudHMiOiB0cnVlLAogICJjb2xvciI6ICIjMzM4OGZmIiwKICAiZGFzaEFycmF5IjogbnVsbCwKICAiZGFzaE9mZnNldCI6IG51bGwsCiAgImZpbGwiOiBmYWxzZSwKICAiZmlsbENvbG9yIjogIiMzMzg4ZmYiLAogICJmaWxsT3BhY2l0eSI6IDAuMiwKICAiZmlsbFJ1bGUiOiAiZXZlbm9kZCIsCiAgImxpbmVDYXAiOiAicm91bmQiLAogICJsaW5lSm9pbiI6ICJyb3VuZCIsCiAgIm9wYWNpdHkiOiAxLjAsCiAgInJhZGl1cyI6IDIsCiAgInN0cm9rZSI6IHRydWUsCiAgIndlaWdodCI6IDMKfQogICAgICAgICAgICAgICAgKQogICAgICAgICAgICAgICAgLmFkZFRvKG1hcF9iNTY1NzA4NDZkMzA0YWUyYWFiOTQ0Yjk0MzhiNjdmYik7CiAgICAgICAgICAgIAogICAgCiAgICAgICAgICAgIHZhciBwb3B1cF8wZDQ0ZGQ1NWMwNTM0ZjE0OGVkNTVmNDc0Mzg5YmYxMSA9IEwucG9wdXAoe21heFdpZHRoOiAnMzAwJwogICAgICAgICAgICAKICAgICAgICAgICAgfSk7CgogICAgICAgICAgICAKICAgICAgICAgICAgICAgIHZhciBodG1sXzJkOTM1YTQ0ZDBlOTRlYmFhNzg4MDRjOWE4Mjk1ZDczID0gJChgPGRpdiBpZD0iaHRtbF8yZDkzNWE0NGQwZTk0ZWJhYTc4ODA0YzlhODI5NWQ3MyIgc3R5bGU9IndpZHRoOiAxMDAuMCU7IGhlaWdodDogMTAwLjAlOyI+MTIwPC9kaXY+YClbMF07CiAgICAgICAgICAgICAgICBwb3B1cF8wZDQ0ZGQ1NWMwNTM0ZjE0OGVkNTVmNDc0Mzg5YmYxMS5zZXRDb250ZW50KGh0bWxfMmQ5MzVhNDRkMGU5NGViYWE3ODgwNGM5YTgyOTVkNzMpOwogICAgICAgICAgICAKCiAgICAgICAgICAgIGNpcmNsZV9tYXJrZXJfYjI0YmJiN2M4NmRlNGNmZjkyODRjZmJlODI1MWFhNGEuYmluZFBvcHVwKHBvcHVwXzBkNDRkZDU1YzA1MzRmMTQ4ZWQ1NWY0NzQzODliZjExKQogICAgICAgICAgICA7CgogICAgICAgICAgICAKICAgICAgICAKICAgIAogICAgICAgICAgICB2YXIgY2lyY2xlX21hcmtlcl9mNDc0NTFmYmNkZDU0ZGI1YTgxNmU0YmFkOGUyZTBlYiA9IEwuY2lyY2xlTWFya2VyKAogICAgICAgICAgICAgICAgWzQxLjg1Mjg3MDk0MTE2MjExLCAtODcuNjE3MzcwNjA1NDY4NzVdLAogICAgICAgICAgICAgICAgewogICJidWJibGluZ01vdXNlRXZlbnRzIjogdHJ1ZSwKICAiY29sb3IiOiAiIzMzODhmZiIsCiAgImRhc2hBcnJheSI6IG51bGwsCiAgImRhc2hPZmZzZXQiOiBudWxsLAogICJmaWxsIjogZmFsc2UsCiAgImZpbGxDb2xvciI6ICIjMzM4OGZmIiwKICAiZmlsbE9wYWNpdHkiOiAwLjIsCiAgImZpbGxSdWxlIjogImV2ZW5vZGQiLAogICJsaW5lQ2FwIjogInJvdW5kIiwKICAibGluZUpvaW4iOiAicm91bmQiLAogICJvcGFjaXR5IjogMS4wLAogICJyYWRpdXMiOiAyLAogICJzdHJva2UiOiB0cnVlLAogICJ3ZWlnaHQiOiAzCn0KICAgICAgICAgICAgICAgICkKICAgICAgICAgICAgICAgIC5hZGRUbyhtYXBfYjU2NTcwODQ2ZDMwNGFlMmFhYjk0NGI5NDM4YjY3ZmIpOwogICAgICAgICAgICAKICAgIAogICAgICAgICAgICB2YXIgcG9wdXBfNGM2NmY5YzQ4NWJhNGYzNmJiNjA1MGI2MDJkMmEyNjUgPSBMLnBvcHVwKHttYXhXaWR0aDogJzMwMCcKICAgICAgICAgICAgCiAgICAgICAgICAgIH0pOwoKICAgICAgICAgICAgCiAgICAgICAgICAgICAgICB2YXIgaHRtbF9hNGUyYjc5ODNjMmU0N2RkODhjY2FiYTZlZTc0YTI3MSA9ICQoYDxkaXYgaWQ9Imh0bWxfYTRlMmI3OTgzYzJlNDdkZDg4Y2NhYmE2ZWU3NGEyNzEiIHN0eWxlPSJ3aWR0aDogMTAwLjAlOyBoZWlnaHQ6IDEwMC4wJTsiPjE4MDwvZGl2PmApWzBdOwogICAgICAgICAgICAgICAgcG9wdXBfNGM2NmY5YzQ4NWJhNGYzNmJiNjA1MGI2MDJkMmEyNjUuc2V0Q29udGVudChodG1sX2E0ZTJiNzk4M2MyZTQ3ZGQ4OGNjYWJhNmVlNzRhMjcxKTsKICAgICAgICAgICAgCgogICAgICAgICAgICBjaXJjbGVfbWFya2VyX2Y0NzQ1MWZiY2RkNTRkYjVhODE2ZTRiYWQ4ZTJlMGViLmJpbmRQb3B1cChwb3B1cF80YzY2ZjljNDg1YmE0ZjM2YmI2MDUwYjYwMmQyYTI2NSkKICAgICAgICAgICAgOwoKICAgICAgICAgICAgCiAgICAgICAgCiAgICAKICAgICAgICAgICAgdmFyIGNpcmNsZV9tYXJrZXJfNmYzMTEzMDNkZjdjNDhiMDkzNGMwN2ZmMTg4YzA0N2UgPSBMLmNpcmNsZU1hcmtlcigKICAgICAgICAgICAgICAgIFs0MS44NTI4NzA5NDExNjIxMSwgLTg3LjYxNzM3MDYwNTQ2ODc1XSwKICAgICAgICAgICAgICAgIHsKICAiYnViYmxpbmdNb3VzZUV2ZW50cyI6IHRydWUsCiAgImNvbG9yIjogIiMzMzg4ZmYiLAogICJkYXNoQXJyYXkiOiBudWxsLAogICJkYXNoT2Zmc2V0IjogbnVsbCwKICAiZmlsbCI6IGZhbHNlLAogICJmaWxsQ29sb3IiOiAiIzMzODhmZiIsCiAgImZpbGxPcGFjaXR5IjogMC4yLAogICJmaWxsUnVsZSI6ICJldmVub2RkIiwKICAibGluZUNhcCI6ICJyb3VuZCIsCiAgImxpbmVKb2luIjogInJvdW5kIiwKICAib3BhY2l0eSI6IDEuMCwKICAicmFkaXVzIjogMiwKICAic3Ryb2tlIjogdHJ1ZSwKICAid2VpZ2h0IjogMwp9CiAgICAgICAgICAgICAgICApCiAgICAgICAgICAgICAgICAuYWRkVG8obWFwX2I1NjU3MDg0NmQzMDRhZTJhYWI5NDRiOTQzOGI2N2ZiKTsKICAgICAgICAgICAgCiAgICAKICAgICAgICAgICAgdmFyIHBvcHVwXzlmNWFmNGI1MDUzMTRiN2Q4NTI4Y2NhZjRjMzY4ODM5ID0gTC5wb3B1cCh7bWF4V2lkdGg6ICczMDAnCiAgICAgICAgICAgIAogICAgICAgICAgICB9KTsKCiAgICAgICAgICAgIAogICAgICAgICAgICAgICAgdmFyIGh0bWxfZjY2YjMwNzc2YTlkNGFjZDk3YzU0ZTY1YjdjYzkzMjggPSAkKGA8ZGl2IGlkPSJodG1sX2Y2NmIzMDc3NmE5ZDRhY2Q5N2M1NGU2NWI3Y2M5MzI4IiBzdHlsZT0id2lkdGg6IDEwMC4wJTsgaGVpZ2h0OiAxMDAuMCU7Ij4xODA8L2Rpdj5gKVswXTsKICAgICAgICAgICAgICAgIHBvcHVwXzlmNWFmNGI1MDUzMTRiN2Q4NTI4Y2NhZjRjMzY4ODM5LnNldENvbnRlbnQoaHRtbF9mNjZiMzA3NzZhOWQ0YWNkOTdjNTRlNjViN2NjOTMyOCk7CiAgICAgICAgICAgIAoKICAgICAgICAgICAgY2lyY2xlX21hcmtlcl82ZjMxMTMwM2RmN2M0OGIwOTM0YzA3ZmYxODhjMDQ3ZS5iaW5kUG9wdXAocG9wdXBfOWY1YWY0YjUwNTMxNGI3ZDg1MjhjY2FmNGMzNjg4MzkpCiAgICAgICAgICAgIDsKCiAgICAgICAgICAgIAogICAgICAgIAogICAgCiAgICAgICAgICAgIHZhciBjaXJjbGVfbWFya2VyX2NhN2NiZDM1Mjc0MzRjNTRiZGViOGY5NGMwZjZkMTM1ID0gTC5jaXJjbGVNYXJrZXIoCiAgICAgICAgICAgICAgICBbNDEuODUyODcwOTQxMTYyMTEsIC04Ny42MTczNzA2MDU0Njg3NV0sCiAgICAgICAgICAgICAgICB7CiAgImJ1YmJsaW5nTW91c2VFdmVudHMiOiB0cnVlLAogICJjb2xvciI6ICIjMzM4OGZmIiwKICAiZGFzaEFycmF5IjogbnVsbCwKICAiZGFzaE9mZnNldCI6IG51bGwsCiAgImZpbGwiOiBmYWxzZSwKICAiZmlsbENvbG9yIjogIiMzMzg4ZmYiLAogICJmaWxsT3BhY2l0eSI6IDAuMiwKICAiZmlsbFJ1bGUiOiAiZXZlbm9kZCIsCiAgImxpbmVDYXAiOiAicm91bmQiLAogICJsaW5lSm9pbiI6ICJyb3VuZCIsCiAgIm9wYWNpdHkiOiAxLjAsCiAgInJhZGl1cyI6IDIsCiAgInN0cm9rZSI6IHRydWUsCiAgIndlaWdodCI6IDMKfQogICAgICAgICAgICAgICAgKQogICAgICAgICAgICAgICAgLmFkZFRvKG1hcF9iNTY1NzA4NDZkMzA0YWUyYWFiOTQ0Yjk0MzhiNjdmYik7CiAgICAgICAgICAgIAogICAgCiAgICAgICAgICAgIHZhciBwb3B1cF81YWUxYTRjYzJkMjI0MGMzYTQ3ODdlYjVjZDRjM2QzNyA9IEwucG9wdXAoe21heFdpZHRoOiAnMzAwJwogICAgICAgICAgICAKICAgICAgICAgICAgfSk7CgogICAgICAgICAgICAKICAgICAgICAgICAgICAgIHZhciBodG1sX2RjMmFlY2ViYjc5MzQ3ODM4YWJiOGY1MGYwZTU2ZTllID0gJChgPGRpdiBpZD0iaHRtbF9kYzJhZWNlYmI3OTM0NzgzOGFiYjhmNTBmMGU1NmU5ZSIgc3R5bGU9IndpZHRoOiAxMDAuMCU7IGhlaWdodDogMTAwLjAlOyI+MTgwPC9kaXY+YClbMF07CiAgICAgICAgICAgICAgICBwb3B1cF81YWUxYTRjYzJkMjI0MGMzYTQ3ODdlYjVjZDRjM2QzNy5zZXRDb250ZW50KGh0bWxfZGMyYWVjZWJiNzkzNDc4MzhhYmI4ZjUwZjBlNTZlOWUpOwogICAgICAgICAgICAKCiAgICAgICAgICAgIGNpcmNsZV9tYXJrZXJfY2E3Y2JkMzUyNzQzNGM1NGJkZWI4Zjk0YzBmNmQxMzUuYmluZFBvcHVwKHBvcHVwXzVhZTFhNGNjMmQyMjQwYzNhNDc4N2ViNWNkNGMzZDM3KQogICAgICAgICAgICA7CgogICAgICAgICAgICAKICAgICAgICAKICAgIAogICAgICAgICAgICB2YXIgY2lyY2xlX21hcmtlcl8xYzBkNGI4M2ExODU0OTA3YWM2MTkyMDgyMWJmNDI0NiA9IEwuY2lyY2xlTWFya2VyKAogICAgICAgICAgICAgICAgWzQxLjg0NDQ1OTUzMzY5MTQwNiwgLTg3LjYxMzUyNTM5MDYyNV0sCiAgICAgICAgICAgICAgICB7CiAgImJ1YmJsaW5nTW91c2VFdmVudHMiOiB0cnVlLAogICJjb2xvciI6ICIjMzM4OGZmIiwKICAiZGFzaEFycmF5IjogbnVsbCwKICAiZGFzaE9mZnNldCI6IG51bGwsCiAgImZpbGwiOiBmYWxzZSwKICAiZmlsbENvbG9yIjogIiMzMzg4ZmYiLAogICJmaWxsT3BhY2l0eSI6IDAuMiwKICAiZmlsbFJ1bGUiOiAiZXZlbm9kZCIsCiAgImxpbmVDYXAiOiAicm91bmQiLAogICJsaW5lSm9pbiI6ICJyb3VuZCIsCiAgIm9wYWNpdHkiOiAxLjAsCiAgInJhZGl1cyI6IDIsCiAgInN0cm9rZSI6IHRydWUsCiAgIndlaWdodCI6IDMKfQogICAgICAgICAgICAgICAgKQogICAgICAgICAgICAgICAgLmFkZFRvKG1hcF9iNTY1NzA4NDZkMzA0YWUyYWFiOTQ0Yjk0MzhiNjdmYik7CiAgICAgICAgICAgIAogICAgCiAgICAgICAgICAgIHZhciBwb3B1cF9kY2U4NjIzYTc3YmM0ZWRiOGRlZWZlNTc5NTMxYTI4NSA9IEwucG9wdXAoe21heFdpZHRoOiAnMzAwJwogICAgICAgICAgICAKICAgICAgICAgICAgfSk7CgogICAgICAgICAgICAKICAgICAgICAgICAgICAgIHZhciBodG1sXzBmZTExODg3NTcxYzQ2MzM4NGM1Y2Y3ZTllZDVmODliID0gJChgPGRpdiBpZD0iaHRtbF8wZmUxMTg4NzU3MWM0NjMzODRjNWNmN2U5ZWQ1Zjg5YiIgc3R5bGU9IndpZHRoOiAxMDAuMCU7IGhlaWdodDogMTAwLjAlOyI+MTgwPC9kaXY+YClbMF07CiAgICAgICAgICAgICAgICBwb3B1cF9kY2U4NjIzYTc3YmM0ZWRiOGRlZWZlNTc5NTMxYTI4NS5zZXRDb250ZW50KGh0bWxfMGZlMTE4ODc1NzFjNDYzMzg0YzVjZjdlOWVkNWY4OWIpOwogICAgICAgICAgICAKCiAgICAgICAgICAgIGNpcmNsZV9tYXJrZXJfMWMwZDRiODNhMTg1NDkwN2FjNjE5MjA4MjFiZjQyNDYuYmluZFBvcHVwKHBvcHVwX2RjZTg2MjNhNzdiYzRlZGI4ZGVlZmU1Nzk1MzFhMjg1KQogICAgICAgICAgICA7CgogICAgICAgICAgICAKICAgICAgICAKICAgIAogICAgICAgICAgICB2YXIgY2lyY2xlX21hcmtlcl8xOTQ4NDI5YTY1MWM0NjBjODQyMTRjODJiYmY4OWJmZiA9IEwuY2lyY2xlTWFya2VyKAogICAgICAgICAgICAgICAgWzQxLjg0MDg2MjI3NDE2OTkyLCAtODcuNjExOTY4OTk0MTQwNjJdLAogICAgICAgICAgICAgICAgewogICJidWJibGluZ01vdXNlRXZlbnRzIjogdHJ1ZSwKICAiY29sb3IiOiAiIzMzODhmZiIsCiAgImRhc2hBcnJheSI6IG51bGwsCiAgImRhc2hPZmZzZXQiOiBudWxsLAogICJmaWxsIjogZmFsc2UsCiAgImZpbGxDb2xvciI6ICIjMzM4OGZmIiwKICAiZmlsbE9wYWNpdHkiOiAwLjIsCiAgImZpbGxSdWxlIjogImV2ZW5vZGQiLAogICJsaW5lQ2FwIjogInJvdW5kIiwKICAibGluZUpvaW4iOiAicm91bmQiLAogICJvcGFjaXR5IjogMS4wLAogICJyYWRpdXMiOiAyLAogICJzdHJva2UiOiB0cnVlLAogICJ3ZWlnaHQiOiAzCn0KICAgICAgICAgICAgICAgICkKICAgICAgICAgICAgICAgIC5hZGRUbyhtYXBfYjU2NTcwODQ2ZDMwNGFlMmFhYjk0NGI5NDM4YjY3ZmIpOwogICAgICAgICAgICAKICAgIAogICAgICAgICAgICB2YXIgcG9wdXBfMTdlYTEyMjEwYjM1NDA2N2FkYjdkNDc0MDU5NzAzNjIgPSBMLnBvcHVwKHttYXhXaWR0aDogJzMwMCcKICAgICAgICAgICAgCiAgICAgICAgICAgIH0pOwoKICAgICAgICAgICAgCiAgICAgICAgICAgICAgICB2YXIgaHRtbF9mZjk3ZDJhZGU5MGE0Mzc0ODlmMzc4MjA2ODhmOTdmMyA9ICQoYDxkaXYgaWQ9Imh0bWxfZmY5N2QyYWRlOTBhNDM3NDg5ZjM3ODIwNjg4Zjk3ZjMiIHN0eWxlPSJ3aWR0aDogMTAwLjAlOyBoZWlnaHQ6IDEwMC4wJTsiPjE4MDwvZGl2PmApWzBdOwogICAgICAgICAgICAgICAgcG9wdXBfMTdlYTEyMjEwYjM1NDA2N2FkYjdkNDc0MDU5NzAzNjIuc2V0Q29udGVudChodG1sX2ZmOTdkMmFkZTkwYTQzNzQ4OWYzNzgyMDY4OGY5N2YzKTsKICAgICAgICAgICAgCgogICAgICAgICAgICBjaXJjbGVfbWFya2VyXzE5NDg0MjlhNjUxYzQ2MGM4NDIxNGM4MmJiZjg5YmZmLmJpbmRQb3B1cChwb3B1cF8xN2VhMTIyMTBiMzU0MDY3YWRiN2Q0NzQwNTk3MDM2MikKICAgICAgICAgICAgOwoKICAgICAgICAgICAgCiAgICAgICAgCiAgICAKICAgICAgICAgICAgdmFyIGNpcmNsZV9tYXJrZXJfZmU0MjNhNTAzZTNjNGJmZjk2ZTMwOGVhM2E4NTdkZDEgPSBMLmNpcmNsZU1hcmtlcigKICAgICAgICAgICAgICAgIFs0MS44MzM2NjAxMjU3MzI0MiwgLTg3LjYwODg2MzgzMDU2NjRdLAogICAgICAgICAgICAgICAgewogICJidWJibGluZ01vdXNlRXZlbnRzIjogdHJ1ZSwKICAiY29sb3IiOiAiIzMzODhmZiIsCiAgImRhc2hBcnJheSI6IG51bGwsCiAgImRhc2hPZmZzZXQiOiBudWxsLAogICJmaWxsIjogZmFsc2UsCiAgImZpbGxDb2xvciI6ICIjMzM4OGZmIiwKICAiZmlsbE9wYWNpdHkiOiAwLjIsCiAgImZpbGxSdWxlIjogImV2ZW5vZGQiLAogICJsaW5lQ2FwIjogInJvdW5kIiwKICAibGluZUpvaW4iOiAicm91bmQiLAogICJvcGFjaXR5IjogMS4wLAogICJyYWRpdXMiOiAyLAogICJzdHJva2UiOiB0cnVlLAogICJ3ZWlnaHQiOiAzCn0KICAgICAgICAgICAgICAgICkKICAgICAgICAgICAgICAgIC5hZGRUbyhtYXBfYjU2NTcwODQ2ZDMwNGFlMmFhYjk0NGI5NDM4YjY3ZmIpOwogICAgICAgICAgICAKICAgIAogICAgICAgICAgICB2YXIgcG9wdXBfNjg4MTJiMzYxMGIxNDJiYWI1YTVmZDUzZDlmYjk0YjYgPSBMLnBvcHVwKHttYXhXaWR0aDogJzMwMCcKICAgICAgICAgICAgCiAgICAgICAgICAgIH0pOwoKICAgICAgICAgICAgCiAgICAgICAgICAgICAgICB2YXIgaHRtbF85M2RiZDMwMTRkNmQ0ODZjYjI2ZjYzYWFhMTA2OTJhYyA9ICQoYDxkaXYgaWQ9Imh0bWxfOTNkYmQzMDE0ZDZkNDg2Y2IyNmY2M2FhYTEwNjkyYWMiIHN0eWxlPSJ3aWR0aDogMTAwLjAlOyBoZWlnaHQ6IDEwMC4wJTsiPjEyMDwvZGl2PmApWzBdOwogICAgICAgICAgICAgICAgcG9wdXBfNjg4MTJiMzYxMGIxNDJiYWI1YTVmZDUzZDlmYjk0YjYuc2V0Q29udGVudChodG1sXzkzZGJkMzAxNGQ2ZDQ4NmNiMjZmNjNhYWExMDY5MmFjKTsKICAgICAgICAgICAgCgogICAgICAgICAgICBjaXJjbGVfbWFya2VyX2ZlNDIzYTUwM2UzYzRiZmY5NmUzMDhlYTNhODU3ZGQxLmJpbmRQb3B1cChwb3B1cF82ODgxMmIzNjEwYjE0MmJhYjVhNWZkNTNkOWZiOTRiNikKICAgICAgICAgICAgOwoKICAgICAgICAgICAgCiAgICAgICAgCiAgICAKICAgICAgICAgICAgdmFyIGNpcmNsZV9tYXJrZXJfZTMwODM3NjBkMTBkNDRkZTlhODJjNjBhNGFlMjZlNTUgPSBMLmNpcmNsZU1hcmtlcigKICAgICAgICAgICAgICAgIFs0MS44MjcyNzA1MDc4MTI1LCAtODcuNjA0MDk1NDU4OTg0MzhdLAogICAgICAgICAgICAgICAgewogICJidWJibGluZ01vdXNlRXZlbnRzIjogdHJ1ZSwKICAiY29sb3IiOiAiIzMzODhmZiIsCiAgImRhc2hBcnJheSI6IG51bGwsCiAgImRhc2hPZmZzZXQiOiBudWxsLAogICJmaWxsIjogZmFsc2UsCiAgImZpbGxDb2xvciI6ICIjMzM4OGZmIiwKICAiZmlsbE9wYWNpdHkiOiAwLjIsCiAgImZpbGxSdWxlIjogImV2ZW5vZGQiLAogICJsaW5lQ2FwIjogInJvdW5kIiwKICAibGluZUpvaW4iOiAicm91bmQiLAogICJvcGFjaXR5IjogMS4wLAogICJyYWRpdXMiOiAyLAogICJzdHJva2UiOiB0cnVlLAogICJ3ZWlnaHQiOiAzCn0KICAgICAgICAgICAgICAgICkKICAgICAgICAgICAgICAgIC5hZGRUbyhtYXBfYjU2NTcwODQ2ZDMwNGFlMmFhYjk0NGI5NDM4YjY3ZmIpOwogICAgICAgICAgICAKICAgIAogICAgICAgICAgICB2YXIgcG9wdXBfYjk5Njg3MzQ5ODk3NDQxMDg3ZGU1NGFlMmVhM2YwZDQgPSBMLnBvcHVwKHttYXhXaWR0aDogJzMwMCcKICAgICAgICAgICAgCiAgICAgICAgICAgIH0pOwoKICAgICAgICAgICAgCiAgICAgICAgICAgICAgICB2YXIgaHRtbF9hNTRkZTI1MDJhOTk0NDRjOTFiNjczMDdiYThjYWZkNiA9ICQoYDxkaXYgaWQ9Imh0bWxfYTU0ZGUyNTAyYTk5NDQ0YzkxYjY3MzA3YmE4Y2FmZDYiIHN0eWxlPSJ3aWR0aDogMTAwLjAlOyBoZWlnaHQ6IDEwMC4wJTsiPjE4MDwvZGl2PmApWzBdOwogICAgICAgICAgICAgICAgcG9wdXBfYjk5Njg3MzQ5ODk3NDQxMDg3ZGU1NGFlMmVhM2YwZDQuc2V0Q29udGVudChodG1sX2E1NGRlMjUwMmE5OTQ0NGM5MWI2NzMwN2JhOGNhZmQ2KTsKICAgICAgICAgICAgCgogICAgICAgICAgICBjaXJjbGVfbWFya2VyX2UzMDgzNzYwZDEwZDQ0ZGU5YTgyYzYwYTRhZTI2ZTU1LmJpbmRQb3B1cChwb3B1cF9iOTk2ODczNDk4OTc0NDEwODdkZTU0YWUyZWEzZjBkNCkKICAgICAgICAgICAgOwoKICAgICAgICAgICAgCiAgICAgICAgCiAgICAKICAgICAgICAgICAgdmFyIGNpcmNsZV9tYXJrZXJfZjY3ZmEwOGM0MjdhNDNlZTgyOTJiZjUzODgzNGU2M2QgPSBMLmNpcmNsZU1hcmtlcigKICAgICAgICAgICAgICAgIFs0MS44MjMxNjIwNzg4NTc0MiwgLTg3LjYwMDk4MjY2NjAxNTYyXSwKICAgICAgICAgICAgICAgIHsKICAiYnViYmxpbmdNb3VzZUV2ZW50cyI6IHRydWUsCiAgImNvbG9yIjogIiMzMzg4ZmYiLAogICJkYXNoQXJyYXkiOiBudWxsLAogICJkYXNoT2Zmc2V0IjogbnVsbCwKICAiZmlsbCI6IGZhbHNlLAogICJmaWxsQ29sb3IiOiAiIzMzODhmZiIsCiAgImZpbGxPcGFjaXR5IjogMC4yLAogICJmaWxsUnVsZSI6ICJldmVub2RkIiwKICAibGluZUNhcCI6ICJyb3VuZCIsCiAgImxpbmVKb2luIjogInJvdW5kIiwKICAib3BhY2l0eSI6IDEuMCwKICAicmFkaXVzIjogMiwKICAic3Ryb2tlIjogdHJ1ZSwKICAid2VpZ2h0IjogMwp9CiAgICAgICAgICAgICAgICApCiAgICAgICAgICAgICAgICAuYWRkVG8obWFwX2I1NjU3MDg0NmQzMDRhZTJhYWI5NDRiOTQzOGI2N2ZiKTsKICAgICAgICAgICAgCiAgICAKICAgICAgICAgICAgdmFyIHBvcHVwX2QxZTA3ZmU4MGY3MzRlYjY4NmU4Mzc4ZjZjOWE0NjA4ID0gTC5wb3B1cCh7bWF4V2lkdGg6ICczMDAnCiAgICAgICAgICAgIAogICAgICAgICAgICB9KTsKCiAgICAgICAgICAgIAogICAgICAgICAgICAgICAgdmFyIGh0bWxfNTExMmEyMGUyNzczNGI0YmIyYmE2NDUwNWJkZjA1YzEgPSAkKGA8ZGl2IGlkPSJodG1sXzUxMTJhMjBlMjc3MzRiNGJiMmJhNjQ1MDViZGYwNWMxIiBzdHlsZT0id2lkdGg6IDEwMC4wJTsgaGVpZ2h0OiAxMDAuMCU7Ij4xODA8L2Rpdj5gKVswXTsKICAgICAgICAgICAgICAgIHBvcHVwX2QxZTA3ZmU4MGY3MzRlYjY4NmU4Mzc4ZjZjOWE0NjA4LnNldENvbnRlbnQoaHRtbF81MTEyYTIwZTI3NzM0YjRiYjJiYTY0NTA1YmRmMDVjMSk7CiAgICAgICAgICAgIAoKICAgICAgICAgICAgY2lyY2xlX21hcmtlcl9mNjdmYTA4YzQyN2E0M2VlODI5MmJmNTM4ODM0ZTYzZC5iaW5kUG9wdXAocG9wdXBfZDFlMDdmZTgwZjczNGViNjg2ZTgzNzhmNmM5YTQ2MDgpCiAgICAgICAgICAgIDsKCiAgICAgICAgICAgIAogICAgICAgIAogICAgCiAgICAgICAgICAgIHZhciBjaXJjbGVfbWFya2VyX2EyZjMwOTUxZjA0ZDQ0ODlhNjE1MDM5OGRlMjNhZDZkID0gTC5jaXJjbGVNYXJrZXIoCiAgICAgICAgICAgICAgICBbNDEuODE5NTM4MTE2NDU1MDgsIC04Ny41OTgyNTEzNDI3NzM0NF0sCiAgICAgICAgICAgICAgICB7CiAgImJ1YmJsaW5nTW91c2VFdmVudHMiOiB0cnVlLAogICJjb2xvciI6ICIjMzM4OGZmIiwKICAiZGFzaEFycmF5IjogbnVsbCwKICAiZGFzaE9mZnNldCI6IG51bGwsCiAgImZpbGwiOiBmYWxzZSwKICAiZmlsbENvbG9yIjogIiMzMzg4ZmYiLAogICJmaWxsT3BhY2l0eSI6IDAuMiwKICAiZmlsbFJ1bGUiOiAiZXZlbm9kZCIsCiAgImxpbmVDYXAiOiAicm91bmQiLAogICJsaW5lSm9pbiI6ICJyb3VuZCIsCiAgIm9wYWNpdHkiOiAxLjAsCiAgInJhZGl1cyI6IDIsCiAgInN0cm9rZSI6IHRydWUsCiAgIndlaWdodCI6IDMKfQogICAgICAgICAgICAgICAgKQogICAgICAgICAgICAgICAgLmFkZFRvKG1hcF9iNTY1NzA4NDZkMzA0YWUyYWFiOTQ0Yjk0MzhiNjdmYik7CiAgICAgICAgICAgIAogICAgCiAgICAgICAgICAgIHZhciBwb3B1cF9kZDNmNzdkMGE0ZmU0YTg0YWEwNjA0ZjdiMGZmMTU0NSA9IEwucG9wdXAoe21heFdpZHRoOiAnMzAwJwogICAgICAgICAgICAKICAgICAgICAgICAgfSk7CgogICAgICAgICAgICAKICAgICAgICAgICAgICAgIHZhciBodG1sXzY5NWRmZjM0Mzg5MDQ3YmVhMzJjZDIxMjMxODJlMjc4ID0gJChgPGRpdiBpZD0iaHRtbF82OTVkZmYzNDM4OTA0N2JlYTMyY2QyMTIzMTgyZTI3OCIgc3R5bGU9IndpZHRoOiAxMDAuMCU7IGhlaWdodDogMTAwLjAlOyI+MTgwPC9kaXY+YClbMF07CiAgICAgICAgICAgICAgICBwb3B1cF9kZDNmNzdkMGE0ZmU0YTg0YWEwNjA0ZjdiMGZmMTU0NS5zZXRDb250ZW50KGh0bWxfNjk1ZGZmMzQzODkwNDdiZWEzMmNkMjEyMzE4MmUyNzgpOwogICAgICAgICAgICAKCiAgICAgICAgICAgIGNpcmNsZV9tYXJrZXJfYTJmMzA5NTFmMDRkNDQ4OWE2MTUwMzk4ZGUyM2FkNmQuYmluZFBvcHVwKHBvcHVwX2RkM2Y3N2QwYTRmZTRhODRhYTA2MDRmN2IwZmYxNTQ1KQogICAgICAgICAgICA7CgogICAgICAgICAgICAKICAgICAgICAKICAgIAogICAgICAgICAgICB2YXIgY2lyY2xlX21hcmtlcl9mNTIxNTlmN2UwNzM0ZWIwYjQ5NGViZDMyYzk3YzZjNyA9IEwuY2lyY2xlTWFya2VyKAogICAgICAgICAgICAgICAgWzQxLjgxMzA2NDU3NTE5NTMxLCAtODcuNTkzNjg4OTY0ODQzNzVdLAogICAgICAgICAgICAgICAgewogICJidWJibGluZ01vdXNlRXZlbnRzIjogdHJ1ZSwKICAiY29sb3IiOiAiIzMzODhmZiIsCiAgImRhc2hBcnJheSI6IG51bGwsCiAgImRhc2hPZmZzZXQiOiBudWxsLAogICJmaWxsIjogZmFsc2UsCiAgImZpbGxDb2xvciI6ICIjMzM4OGZmIiwKICAiZmlsbE9wYWNpdHkiOiAwLjIsCiAgImZpbGxSdWxlIjogImV2ZW5vZGQiLAogICJsaW5lQ2FwIjogInJvdW5kIiwKICAibGluZUpvaW4iOiAicm91bmQiLAogICJvcGFjaXR5IjogMS4wLAogICJyYWRpdXMiOiAyLAogICJzdHJva2UiOiB0cnVlLAogICJ3ZWlnaHQiOiAzCn0KICAgICAgICAgICAgICAgICkKICAgICAgICAgICAgICAgIC5hZGRUbyhtYXBfYjU2NTcwODQ2ZDMwNGFlMmFhYjk0NGI5NDM4YjY3ZmIpOwogICAgICAgICAgICAKICAgIAogICAgICAgICAgICB2YXIgcG9wdXBfOTE4NWYwMmMwMTc5NDQwZjg4OWMzYTBkOGEzYmI4NWMgPSBMLnBvcHVwKHttYXhXaWR0aDogJzMwMCcKICAgICAgICAgICAgCiAgICAgICAgICAgIH0pOwoKICAgICAgICAgICAgCiAgICAgICAgICAgICAgICB2YXIgaHRtbF84ZTgxZTQ5Y2YwNTQ0NGNlOWE5YmQ0MzhkOTAxNGE2YyA9ICQoYDxkaXYgaWQ9Imh0bWxfOGU4MWU0OWNmMDU0NDRjZTlhOWJkNDM4ZDkwMTRhNmMiIHN0eWxlPSJ3aWR0aDogMTAwLjAlOyBoZWlnaHQ6IDEwMC4wJTsiPjE4MDwvZGl2PmApWzBdOwogICAgICAgICAgICAgICAgcG9wdXBfOTE4NWYwMmMwMTc5NDQwZjg4OWMzYTBkOGEzYmI4NWMuc2V0Q29udGVudChodG1sXzhlODFlNDljZjA1NDQ0Y2U5YTliZDQzOGQ5MDE0YTZjKTsKICAgICAgICAgICAgCgogICAgICAgICAgICBjaXJjbGVfbWFya2VyX2Y1MjE1OWY3ZTA3MzRlYjBiNDk0ZWJkMzJjOTdjNmM3LmJpbmRQb3B1cChwb3B1cF85MTg1ZjAyYzAxNzk0NDBmODg5YzNhMGQ4YTNiYjg1YykKICAgICAgICAgICAgOwoKICAgICAgICAgICAgCiAgICAgICAgCiAgICAKICAgICAgICAgICAgdmFyIGNpcmNsZV9tYXJrZXJfOTk4MzQ0OTZjYWY4NDFhY2IxMjU0ZmY1ODgxZmFlZTggPSBMLmNpcmNsZU1hcmtlcigKICAgICAgICAgICAgICAgIFs0MS44MDgzMDAwMTgzMTA1NSwgLTg3LjU5MDM1NDkxOTQzMzZdLAogICAgICAgICAgICAgICAgewogICJidWJibGluZ01vdXNlRXZlbnRzIjogdHJ1ZSwKICAiY29sb3IiOiAiIzMzODhmZiIsCiAgImRhc2hBcnJheSI6IG51bGwsCiAgImRhc2hPZmZzZXQiOiBudWxsLAogICJmaWxsIjogZmFsc2UsCiAgImZpbGxDb2xvciI6ICIjMzM4OGZmIiwKICAiZmlsbE9wYWNpdHkiOiAwLjIsCiAgImZpbGxSdWxlIjogImV2ZW5vZGQiLAogICJsaW5lQ2FwIjogInJvdW5kIiwKICAibGluZUpvaW4iOiAicm91bmQiLAogICJvcGFjaXR5IjogMS4wLAogICJyYWRpdXMiOiAyLAogICJzdHJva2UiOiB0cnVlLAogICJ3ZWlnaHQiOiAzCn0KICAgICAgICAgICAgICAgICkKICAgICAgICAgICAgICAgIC5hZGRUbyhtYXBfYjU2NTcwODQ2ZDMwNGFlMmFhYjk0NGI5NDM4YjY3ZmIpOwogICAgICAgICAgICAKICAgIAogICAgICAgICAgICB2YXIgcG9wdXBfOTcxZjFhODEwM2FjNDgwZTgwN2U2N2QxMzdhZmI2YTkgPSBMLnBvcHVwKHttYXhXaWR0aDogJzMwMCcKICAgICAgICAgICAgCiAgICAgICAgICAgIH0pOwoKICAgICAgICAgICAgCiAgICAgICAgICAgICAgICB2YXIgaHRtbF8zNjUwMzYyYTkwODI0NTQzYjYyYzM2YTVhMGI2NDE0YiA9ICQoYDxkaXYgaWQ9Imh0bWxfMzY1MDM2MmE5MDgyNDU0M2I2MmMzNmE1YTBiNjQxNGIiIHN0eWxlPSJ3aWR0aDogMTAwLjAlOyBoZWlnaHQ6IDEwMC4wJTsiPjE4MDwvZGl2PmApWzBdOwogICAgICAgICAgICAgICAgcG9wdXBfOTcxZjFhODEwM2FjNDgwZTgwN2U2N2QxMzdhZmI2YTkuc2V0Q29udGVudChodG1sXzM2NTAzNjJhOTA4MjQ1NDNiNjJjMzZhNWEwYjY0MTRiKTsKICAgICAgICAgICAgCgogICAgICAgICAgICBjaXJjbGVfbWFya2VyXzk5ODM0NDk2Y2FmODQxYWNiMTI1NGZmNTg4MWZhZWU4LmJpbmRQb3B1cChwb3B1cF85NzFmMWE4MTAzYWM0ODBlODA3ZTY3ZDEzN2FmYjZhOSkKICAgICAgICAgICAgOwoKICAgICAgICAgICAgCiAgICAgICAgCiAgICAKICAgICAgICAgICAgdmFyIGNpcmNsZV9tYXJrZXJfNjMxNmI0NjhmYzlkNGU1ZjliNDM5YTJhOTU5ZDhlY2IgPSBMLmNpcmNsZU1hcmtlcigKICAgICAgICAgICAgICAgIFs0MS44MDE4NDkzNjUyMzQzNzUsIC04Ny41ODcyODAyNzM0Mzc1XSwKICAgICAgICAgICAgICAgIHsKICAiYnViYmxpbmdNb3VzZUV2ZW50cyI6IHRydWUsCiAgImNvbG9yIjogIiMzMzg4ZmYiLAogICJkYXNoQXJyYXkiOiBudWxsLAogICJkYXNoT2Zmc2V0IjogbnVsbCwKICAiZmlsbCI6IGZhbHNlLAogICJmaWxsQ29sb3IiOiAiIzMzODhmZiIsCiAgImZpbGxPcGFjaXR5IjogMC4yLAogICJmaWxsUnVsZSI6ICJldmVub2RkIiwKICAibGluZUNhcCI6ICJyb3VuZCIsCiAgImxpbmVKb2luIjogInJvdW5kIiwKICAib3BhY2l0eSI6IDEuMCwKICAicmFkaXVzIjogMiwKICAic3Ryb2tlIjogdHJ1ZSwKICAid2VpZ2h0IjogMwp9CiAgICAgICAgICAgICAgICApCiAgICAgICAgICAgICAgICAuYWRkVG8obWFwX2I1NjU3MDg0NmQzMDRhZTJhYWI5NDRiOTQzOGI2N2ZiKTsKICAgICAgICAgICAgCiAgICAKICAgICAgICAgICAgdmFyIHBvcHVwXzA4NzdiMjZhYTI5MTRlZGNhYjhmZGYzOWVlMzY5YWIxID0gTC5wb3B1cCh7bWF4V2lkdGg6ICczMDAnCiAgICAgICAgICAgIAogICAgICAgICAgICB9KTsKCiAgICAgICAgICAgIAogICAgICAgICAgICAgICAgdmFyIGh0bWxfNTVkYWJkZTAzOTI1NDc4MGFkODQzNzI4Y2U2OTVkMTkgPSAkKGA8ZGl2IGlkPSJodG1sXzU1ZGFiZGUwMzkyNTQ3ODBhZDg0MzcyOGNlNjk1ZDE5IiBzdHlsZT0id2lkdGg6IDEwMC4wJTsgaGVpZ2h0OiAxMDAuMCU7Ij4xMjA8L2Rpdj5gKVswXTsKICAgICAgICAgICAgICAgIHBvcHVwXzA4NzdiMjZhYTI5MTRlZGNhYjhmZGYzOWVlMzY5YWIxLnNldENvbnRlbnQoaHRtbF81NWRhYmRlMDM5MjU0NzgwYWQ4NDM3MjhjZTY5NWQxOSk7CiAgICAgICAgICAgIAoKICAgICAgICAgICAgY2lyY2xlX21hcmtlcl82MzE2YjQ2OGZjOWQ0ZTVmOWI0MzlhMmE5NTlkOGVjYi5iaW5kUG9wdXAocG9wdXBfMDg3N2IyNmFhMjkxNGVkY2FiOGZkZjM5ZWUzNjlhYjEpCiAgICAgICAgICAgIDsKCiAgICAgICAgICAgIAogICAgICAgIAogICAgCiAgICAgICAgICAgIHZhciBjaXJjbGVfbWFya2VyXzFjNDlhODg3ZWE5NDRjYTA5NDVhZDJlZDhmOWE4MmZiID0gTC5jaXJjbGVNYXJrZXIoCiAgICAgICAgICAgICAgICBbNDEuODAxMjUwNDU3NzYzNjcsIC04Ny41ODcxNTgyMDMxMjVdLAogICAgICAgICAgICAgICAgewogICJidWJibGluZ01vdXNlRXZlbnRzIjogdHJ1ZSwKICAiY29sb3IiOiAiIzMzODhmZiIsCiAgImRhc2hBcnJheSI6IG51bGwsCiAgImRhc2hPZmZzZXQiOiBudWxsLAogICJmaWxsIjogZmFsc2UsCiAgImZpbGxDb2xvciI6ICIjMzM4OGZmIiwKICAiZmlsbE9wYWNpdHkiOiAwLjIsCiAgImZpbGxSdWxlIjogImV2ZW5vZGQiLAogICJsaW5lQ2FwIjogInJvdW5kIiwKICAibGluZUpvaW4iOiAicm91bmQiLAogICJvcGFjaXR5IjogMS4wLAogICJyYWRpdXMiOiAyLAogICJzdHJva2UiOiB0cnVlLAogICJ3ZWlnaHQiOiAzCn0KICAgICAgICAgICAgICAgICkKICAgICAgICAgICAgICAgIC5hZGRUbyhtYXBfYjU2NTcwODQ2ZDMwNGFlMmFhYjk0NGI5NDM4YjY3ZmIpOwogICAgICAgICAgICAKICAgIAogICAgICAgICAgICB2YXIgcG9wdXBfN2E1OGEwMjlkODY3NGI1OGE2MWUwNmM4YzM1NDdlMjkgPSBMLnBvcHVwKHttYXhXaWR0aDogJzMwMCcKICAgICAgICAgICAgCiAgICAgICAgICAgIH0pOwoKICAgICAgICAgICAgCiAgICAgICAgICAgICAgICB2YXIgaHRtbF9jZjUyMGMwMzFiZWQ0NmQxOGI3ZmU2Mzc0YjY5OTk0NCA9ICQoYDxkaXYgaWQ9Imh0bWxfY2Y1MjBjMDMxYmVkNDZkMThiN2ZlNjM3NGI2OTk5NDQiIHN0eWxlPSJ3aWR0aDogMTAwLjAlOyBoZWlnaHQ6IDEwMC4wJTsiPjE4MDwvZGl2PmApWzBdOwogICAgICAgICAgICAgICAgcG9wdXBfN2E1OGEwMjlkODY3NGI1OGE2MWUwNmM4YzM1NDdlMjkuc2V0Q29udGVudChodG1sX2NmNTIwYzAzMWJlZDQ2ZDE4YjdmZTYzNzRiNjk5OTQ0KTsKICAgICAgICAgICAgCgogICAgICAgICAgICBjaXJjbGVfbWFya2VyXzFjNDlhODg3ZWE5NDRjYTA5NDVhZDJlZDhmOWE4MmZiLmJpbmRQb3B1cChwb3B1cF83YTU4YTAyOWQ4Njc0YjU4YTYxZTA2YzhjMzU0N2UyOSkKICAgICAgICAgICAgOwoKICAgICAgICAgICAgCiAgICAgICAgCiAgICAKICAgICAgICAgICAgdmFyIGNpcmNsZV9tYXJrZXJfYWEzNjgyNTcyZjU0NGNlYzg2ZGQzZTdlMDdiMjdjMjIgPSBMLmNpcmNsZU1hcmtlcigKICAgICAgICAgICAgICAgIFs0MS43OTkyMDE5NjUzMzIwMywgLTg3LjU4NjkxNDA2MjVdLAogICAgICAgICAgICAgICAgewogICJidWJibGluZ01vdXNlRXZlbnRzIjogdHJ1ZSwKICAiY29sb3IiOiAiIzMzODhmZiIsCiAgImRhc2hBcnJheSI6IG51bGwsCiAgImRhc2hPZmZzZXQiOiBudWxsLAogICJmaWxsIjogZmFsc2UsCiAgImZpbGxDb2xvciI6ICIjMzM4OGZmIiwKICAiZmlsbE9wYWNpdHkiOiAwLjIsCiAgImZpbGxSdWxlIjogImV2ZW5vZGQiLAogICJsaW5lQ2FwIjogInJvdW5kIiwKICAibGluZUpvaW4iOiAicm91bmQiLAogICJvcGFjaXR5IjogMS4wLAogICJyYWRpdXMiOiAyLAogICJzdHJva2UiOiB0cnVlLAogICJ3ZWlnaHQiOiAzCn0KICAgICAgICAgICAgICAgICkKICAgICAgICAgICAgICAgIC5hZGRUbyhtYXBfYjU2NTcwODQ2ZDMwNGFlMmFhYjk0NGI5NDM4YjY3ZmIpOwogICAgICAgICAgICAKICAgIAogICAgICAgICAgICB2YXIgcG9wdXBfNjIyMWZkMTNmOWZhNDY3Mzg0ZDVjYTBkN2E1MmIwNjIgPSBMLnBvcHVwKHttYXhXaWR0aDogJzMwMCcKICAgICAgICAgICAgCiAgICAgICAgICAgIH0pOwoKICAgICAgICAgICAgCiAgICAgICAgICAgICAgICB2YXIgaHRtbF8zNTRiNTAyZTQ3ZDQ0ZjdkYjM4M2FiZjFjMmNlOGI5MyA9ICQoYDxkaXYgaWQ9Imh0bWxfMzU0YjUwMmU0N2Q0NGY3ZGIzODNhYmYxYzJjZThiOTMiIHN0eWxlPSJ3aWR0aDogMTAwLjAlOyBoZWlnaHQ6IDEwMC4wJTsiPjEyMDwvZGl2PmApWzBdOwogICAgICAgICAgICAgICAgcG9wdXBfNjIyMWZkMTNmOWZhNDY3Mzg0ZDVjYTBkN2E1MmIwNjIuc2V0Q29udGVudChodG1sXzM1NGI1MDJlNDdkNDRmN2RiMzgzYWJmMWMyY2U4YjkzKTsKICAgICAgICAgICAgCgogICAgICAgICAgICBjaXJjbGVfbWFya2VyX2FhMzY4MjU3MmY1NDRjZWM4NmRkM2U3ZTA3YjI3YzIyLmJpbmRQb3B1cChwb3B1cF82MjIxZmQxM2Y5ZmE0NjczODRkNWNhMGQ3YTUyYjA2MikKICAgICAgICAgICAgOwoKICAgICAgICAgICAgCiAgICAgICAgCiAgICAKICAgICAgICAgICAgdmFyIGNpcmNsZV9tYXJrZXJfNjgzZjAxMGYwNzU4NDMzYjkzYWY1ODgzMmVhZDEzZTIgPSBMLmNpcmNsZU1hcmtlcigKICAgICAgICAgICAgICAgIFs0MS43OTQ1NTE4NDkzNjUyMywgLTg3LjU4NzI4NzkwMjgzMjAzXSwKICAgICAgICAgICAgICAgIHsKICAiYnViYmxpbmdNb3VzZUV2ZW50cyI6IHRydWUsCiAgImNvbG9yIjogIiMzMzg4ZmYiLAogICJkYXNoQXJyYXkiOiBudWxsLAogICJkYXNoT2Zmc2V0IjogbnVsbCwKICAiZmlsbCI6IGZhbHNlLAogICJmaWxsQ29sb3IiOiAiIzMzODhmZiIsCiAgImZpbGxPcGFjaXR5IjogMC4yLAogICJmaWxsUnVsZSI6ICJldmVub2RkIiwKICAibGluZUNhcCI6ICJyb3VuZCIsCiAgImxpbmVKb2luIjogInJvdW5kIiwKICAib3BhY2l0eSI6IDEuMCwKICAicmFkaXVzIjogMiwKICAic3Ryb2tlIjogdHJ1ZSwKICAid2VpZ2h0IjogMwp9CiAgICAgICAgICAgICAgICApCiAgICAgICAgICAgICAgICAuYWRkVG8obWFwX2I1NjU3MDg0NmQzMDRhZTJhYWI5NDRiOTQzOGI2N2ZiKTsKICAgICAgICAgICAgCiAgICAKICAgICAgICAgICAgdmFyIHBvcHVwX2QwNjhmOTI4NjAwYTQzMGViZmZjNGI3NmQ3MmM3MTRlID0gTC5wb3B1cCh7bWF4V2lkdGg6ICczMDAnCiAgICAgICAgICAgIAogICAgICAgICAgICB9KTsKCiAgICAgICAgICAgIAogICAgICAgICAgICAgICAgdmFyIGh0bWxfZGMyMzRjOTdiMjlmNGM3ODkzZDg5YmFkNTdhMDZhMzggPSAkKGA8ZGl2IGlkPSJodG1sX2RjMjM0Yzk3YjI5ZjRjNzg5M2Q4OWJhZDU3YTA2YTM4IiBzdHlsZT0id2lkdGg6IDEwMC4wJTsgaGVpZ2h0OiAxMDAuMCU7Ij4xMjA8L2Rpdj5gKVswXTsKICAgICAgICAgICAgICAgIHBvcHVwX2QwNjhmOTI4NjAwYTQzMGViZmZjNGI3NmQ3MmM3MTRlLnNldENvbnRlbnQoaHRtbF9kYzIzNGM5N2IyOWY0Yzc4OTNkODliYWQ1N2EwNmEzOCk7CiAgICAgICAgICAgIAoKICAgICAgICAgICAgY2lyY2xlX21hcmtlcl82ODNmMDEwZjA3NTg0MzNiOTNhZjU4ODMyZWFkMTNlMi5iaW5kUG9wdXAocG9wdXBfZDA2OGY5Mjg2MDBhNDMwZWJmZmM0Yjc2ZDcyYzcxNGUpCiAgICAgICAgICAgIDsKCiAgICAgICAgICAgIAogICAgICAgIAogICAgCiAgICAgICAgICAgIHZhciBjaXJjbGVfbWFya2VyXzhiMmE1N2ZmYmI3YjQxODg5NjI3NDU2ODdhZWRlYjBmID0gTC5jaXJjbGVNYXJrZXIoCiAgICAgICAgICAgICAgICBbNDEuNzkyMjc4Mjg5Nzk0OTIsIC04Ny41ODc4MTQzMzEwNTQ2OV0sCiAgICAgICAgICAgICAgICB7CiAgImJ1YmJsaW5nTW91c2VFdmVudHMiOiB0cnVlLAogICJjb2xvciI6ICIjMzM4OGZmIiwKICAiZGFzaEFycmF5IjogbnVsbCwKICAiZGFzaE9mZnNldCI6IG51bGwsCiAgImZpbGwiOiBmYWxzZSwKICAiZmlsbENvbG9yIjogIiMzMzg4ZmYiLAogICJmaWxsT3BhY2l0eSI6IDAuMiwKICAiZmlsbFJ1bGUiOiAiZXZlbm9kZCIsCiAgImxpbmVDYXAiOiAicm91bmQiLAogICJsaW5lSm9pbiI6ICJyb3VuZCIsCiAgIm9wYWNpdHkiOiAxLjAsCiAgInJhZGl1cyI6IDIsCiAgInN0cm9rZSI6IHRydWUsCiAgIndlaWdodCI6IDMKfQogICAgICAgICAgICAgICAgKQogICAgICAgICAgICAgICAgLmFkZFRvKG1hcF9iNTY1NzA4NDZkMzA0YWUyYWFiOTQ0Yjk0MzhiNjdmYik7CiAgICAgICAgICAgIAogICAgCiAgICAgICAgICAgIHZhciBwb3B1cF85ZjU0MzdmY2EzMWM0NWExYTQ0YmQyZmExNDY2YWQ4ZSA9IEwucG9wdXAoe21heFdpZHRoOiAnMzAwJwogICAgICAgICAgICAKICAgICAgICAgICAgfSk7CgogICAgICAgICAgICAKICAgICAgICAgICAgICAgIHZhciBodG1sXzMxZDVhNTI5MWEyMjQ0NDhhYzg3Y2ExMTlkOGNhOTNlID0gJChgPGRpdiBpZD0iaHRtbF8zMWQ1YTUyOTFhMjI0NDQ4YWM4N2NhMTE5ZDhjYTkzZSIgc3R5bGU9IndpZHRoOiAxMDAuMCU7IGhlaWdodDogMTAwLjAlOyI+NjA8L2Rpdj5gKVswXTsKICAgICAgICAgICAgICAgIHBvcHVwXzlmNTQzN2ZjYTMxYzQ1YTFhNDRiZDJmYTE0NjZhZDhlLnNldENvbnRlbnQoaHRtbF8zMWQ1YTUyOTFhMjI0NDQ4YWM4N2NhMTE5ZDhjYTkzZSk7CiAgICAgICAgICAgIAoKICAgICAgICAgICAgY2lyY2xlX21hcmtlcl84YjJhNTdmZmJiN2I0MTg4OTYyNzQ1Njg3YWVkZWIwZi5iaW5kUG9wdXAocG9wdXBfOWY1NDM3ZmNhMzFjNDVhMWE0NGJkMmZhMTQ2NmFkOGUpCiAgICAgICAgICAgIDsKCiAgICAgICAgICAgIAogICAgICAgIAogICAgCiAgICAgICAgICAgIHZhciBjaXJjbGVfbWFya2VyX2Q0YTFmNGUzYWIxNzQwMzdiZDIzYzViZjdkMDY3ZTE1ID0gTC5jaXJjbGVNYXJrZXIoCiAgICAgICAgICAgICAgICBbNDEuNzkxNzQwNDE3NDgwNDcsIC04Ny41ODc5NDQwMzA3NjE3Ml0sCiAgICAgICAgICAgICAgICB7CiAgImJ1YmJsaW5nTW91c2VFdmVudHMiOiB0cnVlLAogICJjb2xvciI6ICIjMzM4OGZmIiwKICAiZGFzaEFycmF5IjogbnVsbCwKICAiZGFzaE9mZnNldCI6IG51bGwsCiAgImZpbGwiOiBmYWxzZSwKICAiZmlsbENvbG9yIjogIiMzMzg4ZmYiLAogICJmaWxsT3BhY2l0eSI6IDAuMiwKICAiZmlsbFJ1bGUiOiAiZXZlbm9kZCIsCiAgImxpbmVDYXAiOiAicm91bmQiLAogICJsaW5lSm9pbiI6ICJyb3VuZCIsCiAgIm9wYWNpdHkiOiAxLjAsCiAgInJhZGl1cyI6IDIsCiAgInN0cm9rZSI6IHRydWUsCiAgIndlaWdodCI6IDMKfQogICAgICAgICAgICAgICAgKQogICAgICAgICAgICAgICAgLmFkZFRvKG1hcF9iNTY1NzA4NDZkMzA0YWUyYWFiOTQ0Yjk0MzhiNjdmYik7CiAgICAgICAgICAgIAogICAgCiAgICAgICAgICAgIHZhciBwb3B1cF81YTdlMGEyM2M5ZjM0Y2Q4OGFmZmMyMzQxNjAzNzZmNiA9IEwucG9wdXAoe21heFdpZHRoOiAnMzAwJwogICAgICAgICAgICAKICAgICAgICAgICAgfSk7CgogICAgICAgICAgICAKICAgICAgICAgICAgICAgIHZhciBodG1sX2I1ZGJjOThmNzlmNDRhODBiZTNhYjQ0NjU4MGI1MTNhID0gJChgPGRpdiBpZD0iaHRtbF9iNWRiYzk4Zjc5ZjQ0YTgwYmUzYWI0NDY1ODBiNTEzYSIgc3R5bGU9IndpZHRoOiAxMDAuMCU7IGhlaWdodDogMTAwLjAlOyI+MTIwPC9kaXY+YClbMF07CiAgICAgICAgICAgICAgICBwb3B1cF81YTdlMGEyM2M5ZjM0Y2Q4OGFmZmMyMzQxNjAzNzZmNi5zZXRDb250ZW50KGh0bWxfYjVkYmM5OGY3OWY0NGE4MGJlM2FiNDQ2NTgwYjUxM2EpOwogICAgICAgICAgICAKCiAgICAgICAgICAgIGNpcmNsZV9tYXJrZXJfZDRhMWY0ZTNhYjE3NDAzN2JkMjNjNWJmN2QwNjdlMTUuYmluZFBvcHVwKHBvcHVwXzVhN2UwYTIzYzlmMzRjZDg4YWZmYzIzNDE2MDM3NmY2KQogICAgICAgICAgICA7CgogICAgICAgICAgICAKICAgICAgICAKICAgIAogICAgICAgICAgICB2YXIgY2lyY2xlX21hcmtlcl83MTZiNjUwNjMwMjA0OTNkOTQyN2ZiYjU4YTkzNDYzOCA9IEwuY2lyY2xlTWFya2VyKAogICAgICAgICAgICAgICAgWzQxLjc4ODA1NTQxOTkyMTg4LCAtODcuNTg4Nzc1NjM0NzY1NjJdLAogICAgICAgICAgICAgICAgewogICJidWJibGluZ01vdXNlRXZlbnRzIjogdHJ1ZSwKICAiY29sb3IiOiAiIzMzODhmZiIsCiAgImRhc2hBcnJheSI6IG51bGwsCiAgImRhc2hPZmZzZXQiOiBudWxsLAogICJmaWxsIjogZmFsc2UsCiAgImZpbGxDb2xvciI6ICIjMzM4OGZmIiwKICAiZmlsbE9wYWNpdHkiOiAwLjIsCiAgImZpbGxSdWxlIjogImV2ZW5vZGQiLAogICJsaW5lQ2FwIjogInJvdW5kIiwKICAibGluZUpvaW4iOiAicm91bmQiLAogICJvcGFjaXR5IjogMS4wLAogICJyYWRpdXMiOiAyLAogICJzdHJva2UiOiB0cnVlLAogICJ3ZWlnaHQiOiAzCn0KICAgICAgICAgICAgICAgICkKICAgICAgICAgICAgICAgIC5hZGRUbyhtYXBfYjU2NTcwODQ2ZDMwNGFlMmFhYjk0NGI5NDM4YjY3ZmIpOwogICAgICAgICAgICAKICAgIAogICAgICAgICAgICB2YXIgcG9wdXBfZjM0Mjc0NWFmZDhjNDlkZWIyNzI3ODI3MGJkZDAxYjQgPSBMLnBvcHVwKHttYXhXaWR0aDogJzMwMCcKICAgICAgICAgICAgCiAgICAgICAgICAgIH0pOwoKICAgICAgICAgICAgCiAgICAgICAgICAgICAgICB2YXIgaHRtbF9mYjIzNjI2NWUwOTU0Yjk4YmZhOWViMjRhMGZhOGI5ZSA9ICQoYDxkaXYgaWQ9Imh0bWxfZmIyMzYyNjVlMDk1NGI5OGJmYTllYjI0YTBmYThiOWUiIHN0eWxlPSJ3aWR0aDogMTAwLjAlOyBoZWlnaHQ6IDEwMC4wJTsiPjYwPC9kaXY+YClbMF07CiAgICAgICAgICAgICAgICBwb3B1cF9mMzQyNzQ1YWZkOGM0OWRlYjI3Mjc4MjcwYmRkMDFiNC5zZXRDb250ZW50KGh0bWxfZmIyMzYyNjVlMDk1NGI5OGJmYTllYjI0YTBmYThiOWUpOwogICAgICAgICAgICAKCiAgICAgICAgICAgIGNpcmNsZV9tYXJrZXJfNzE2YjY1MDYzMDIwNDkzZDk0MjdmYmI1OGE5MzQ2MzguYmluZFBvcHVwKHBvcHVwX2YzNDI3NDVhZmQ4YzQ5ZGViMjcyNzgyNzBiZGQwMWI0KQogICAgICAgICAgICA7CgogICAgICAgICAgICAKICAgICAgICAKICAgIAogICAgICAgICAgICB2YXIgY2lyY2xlX21hcmtlcl84MTU2NWY2ZTMxMWU0YjM5YTQ3ZDNkMTU5ZTQyOTNhNCA9IEwuY2lyY2xlTWFya2VyKAogICAgICAgICAgICAgICAgWzQxLjc4Nzc0MjYxNDc0NjA5NCwgLTg3LjU4ODgzNjY2OTkyMTg4XSwKICAgICAgICAgICAgICAgIHsKICAiYnViYmxpbmdNb3VzZUV2ZW50cyI6IHRydWUsCiAgImNvbG9yIjogIiMzMzg4ZmYiLAogICJkYXNoQXJyYXkiOiBudWxsLAogICJkYXNoT2Zmc2V0IjogbnVsbCwKICAiZmlsbCI6IGZhbHNlLAogICJmaWxsQ29sb3IiOiAiIzMzODhmZiIsCiAgImZpbGxPcGFjaXR5IjogMC4yLAogICJmaWxsUnVsZSI6ICJldmVub2RkIiwKICAibGluZUNhcCI6ICJyb3VuZCIsCiAgImxpbmVKb2luIjogInJvdW5kIiwKICAib3BhY2l0eSI6IDEuMCwKICAicmFkaXVzIjogMiwKICAic3Ryb2tlIjogdHJ1ZSwKICAid2VpZ2h0IjogMwp9CiAgICAgICAgICAgICAgICApCiAgICAgICAgICAgICAgICAuYWRkVG8obWFwX2I1NjU3MDg0NmQzMDRhZTJhYWI5NDRiOTQzOGI2N2ZiKTsKICAgICAgICAgICAgCiAgICAKICAgICAgICAgICAgdmFyIHBvcHVwXzdkNDU3MmZiOGYyMzQzMmE5OTcwNmNkMTQzOTA1YzZhID0gTC5wb3B1cCh7bWF4V2lkdGg6ICczMDAnCiAgICAgICAgICAgIAogICAgICAgICAgICB9KTsKCiAgICAgICAgICAgIAogICAgICAgICAgICAgICAgdmFyIGh0bWxfYjg5OGUyOTdhZjRmNDVjMmJmNjk5MjFjMDYwZmFhYTUgPSAkKGA8ZGl2IGlkPSJodG1sX2I4OThlMjk3YWY0ZjQ1YzJiZjY5OTIxYzA2MGZhYWE1IiBzdHlsZT0id2lkdGg6IDEwMC4wJTsgaGVpZ2h0OiAxMDAuMCU7Ij4xMjA8L2Rpdj5gKVswXTsKICAgICAgICAgICAgICAgIHBvcHVwXzdkNDU3MmZiOGYyMzQzMmE5OTcwNmNkMTQzOTA1YzZhLnNldENvbnRlbnQoaHRtbF9iODk4ZTI5N2FmNGY0NWMyYmY2OTkyMWMwNjBmYWFhNSk7CiAgICAgICAgICAgIAoKICAgICAgICAgICAgY2lyY2xlX21hcmtlcl84MTU2NWY2ZTMxMWU0YjM5YTQ3ZDNkMTU5ZTQyOTNhNC5iaW5kUG9wdXAocG9wdXBfN2Q0NTcyZmI4ZjIzNDMyYTk5NzA2Y2QxNDM5MDVjNmEpCiAgICAgICAgICAgIDsKCiAgICAgICAgICAgIAogICAgICAgIAogICAgCiAgICAgICAgICAgIHZhciBjaXJjbGVfbWFya2VyX2U0MzFkOTE5MjAxOTQyNTZiZTRhYjg1MGFkOTkwODEwID0gTC5jaXJjbGVNYXJrZXIoCiAgICAgICAgICAgICAgICBbNDEuNzg0OTA0NDc5OTgwNDcsIC04Ny41ODk1MTU2ODYwMzUxNl0sCiAgICAgICAgICAgICAgICB7CiAgImJ1YmJsaW5nTW91c2VFdmVudHMiOiB0cnVlLAogICJjb2xvciI6ICIjMzM4OGZmIiwKICAiZGFzaEFycmF5IjogbnVsbCwKICAiZGFzaE9mZnNldCI6IG51bGwsCiAgImZpbGwiOiBmYWxzZSwKICAiZmlsbENvbG9yIjogIiMzMzg4ZmYiLAogICJmaWxsT3BhY2l0eSI6IDAuMiwKICAiZmlsbFJ1bGUiOiAiZXZlbm9kZCIsCiAgImxpbmVDYXAiOiAicm91bmQiLAogICJsaW5lSm9pbiI6ICJyb3VuZCIsCiAgIm9wYWNpdHkiOiAxLjAsCiAgInJhZGl1cyI6IDIsCiAgInN0cm9rZSI6IHRydWUsCiAgIndlaWdodCI6IDMKfQogICAgICAgICAgICAgICAgKQogICAgICAgICAgICAgICAgLmFkZFRvKG1hcF9iNTY1NzA4NDZkMzA0YWUyYWFiOTQ0Yjk0MzhiNjdmYik7CiAgICAgICAgICAgIAogICAgCiAgICAgICAgICAgIHZhciBwb3B1cF85M2YzOGQ5ZTlkMzE0OGI2OWEwM2ZmYjJlZWEyYmZlZiA9IEwucG9wdXAoe21heFdpZHRoOiAnMzAwJwogICAgICAgICAgICAKICAgICAgICAgICAgfSk7CgogICAgICAgICAgICAKICAgICAgICAgICAgICAgIHZhciBodG1sXzVlZDM0NGFiZTdmNTRiZGE4NGYzMGNlNGZlMzUxNDJjID0gJChgPGRpdiBpZD0iaHRtbF81ZWQzNDRhYmU3ZjU0YmRhODRmMzBjZTRmZTM1MTQyYyIgc3R5bGU9IndpZHRoOiAxMDAuMCU7IGhlaWdodDogMTAwLjAlOyI+NjA8L2Rpdj5gKVswXTsKICAgICAgICAgICAgICAgIHBvcHVwXzkzZjM4ZDllOWQzMTQ4YjY5YTAzZmZiMmVlYTJiZmVmLnNldENvbnRlbnQoaHRtbF81ZWQzNDRhYmU3ZjU0YmRhODRmMzBjZTRmZTM1MTQyYyk7CiAgICAgICAgICAgIAoKICAgICAgICAgICAgY2lyY2xlX21hcmtlcl9lNDMxZDkxOTIwMTk0MjU2YmU0YWI4NTBhZDk5MDgxMC5iaW5kUG9wdXAocG9wdXBfOTNmMzhkOWU5ZDMxNDhiNjlhMDNmZmIyZWVhMmJmZWYpCiAgICAgICAgICAgIDsKCiAgICAgICAgICAgIAogICAgICAgIAogICAgCiAgICAgICAgICAgIHZhciBjaXJjbGVfbWFya2VyX2ZmNzY4MmE2MTFmNzRmZWZiODg1ZDAwMTgyMTY5ZWJkID0gTC5jaXJjbGVNYXJrZXIoCiAgICAgICAgICAgICAgICBbNDEuNzgwMDI5Mjk2ODc1LCAtODcuNTkwNTkxNDMwNjY0MDZdLAogICAgICAgICAgICAgICAgewogICJidWJibGluZ01vdXNlRXZlbnRzIjogdHJ1ZSwKICAiY29sb3IiOiAiIzMzODhmZiIsCiAgImRhc2hBcnJheSI6IG51bGwsCiAgImRhc2hPZmZzZXQiOiBudWxsLAogICJmaWxsIjogZmFsc2UsCiAgImZpbGxDb2xvciI6ICIjMzM4OGZmIiwKICAiZmlsbE9wYWNpdHkiOiAwLjIsCiAgImZpbGxSdWxlIjogImV2ZW5vZGQiLAogICJsaW5lQ2FwIjogInJvdW5kIiwKICAibGluZUpvaW4iOiAicm91bmQiLAogICJvcGFjaXR5IjogMS4wLAogICJyYWRpdXMiOiAyLAogICJzdHJva2UiOiB0cnVlLAogICJ3ZWlnaHQiOiAzCn0KICAgICAgICAgICAgICAgICkKICAgICAgICAgICAgICAgIC5hZGRUbyhtYXBfYjU2NTcwODQ2ZDMwNGFlMmFhYjk0NGI5NDM4YjY3ZmIpOwogICAgICAgICAgICAKICAgIAogICAgICAgICAgICB2YXIgcG9wdXBfNWFlN2I1NWFhYjhkNDc3NTk3MjQ0MjFlNzk4ZjZkMjggPSBMLnBvcHVwKHttYXhXaWR0aDogJzMwMCcKICAgICAgICAgICAgCiAgICAgICAgICAgIH0pOwoKICAgICAgICAgICAgCiAgICAgICAgICAgICAgICB2YXIgaHRtbF8zY2EzYmQzNWQxNDY0OGNiOGQ5YzJhZmFhMWQwYmNkYiA9ICQoYDxkaXYgaWQ9Imh0bWxfM2NhM2JkMzVkMTQ2NDhjYjhkOWMyYWZhYTFkMGJjZGIiIHN0eWxlPSJ3aWR0aDogMTAwLjAlOyBoZWlnaHQ6IDEwMC4wJTsiPjEyMDwvZGl2PmApWzBdOwogICAgICAgICAgICAgICAgcG9wdXBfNWFlN2I1NWFhYjhkNDc3NTk3MjQ0MjFlNzk4ZjZkMjguc2V0Q29udGVudChodG1sXzNjYTNiZDM1ZDE0NjQ4Y2I4ZDljMmFmYWExZDBiY2RiKTsKICAgICAgICAgICAgCgogICAgICAgICAgICBjaXJjbGVfbWFya2VyX2ZmNzY4MmE2MTFmNzRmZWZiODg1ZDAwMTgyMTY5ZWJkLmJpbmRQb3B1cChwb3B1cF81YWU3YjU1YWFiOGQ0Nzc1OTcyNDQyMWU3OThmNmQyOCkKICAgICAgICAgICAgOwoKICAgICAgICAgICAgCiAgICAgICAgCiAgICAKICAgICAgICAgICAgdmFyIGNpcmNsZV9tYXJrZXJfMGIyNjlmZmU5MjMyNGZjZmFlYmQxNWExNWQ2YmU1ZWEgPSBMLmNpcmNsZU1hcmtlcigKICAgICAgICAgICAgICAgIFs0MS43NzY0ODkyNTc4MTI1LCAtODcuNTkxNDA3Nzc1ODc4OV0sCiAgICAgICAgICAgICAgICB7CiAgImJ1YmJsaW5nTW91c2VFdmVudHMiOiB0cnVlLAogICJjb2xvciI6ICIjMzM4OGZmIiwKICAiZGFzaEFycmF5IjogbnVsbCwKICAiZGFzaE9mZnNldCI6IG51bGwsCiAgImZpbGwiOiBmYWxzZSwKICAiZmlsbENvbG9yIjogIiMzMzg4ZmYiLAogICJmaWxsT3BhY2l0eSI6IDAuMiwKICAiZmlsbFJ1bGUiOiAiZXZlbm9kZCIsCiAgImxpbmVDYXAiOiAicm91bmQiLAogICJsaW5lSm9pbiI6ICJyb3VuZCIsCiAgIm9wYWNpdHkiOiAxLjAsCiAgInJhZGl1cyI6IDIsCiAgInN0cm9rZSI6IHRydWUsCiAgIndlaWdodCI6IDMKfQogICAgICAgICAgICAgICAgKQogICAgICAgICAgICAgICAgLmFkZFRvKG1hcF9iNTY1NzA4NDZkMzA0YWUyYWFiOTQ0Yjk0MzhiNjdmYik7CiAgICAgICAgICAgIAogICAgCiAgICAgICAgICAgIHZhciBwb3B1cF84YmQ5NDM2YTA1YmY0OWE0YWVmZDhhMzUwODRhYzdjYSA9IEwucG9wdXAoe21heFdpZHRoOiAnMzAwJwogICAgICAgICAgICAKICAgICAgICAgICAgfSk7CgogICAgICAgICAgICAKICAgICAgICAgICAgICAgIHZhciBodG1sXzRlZmE5NmQ3MGI3NDQ3ZDE4ZTg2NzUzNzY5NjRiZTBjID0gJChgPGRpdiBpZD0iaHRtbF80ZWZhOTZkNzBiNzQ0N2QxOGU4Njc1Mzc2OTY0YmUwYyIgc3R5bGU9IndpZHRoOiAxMDAuMCU7IGhlaWdodDogMTAwLjAlOyI+NjA8L2Rpdj5gKVswXTsKICAgICAgICAgICAgICAgIHBvcHVwXzhiZDk0MzZhMDViZjQ5YTRhZWZkOGEzNTA4NGFjN2NhLnNldENvbnRlbnQoaHRtbF80ZWZhOTZkNzBiNzQ0N2QxOGU4Njc1Mzc2OTY0YmUwYyk7CiAgICAgICAgICAgIAoKICAgICAgICAgICAgY2lyY2xlX21hcmtlcl8wYjI2OWZmZTkyMzI0ZmNmYWViZDE1YTE1ZDZiZTVlYS5iaW5kUG9wdXAocG9wdXBfOGJkOTQzNmEwNWJmNDlhNGFlZmQ4YTM1MDg0YWM3Y2EpCiAgICAgICAgICAgIDsKCiAgICAgICAgICAgIAogICAgICAgIAogICAgCiAgICAgICAgICAgIHZhciBjaXJjbGVfbWFya2VyX2UxYzkwNjE2YzM5NzRhYjdiMTczMTQ2Nzk2MzgxNDc4ID0gTC5jaXJjbGVNYXJrZXIoCiAgICAgICAgICAgICAgICBbNDEuNzcxNzIwODg2MjMwNDcsIC04Ny41OTI1MDY0MDg2OTE0XSwKICAgICAgICAgICAgICAgIHsKICAiYnViYmxpbmdNb3VzZUV2ZW50cyI6IHRydWUsCiAgImNvbG9yIjogIiMzMzg4ZmYiLAogICJkYXNoQXJyYXkiOiBudWxsLAogICJkYXNoT2Zmc2V0IjogbnVsbCwKICAiZmlsbCI6IGZhbHNlLAogICJmaWxsQ29sb3IiOiAiIzMzODhmZiIsCiAgImZpbGxPcGFjaXR5IjogMC4yLAogICJmaWxsUnVsZSI6ICJldmVub2RkIiwKICAibGluZUNhcCI6ICJyb3VuZCIsCiAgImxpbmVKb2luIjogInJvdW5kIiwKICAib3BhY2l0eSI6IDEuMCwKICAicmFkaXVzIjogMiwKICAic3Ryb2tlIjogdHJ1ZSwKICAid2VpZ2h0IjogMwp9CiAgICAgICAgICAgICAgICApCiAgICAgICAgICAgICAgICAuYWRkVG8obWFwX2I1NjU3MDg0NmQzMDRhZTJhYWI5NDRiOTQzOGI2N2ZiKTsKICAgICAgICAgICAgCiAgICAKICAgICAgICAgICAgdmFyIHBvcHVwX2NjNzU3ZjFkOGIzYTQ0NmY5OGIwZjg5MTQ4NzI3Y2I4ID0gTC5wb3B1cCh7bWF4V2lkdGg6ICczMDAnCiAgICAgICAgICAgIAogICAgICAgICAgICB9KTsKCiAgICAgICAgICAgIAogICAgICAgICAgICAgICAgdmFyIGh0bWxfMDE5MmRlMGE5M2NhNDMyOWE2ZWIxY2QzNjNiOGFjZDYgPSAkKGA8ZGl2IGlkPSJodG1sXzAxOTJkZTBhOTNjYTQzMjlhNmViMWNkMzYzYjhhY2Q2IiBzdHlsZT0id2lkdGg6IDEwMC4wJTsgaGVpZ2h0OiAxMDAuMCU7Ij42MDwvZGl2PmApWzBdOwogICAgICAgICAgICAgICAgcG9wdXBfY2M3NTdmMWQ4YjNhNDQ2Zjk4YjBmODkxNDg3MjdjYjguc2V0Q29udGVudChodG1sXzAxOTJkZTBhOTNjYTQzMjlhNmViMWNkMzYzYjhhY2Q2KTsKICAgICAgICAgICAgCgogICAgICAgICAgICBjaXJjbGVfbWFya2VyX2UxYzkwNjE2YzM5NzRhYjdiMTczMTQ2Nzk2MzgxNDc4LmJpbmRQb3B1cChwb3B1cF9jYzc1N2YxZDhiM2E0NDZmOThiMGY4OTE0ODcyN2NiOCkKICAgICAgICAgICAgOwoKICAgICAgICAgICAgCiAgICAgICAgCiAgICAKICAgICAgICAgICAgdmFyIGNpcmNsZV9tYXJrZXJfMTNhMWI3NTUzZDRjNGRkNDkyNWE2MWQ2ZDg3NmQyYTggPSBMLmNpcmNsZU1hcmtlcigKICAgICAgICAgICAgICAgIFs0MS43NzE3MjA4ODYyMzA0NywgLTg3LjU5MjUwNjQwODY5MTRdLAogICAgICAgICAgICAgICAgewogICJidWJibGluZ01vdXNlRXZlbnRzIjogdHJ1ZSwKICAiY29sb3IiOiAiIzMzODhmZiIsCiAgImRhc2hBcnJheSI6IG51bGwsCiAgImRhc2hPZmZzZXQiOiBudWxsLAogICJmaWxsIjogZmFsc2UsCiAgImZpbGxDb2xvciI6ICIjMzM4OGZmIiwKICAiZmlsbE9wYWNpdHkiOiAwLjIsCiAgImZpbGxSdWxlIjogImV2ZW5vZGQiLAogICJsaW5lQ2FwIjogInJvdW5kIiwKICAibGluZUpvaW4iOiAicm91bmQiLAogICJvcGFjaXR5IjogMS4wLAogICJyYWRpdXMiOiAyLAogICJzdHJva2UiOiB0cnVlLAogICJ3ZWlnaHQiOiAzCn0KICAgICAgICAgICAgICAgICkKICAgICAgICAgICAgICAgIC5hZGRUbyhtYXBfYjU2NTcwODQ2ZDMwNGFlMmFhYjk0NGI5NDM4YjY3ZmIpOwogICAgICAgICAgICAKICAgIAogICAgICAgICAgICB2YXIgcG9wdXBfNTJlNTBjMjQwY2NlNDE4Y2JkOTYxYWM3M2YzZWZlZmMgPSBMLnBvcHVwKHttYXhXaWR0aDogJzMwMCcKICAgICAgICAgICAgCiAgICAgICAgICAgIH0pOwoKICAgICAgICAgICAgCiAgICAgICAgICAgICAgICB2YXIgaHRtbF80MDY2NjlkOTFmYjU0ZjM3OGQ0ZGYwY2U5ZTM2MTc3OSA9ICQoYDxkaXYgaWQ9Imh0bWxfNDA2NjY5ZDkxZmI1NGYzNzhkNGRmMGNlOWUzNjE3NzkiIHN0eWxlPSJ3aWR0aDogMTAwLjAlOyBoZWlnaHQ6IDEwMC4wJTsiPjYwPC9kaXY+YClbMF07CiAgICAgICAgICAgICAgICBwb3B1cF81MmU1MGMyNDBjY2U0MThjYmQ5NjFhYzczZjNlZmVmYy5zZXRDb250ZW50KGh0bWxfNDA2NjY5ZDkxZmI1NGYzNzhkNGRmMGNlOWUzNjE3NzkpOwogICAgICAgICAgICAKCiAgICAgICAgICAgIGNpcmNsZV9tYXJrZXJfMTNhMWI3NTUzZDRjNGRkNDkyNWE2MWQ2ZDg3NmQyYTguYmluZFBvcHVwKHBvcHVwXzUyZTUwYzI0MGNjZTQxOGNiZDk2MWFjNzNmM2VmZWZjKQogICAgICAgICAgICA7CgogICAgICAgICAgICAKICAgICAgICAKICAgIAogICAgICAgICAgICB2YXIgY2lyY2xlX21hcmtlcl85ZWNiMGM5YzIzM2M0MjQxYWZjMWYzYTJkYTc3YTE0OCA9IEwuY2lyY2xlTWFya2VyKAogICAgICAgICAgICAgICAgWzQxLjc2NzkwMjM3NDI2NzU4LCAtODcuNTkyMzc2NzA4OTg0MzhdLAogICAgICAgICAgICAgICAgewogICJidWJibGluZ01vdXNlRXZlbnRzIjogdHJ1ZSwKICAiY29sb3IiOiAiIzMzODhmZiIsCiAgImRhc2hBcnJheSI6IG51bGwsCiAgImRhc2hPZmZzZXQiOiBudWxsLAogICJmaWxsIjogZmFsc2UsCiAgImZpbGxDb2xvciI6ICIjMzM4OGZmIiwKICAiZmlsbE9wYWNpdHkiOiAwLjIsCiAgImZpbGxSdWxlIjogImV2ZW5vZGQiLAogICJsaW5lQ2FwIjogInJvdW5kIiwKICAibGluZUpvaW4iOiAicm91bmQiLAogICJvcGFjaXR5IjogMS4wLAogICJyYWRpdXMiOiAyLAogICJzdHJva2UiOiB0cnVlLAogICJ3ZWlnaHQiOiAzCn0KICAgICAgICAgICAgICAgICkKICAgICAgICAgICAgICAgIC5hZGRUbyhtYXBfYjU2NTcwODQ2ZDMwNGFlMmFhYjk0NGI5NDM4YjY3ZmIpOwogICAgICAgICAgICAKICAgIAogICAgICAgICAgICB2YXIgcG9wdXBfNDgxOWVjYzEwNWU5NGE1YzllZjhmNjkzZDNjMjMyZDIgPSBMLnBvcHVwKHttYXhXaWR0aDogJzMwMCcKICAgICAgICAgICAgCiAgICAgICAgICAgIH0pOwoKICAgICAgICAgICAgCiAgICAgICAgICAgICAgICB2YXIgaHRtbF84NWYwYTRjMDVkYzM0MDJmYTM0ZTQ4YmMxYzFkNzcyMSA9ICQoYDxkaXYgaWQ9Imh0bWxfODVmMGE0YzA1ZGMzNDAyZmEzNGU0OGJjMWMxZDc3MjEiIHN0eWxlPSJ3aWR0aDogMTAwLjAlOyBoZWlnaHQ6IDEwMC4wJTsiPjYwPC9kaXY+YClbMF07CiAgICAgICAgICAgICAgICBwb3B1cF80ODE5ZWNjMTA1ZTk0YTVjOWVmOGY2OTNkM2MyMzJkMi5zZXRDb250ZW50KGh0bWxfODVmMGE0YzA1ZGMzNDAyZmEzNGU0OGJjMWMxZDc3MjEpOwogICAgICAgICAgICAKCiAgICAgICAgICAgIGNpcmNsZV9tYXJrZXJfOWVjYjBjOWMyMzNjNDI0MWFmYzFmM2EyZGE3N2ExNDguYmluZFBvcHVwKHBvcHVwXzQ4MTllY2MxMDVlOTRhNWM5ZWY4ZjY5M2QzYzIzMmQyKQogICAgICAgICAgICA7CgogICAgICAgICAgICAKICAgICAgICAKICAgIAogICAgICAgICAgICB2YXIgY2lyY2xlX21hcmtlcl82NzU0MjBiOTMxYzk0ZGI2OTA1NzJiMGI0MTI2M2UzOSA9IEwuY2lyY2xlTWFya2VyKAogICAgICAgICAgICAgICAgWzQxLjc2NjQyNjA4NjQyNTc4LCAtODcuNTkwODA1MDUzNzEwOTRdLAogICAgICAgICAgICAgICAgewogICJidWJibGluZ01vdXNlRXZlbnRzIjogdHJ1ZSwKICAiY29sb3IiOiAiIzMzODhmZiIsCiAgImRhc2hBcnJheSI6IG51bGwsCiAgImRhc2hPZmZzZXQiOiBudWxsLAogICJmaWxsIjogZmFsc2UsCiAgImZpbGxDb2xvciI6ICIjMzM4OGZmIiwKICAiZmlsbE9wYWNpdHkiOiAwLjIsCiAgImZpbGxSdWxlIjogImV2ZW5vZGQiLAogICJsaW5lQ2FwIjogInJvdW5kIiwKICAibGluZUpvaW4iOiAicm91bmQiLAogICJvcGFjaXR5IjogMS4wLAogICJyYWRpdXMiOiAyLAogICJzdHJva2UiOiB0cnVlLAogICJ3ZWlnaHQiOiAzCn0KICAgICAgICAgICAgICAgICkKICAgICAgICAgICAgICAgIC5hZGRUbyhtYXBfYjU2NTcwODQ2ZDMwNGFlMmFhYjk0NGI5NDM4YjY3ZmIpOwogICAgICAgICAgICAKICAgIAogICAgICAgICAgICB2YXIgcG9wdXBfZDMxMjg5NjIxYTgyNGZhZDhkMDdlMmE2MzY4ZTgzOWYgPSBMLnBvcHVwKHttYXhXaWR0aDogJzMwMCcKICAgICAgICAgICAgCiAgICAgICAgICAgIH0pOwoKICAgICAgICAgICAgCiAgICAgICAgICAgICAgICB2YXIgaHRtbF9iYmU3MjhjNzAwY2M0NDQwOTJhODA0NDNhMDUyZTc5YiA9ICQoYDxkaXYgaWQ9Imh0bWxfYmJlNzI4YzcwMGNjNDQ0MDkyYTgwNDQzYTA1MmU3OWIiIHN0eWxlPSJ3aWR0aDogMTAwLjAlOyBoZWlnaHQ6IDEwMC4wJTsiPjYwPC9kaXY+YClbMF07CiAgICAgICAgICAgICAgICBwb3B1cF9kMzEyODk2MjFhODI0ZmFkOGQwN2UyYTYzNjhlODM5Zi5zZXRDb250ZW50KGh0bWxfYmJlNzI4YzcwMGNjNDQ0MDkyYTgwNDQzYTA1MmU3OWIpOwogICAgICAgICAgICAKCiAgICAgICAgICAgIGNpcmNsZV9tYXJrZXJfNjc1NDIwYjkzMWM5NGRiNjkwNTcyYjBiNDEyNjNlMzkuYmluZFBvcHVwKHBvcHVwX2QzMTI4OTYyMWE4MjRmYWQ4ZDA3ZTJhNjM2OGU4MzlmKQogICAgICAgICAgICA7CgogICAgICAgICAgICAKICAgICAgICAKICAgIAogICAgICAgICAgICB2YXIgY2lyY2xlX21hcmtlcl80NDQyZGEyMzE3NzQ0NGNjYmZmYTRjZmYwODMyZTMxNCA9IEwuY2lyY2xlTWFya2VyKAogICAgICAgICAgICAgICAgWzQxLjc2NjAzNjk4NzMwNDY5LCAtODcuNTg4NTY5NjQxMTEzMjhdLAogICAgICAgICAgICAgICAgewogICJidWJibGluZ01vdXNlRXZlbnRzIjogdHJ1ZSwKICAiY29sb3IiOiAiIzMzODhmZiIsCiAgImRhc2hBcnJheSI6IG51bGwsCiAgImRhc2hPZmZzZXQiOiBudWxsLAogICJmaWxsIjogZmFsc2UsCiAgImZpbGxDb2xvciI6ICIjMzM4OGZmIiwKICAiZmlsbE9wYWNpdHkiOiAwLjIsCiAgImZpbGxSdWxlIjogImV2ZW5vZGQiLAogICJsaW5lQ2FwIjogInJvdW5kIiwKICAibGluZUpvaW4iOiAicm91bmQiLAogICJvcGFjaXR5IjogMS4wLAogICJyYWRpdXMiOiAyLAogICJzdHJva2UiOiB0cnVlLAogICJ3ZWlnaHQiOiAzCn0KICAgICAgICAgICAgICAgICkKICAgICAgICAgICAgICAgIC5hZGRUbyhtYXBfYjU2NTcwODQ2ZDMwNGFlMmFhYjk0NGI5NDM4YjY3ZmIpOwogICAgICAgICAgICAKICAgIAogICAgICAgICAgICB2YXIgcG9wdXBfNzRjOGZhOGQ0YTAwNGE0Nzk0M2Y0MTYwYzI2ZWYzYzcgPSBMLnBvcHVwKHttYXhXaWR0aDogJzMwMCcKICAgICAgICAgICAgCiAgICAgICAgICAgIH0pOwoKICAgICAgICAgICAgCiAgICAgICAgICAgICAgICB2YXIgaHRtbF9iYzEzNDg4YWM3ZTU0NWVkOTJmNjUxYWZlNWY5YzE1ZCA9ICQoYDxkaXYgaWQ9Imh0bWxfYmMxMzQ4OGFjN2U1NDVlZDkyZjY1MWFmZTVmOWMxNWQiIHN0eWxlPSJ3aWR0aDogMTAwLjAlOyBoZWlnaHQ6IDEwMC4wJTsiPjYwPC9kaXY+YClbMF07CiAgICAgICAgICAgICAgICBwb3B1cF83NGM4ZmE4ZDRhMDA0YTQ3OTQzZjQxNjBjMjZlZjNjNy5zZXRDb250ZW50KGh0bWxfYmMxMzQ4OGFjN2U1NDVlZDkyZjY1MWFmZTVmOWMxNWQpOwogICAgICAgICAgICAKCiAgICAgICAgICAgIGNpcmNsZV9tYXJrZXJfNDQ0MmRhMjMxNzc0NDRjY2JmZmE0Y2ZmMDgzMmUzMTQuYmluZFBvcHVwKHBvcHVwXzc0YzhmYThkNGEwMDRhNDc5NDNmNDE2MGMyNmVmM2M3KQogICAgICAgICAgICA7CgogICAgICAgICAgICAKICAgICAgICAKICAgIAogICAgICAgICAgICB2YXIgY2lyY2xlX21hcmtlcl84NGUxNjNhNTgwOGM0NmI1YjI2YWUwMGIzZDU2MDg0MSA9IEwuY2lyY2xlTWFya2VyKAogICAgICAgICAgICAgICAgWzQxLjc2NjAyOTM1NzkxMDE1NiwgLTg3LjU4NzM5NDcxNDM1NTQ3XSwKICAgICAgICAgICAgICAgIHsKICAiYnViYmxpbmdNb3VzZUV2ZW50cyI6IHRydWUsCiAgImNvbG9yIjogIiMzMzg4ZmYiLAogICJkYXNoQXJyYXkiOiBudWxsLAogICJkYXNoT2Zmc2V0IjogbnVsbCwKICAiZmlsbCI6IGZhbHNlLAogICJmaWxsQ29sb3IiOiAiIzMzODhmZiIsCiAgImZpbGxPcGFjaXR5IjogMC4yLAogICJmaWxsUnVsZSI6ICJldmVub2RkIiwKICAibGluZUNhcCI6ICJyb3VuZCIsCiAgImxpbmVKb2luIjogInJvdW5kIiwKICAib3BhY2l0eSI6IDEuMCwKICAicmFkaXVzIjogMiwKICAic3Ryb2tlIjogdHJ1ZSwKICAid2VpZ2h0IjogMwp9CiAgICAgICAgICAgICAgICApCiAgICAgICAgICAgICAgICAuYWRkVG8obWFwX2I1NjU3MDg0NmQzMDRhZTJhYWI5NDRiOTQzOGI2N2ZiKTsKICAgICAgICAgICAgCiAgICAKICAgICAgICAgICAgdmFyIHBvcHVwXzRjOGVjMTU2ZTU3MDRkNjFhODI3ZWZhNzc0ZDk4YTA4ID0gTC5wb3B1cCh7bWF4V2lkdGg6ICczMDAnCiAgICAgICAgICAgIAogICAgICAgICAgICB9KTsKCiAgICAgICAgICAgIAogICAgICAgICAgICAgICAgdmFyIGh0bWxfZDE5ZGMyM2Y5OWQ0NDVlNmE0NTVmZjJmYzU5NWYwZWMgPSAkKGA8ZGl2IGlkPSJodG1sX2QxOWRjMjNmOTlkNDQ1ZTZhNDU1ZmYyZmM1OTVmMGVjIiBzdHlsZT0id2lkdGg6IDEwMC4wJTsgaGVpZ2h0OiAxMDAuMCU7Ij42MDwvZGl2PmApWzBdOwogICAgICAgICAgICAgICAgcG9wdXBfNGM4ZWMxNTZlNTcwNGQ2MWE4MjdlZmE3NzRkOThhMDguc2V0Q29udGVudChodG1sX2QxOWRjMjNmOTlkNDQ1ZTZhNDU1ZmYyZmM1OTVmMGVjKTsKICAgICAgICAgICAgCgogICAgICAgICAgICBjaXJjbGVfbWFya2VyXzg0ZTE2M2E1ODA4YzQ2YjViMjZhZTAwYjNkNTYwODQxLmJpbmRQb3B1cChwb3B1cF80YzhlYzE1NmU1NzA0ZDYxYTgyN2VmYTc3NGQ5OGEwOCkKICAgICAgICAgICAgOwoKICAgICAgICAgICAgCiAgICAgICAgCiAgICAKICAgICAgICAgICAgdmFyIGNpcmNsZV9tYXJrZXJfYTUxYTc3MDVhMzc5NGZiODhhMmY3N2I3NjJmNzk1NjYgPSBMLmNpcmNsZU1hcmtlcigKICAgICAgICAgICAgICAgIFs0MS43NjYwODI3NjM2NzE4OCwgLTg3LjU4MzUzNDI0MDcyMjY2XSwKICAgICAgICAgICAgICAgIHsKICAiYnViYmxpbmdNb3VzZUV2ZW50cyI6IHRydWUsCiAgImNvbG9yIjogIiMzMzg4ZmYiLAogICJkYXNoQXJyYXkiOiBudWxsLAogICJkYXNoT2Zmc2V0IjogbnVsbCwKICAiZmlsbCI6IGZhbHNlLAogICJmaWxsQ29sb3IiOiAiIzMzODhmZiIsCiAgImZpbGxPcGFjaXR5IjogMC4yLAogICJmaWxsUnVsZSI6ICJldmVub2RkIiwKICAibGluZUNhcCI6ICJyb3VuZCIsCiAgImxpbmVKb2luIjogInJvdW5kIiwKICAib3BhY2l0eSI6IDEuMCwKICAicmFkaXVzIjogMiwKICAic3Ryb2tlIjogdHJ1ZSwKICAid2VpZ2h0IjogMwp9CiAgICAgICAgICAgICAgICApCiAgICAgICAgICAgICAgICAuYWRkVG8obWFwX2I1NjU3MDg0NmQzMDRhZTJhYWI5NDRiOTQzOGI2N2ZiKTsKICAgICAgICAgICAgCiAgICAKICAgICAgICAgICAgdmFyIHBvcHVwX2ZmYmEzZGVlNTA5ZTQzMDE5NDFkNDEyYTVlNmU5ZjA2ID0gTC5wb3B1cCh7bWF4V2lkdGg6ICczMDAnCiAgICAgICAgICAgIAogICAgICAgICAgICB9KTsKCiAgICAgICAgICAgIAogICAgICAgICAgICAgICAgdmFyIGh0bWxfN2QzMGZlM2FkODI1NDcyZmFkZmYyM2YzNmFiNjg2ZTMgPSAkKGA8ZGl2IGlkPSJodG1sXzdkMzBmZTNhZDgyNTQ3MmZhZGZmMjNmMzZhYjY4NmUzIiBzdHlsZT0id2lkdGg6IDEwMC4wJTsgaGVpZ2h0OiAxMDAuMCU7Ij42MDwvZGl2PmApWzBdOwogICAgICAgICAgICAgICAgcG9wdXBfZmZiYTNkZWU1MDllNDMwMTk0MWQ0MTJhNWU2ZTlmMDYuc2V0Q29udGVudChodG1sXzdkMzBmZTNhZDgyNTQ3MmZhZGZmMjNmMzZhYjY4NmUzKTsKICAgICAgICAgICAgCgogICAgICAgICAgICBjaXJjbGVfbWFya2VyX2E1MWE3NzA1YTM3OTRmYjg4YTJmNzdiNzYyZjc5NTY2LmJpbmRQb3B1cChwb3B1cF9mZmJhM2RlZTUwOWU0MzAxOTQxZDQxMmE1ZTZlOWYwNikKICAgICAgICAgICAgOwoKICAgICAgICAgICAgCiAgICAgICAgCiAgICAKICAgICAgICAgICAgdmFyIGNpcmNsZV9tYXJrZXJfZjdkMGE2NjI0MGQ3NDZjOThiMTE5Nzg4YmNiY2U5NGEgPSBMLmNpcmNsZU1hcmtlcigKICAgICAgICAgICAgICAgIFs0MS43NjYxMjg1NDAwMzkwNiwgLTg3LjU3ODY1OTA1NzYxNzE5XSwKICAgICAgICAgICAgICAgIHsKICAiYnViYmxpbmdNb3VzZUV2ZW50cyI6IHRydWUsCiAgImNvbG9yIjogIiMzMzg4ZmYiLAogICJkYXNoQXJyYXkiOiBudWxsLAogICJkYXNoT2Zmc2V0IjogbnVsbCwKICAiZmlsbCI6IGZhbHNlLAogICJmaWxsQ29sb3IiOiAiIzMzODhmZiIsCiAgImZpbGxPcGFjaXR5IjogMC4yLAogICJmaWxsUnVsZSI6ICJldmVub2RkIiwKICAibGluZUNhcCI6ICJyb3VuZCIsCiAgImxpbmVKb2luIjogInJvdW5kIiwKICAib3BhY2l0eSI6IDEuMCwKICAicmFkaXVzIjogMiwKICAic3Ryb2tlIjogdHJ1ZSwKICAid2VpZ2h0IjogMwp9CiAgICAgICAgICAgICAgICApCiAgICAgICAgICAgICAgICAuYWRkVG8obWFwX2I1NjU3MDg0NmQzMDRhZTJhYWI5NDRiOTQzOGI2N2ZiKTsKICAgICAgICAgICAgCiAgICAKICAgICAgICAgICAgdmFyIHBvcHVwX2FkMDJlNGYwZjI1ZTQ3YWY5NTQyN2I2YThjODI3OWQ4ID0gTC5wb3B1cCh7bWF4V2lkdGg6ICczMDAnCiAgICAgICAgICAgIAogICAgICAgICAgICB9KTsKCiAgICAgICAgICAgIAogICAgICAgICAgICAgICAgdmFyIGh0bWxfYzI3ODI0Y2NjZWVjNDgzYmI4YTRmNzFiZTczNjlkNWIgPSAkKGA8ZGl2IGlkPSJodG1sX2MyNzgyNGNjY2VlYzQ4M2JiOGE0ZjcxYmU3MzY5ZDViIiBzdHlsZT0id2lkdGg6IDEwMC4wJTsgaGVpZ2h0OiAxMDAuMCU7Ij42MDwvZGl2PmApWzBdOwogICAgICAgICAgICAgICAgcG9wdXBfYWQwMmU0ZjBmMjVlNDdhZjk1NDI3YjZhOGM4Mjc5ZDguc2V0Q29udGVudChodG1sX2MyNzgyNGNjY2VlYzQ4M2JiOGE0ZjcxYmU3MzY5ZDViKTsKICAgICAgICAgICAgCgogICAgICAgICAgICBjaXJjbGVfbWFya2VyX2Y3ZDBhNjYyNDBkNzQ2Yzk4YjExOTc4OGJjYmNlOTRhLmJpbmRQb3B1cChwb3B1cF9hZDAyZTRmMGYyNWU0N2FmOTU0MjdiNmE4YzgyNzlkOCkKICAgICAgICAgICAgOwoKICAgICAgICAgICAgCiAgICAgICAgCiAgICAKICAgICAgICAgICAgdmFyIGNpcmNsZV9tYXJrZXJfNzMxZWEwODMwMjY0NGQ5MDljMjcxNDg0MzYwMTZjNjEgPSBMLmNpcmNsZU1hcmtlcigKICAgICAgICAgICAgICAgIFs0MS43NjYxMjQ3MjUzNDE4LCAtODcuNTc3NDAwMjA3NTE5NTNdLAogICAgICAgICAgICAgICAgewogICJidWJibGluZ01vdXNlRXZlbnRzIjogdHJ1ZSwKICAiY29sb3IiOiAiIzMzODhmZiIsCiAgImRhc2hBcnJheSI6IG51bGwsCiAgImRhc2hPZmZzZXQiOiBudWxsLAogICJmaWxsIjogZmFsc2UsCiAgImZpbGxDb2xvciI6ICIjMzM4OGZmIiwKICAiZmlsbE9wYWNpdHkiOiAwLjIsCiAgImZpbGxSdWxlIjogImV2ZW5vZGQiLAogICJsaW5lQ2FwIjogInJvdW5kIiwKICAibGluZUpvaW4iOiAicm91bmQiLAogICJvcGFjaXR5IjogMS4wLAogICJyYWRpdXMiOiAyLAogICJzdHJva2UiOiB0cnVlLAogICJ3ZWlnaHQiOiAzCn0KICAgICAgICAgICAgICAgICkKICAgICAgICAgICAgICAgIC5hZGRUbyhtYXBfYjU2NTcwODQ2ZDMwNGFlMmFhYjk0NGI5NDM4YjY3ZmIpOwogICAgICAgICAgICAKICAgIAogICAgICAgICAgICB2YXIgcG9wdXBfNWQyNzg5OGYzMTRjNGM1ZDgxZGVlYjVjZDc5ODY1ZWIgPSBMLnBvcHVwKHttYXhXaWR0aDogJzMwMCcKICAgICAgICAgICAgCiAgICAgICAgICAgIH0pOwoKICAgICAgICAgICAgCiAgICAgICAgICAgICAgICB2YXIgaHRtbF9mNWQ4OGY0YThiOTM0ZDVjOTE4YTYzODk1ODA2ZTAyMiA9ICQoYDxkaXYgaWQ9Imh0bWxfZjVkODhmNGE4YjkzNGQ1YzkxOGE2Mzg5NTgwNmUwMjIiIHN0eWxlPSJ3aWR0aDogMTAwLjAlOyBoZWlnaHQ6IDEwMC4wJTsiPjYwPC9kaXY+YClbMF07CiAgICAgICAgICAgICAgICBwb3B1cF81ZDI3ODk4ZjMxNGM0YzVkODFkZWViNWNkNzk4NjVlYi5zZXRDb250ZW50KGh0bWxfZjVkODhmNGE4YjkzNGQ1YzkxOGE2Mzg5NTgwNmUwMjIpOwogICAgICAgICAgICAKCiAgICAgICAgICAgIGNpcmNsZV9tYXJrZXJfNzMxZWEwODMwMjY0NGQ5MDljMjcxNDg0MzYwMTZjNjEuYmluZFBvcHVwKHBvcHVwXzVkMjc4OThmMzE0YzRjNWQ4MWRlZWI1Y2Q3OTg2NWViKQogICAgICAgICAgICA7CgogICAgICAgICAgICAKICAgICAgICAKICAgIAogICAgICAgICAgICB2YXIgY2lyY2xlX21hcmtlcl9hZTU2MTJmMWM2N2M0NmJmYWE1ODExYmM5NTNmNmQxYiA9IEwuY2lyY2xlTWFya2VyKAogICAgICAgICAgICAgICAgWzQxLjc2NjEyODU0MDAzOTA2LCAtODcuNTc2Nzg5ODU1OTU3MDNdLAogICAgICAgICAgICAgICAgewogICJidWJibGluZ01vdXNlRXZlbnRzIjogdHJ1ZSwKICAiY29sb3IiOiAiIzMzODhmZiIsCiAgImRhc2hBcnJheSI6IG51bGwsCiAgImRhc2hPZmZzZXQiOiBudWxsLAogICJmaWxsIjogZmFsc2UsCiAgImZpbGxDb2xvciI6ICIjMzM4OGZmIiwKICAiZmlsbE9wYWNpdHkiOiAwLjIsCiAgImZpbGxSdWxlIjogImV2ZW5vZGQiLAogICJsaW5lQ2FwIjogInJvdW5kIiwKICAibGluZUpvaW4iOiAicm91bmQiLAogICJvcGFjaXR5IjogMS4wLAogICJyYWRpdXMiOiAyLAogICJzdHJva2UiOiB0cnVlLAogICJ3ZWlnaHQiOiAzCn0KICAgICAgICAgICAgICAgICkKICAgICAgICAgICAgICAgIC5hZGRUbyhtYXBfYjU2NTcwODQ2ZDMwNGFlMmFhYjk0NGI5NDM4YjY3ZmIpOwogICAgICAgICAgICAKICAgIAogICAgICAgICAgICB2YXIgcG9wdXBfZWMxM2Q1YzRkOWQzNGQ1MmJkNDRkMGM5MzU1M2YxYTQgPSBMLnBvcHVwKHttYXhXaWR0aDogJzMwMCcKICAgICAgICAgICAgCiAgICAgICAgICAgIH0pOwoKICAgICAgICAgICAgCiAgICAgICAgICAgICAgICB2YXIgaHRtbF84YjQ5OGM5YTBmMmE0ZDk3ODQ5YmE3ZTJmN2Y4YWQ0NiA9ICQoYDxkaXYgaWQ9Imh0bWxfOGI0OThjOWEwZjJhNGQ5Nzg0OWJhN2UyZjdmOGFkNDYiIHN0eWxlPSJ3aWR0aDogMTAwLjAlOyBoZWlnaHQ6IDEwMC4wJTsiPjYwPC9kaXY+YClbMF07CiAgICAgICAgICAgICAgICBwb3B1cF9lYzEzZDVjNGQ5ZDM0ZDUyYmQ0NGQwYzkzNTUzZjFhNC5zZXRDb250ZW50KGh0bWxfOGI0OThjOWEwZjJhNGQ5Nzg0OWJhN2UyZjdmOGFkNDYpOwogICAgICAgICAgICAKCiAgICAgICAgICAgIGNpcmNsZV9tYXJrZXJfYWU1NjEyZjFjNjdjNDZiZmFhNTgxMWJjOTUzZjZkMWIuYmluZFBvcHVwKHBvcHVwX2VjMTNkNWM0ZDlkMzRkNTJiZDQ0ZDBjOTM1NTNmMWE0KQogICAgICAgICAgICA7CgogICAgICAgICAgICAKICAgICAgICAKICAgIAogICAgICAgICAgICB2YXIgY2lyY2xlX21hcmtlcl9lYjRhMTBhNGRmNDE0ODA5YmZiZGI3MzcxOGEyOThlOCA9IEwuY2lyY2xlTWFya2VyKAogICAgICAgICAgICAgICAgWzQxLjc2NjE5NzIwNDU4OTg0NCwgLTg3LjU3Mjc2MTUzNTY0NDUzXSwKICAgICAgICAgICAgICAgIHsKICAiYnViYmxpbmdNb3VzZUV2ZW50cyI6IHRydWUsCiAgImNvbG9yIjogIiMzMzg4ZmYiLAogICJkYXNoQXJyYXkiOiBudWxsLAogICJkYXNoT2Zmc2V0IjogbnVsbCwKICAiZmlsbCI6IGZhbHNlLAogICJmaWxsQ29sb3IiOiAiIzMzODhmZiIsCiAgImZpbGxPcGFjaXR5IjogMC4yLAogICJmaWxsUnVsZSI6ICJldmVub2RkIiwKICAibGluZUNhcCI6ICJyb3VuZCIsCiAgImxpbmVKb2luIjogInJvdW5kIiwKICAib3BhY2l0eSI6IDEuMCwKICAicmFkaXVzIjogMiwKICAic3Ryb2tlIjogdHJ1ZSwKICAid2VpZ2h0IjogMwp9CiAgICAgICAgICAgICAgICApCiAgICAgICAgICAgICAgICAuYWRkVG8obWFwX2I1NjU3MDg0NmQzMDRhZTJhYWI5NDRiOTQzOGI2N2ZiKTsKICAgICAgICAgICAgCiAgICAKICAgICAgICAgICAgdmFyIHBvcHVwX2I5M2Y5YzNkZjcxOTRmYmFhNTkzNjQ0MjEyYTc3N2YxID0gTC5wb3B1cCh7bWF4V2lkdGg6ICczMDAnCiAgICAgICAgICAgIAogICAgICAgICAgICB9KTsKCiAgICAgICAgICAgIAogICAgICAgICAgICAgICAgdmFyIGh0bWxfMmM2ODEyODIxMmQ2NDA5NDg2NjAxOTUwMzdiY2QwNTQgPSAkKGA8ZGl2IGlkPSJodG1sXzJjNjgxMjgyMTJkNjQwOTQ4NjYwMTk1MDM3YmNkMDU0IiBzdHlsZT0id2lkdGg6IDEwMC4wJTsgaGVpZ2h0OiAxMDAuMCU7Ij42MDwvZGl2PmApWzBdOwogICAgICAgICAgICAgICAgcG9wdXBfYjkzZjljM2RmNzE5NGZiYWE1OTM2NDQyMTJhNzc3ZjEuc2V0Q29udGVudChodG1sXzJjNjgxMjgyMTJkNjQwOTQ4NjYwMTk1MDM3YmNkMDU0KTsKICAgICAgICAgICAgCgogICAgICAgICAgICBjaXJjbGVfbWFya2VyX2ViNGExMGE0ZGY0MTQ4MDliZmJkYjczNzE4YTI5OGU4LmJpbmRQb3B1cChwb3B1cF9iOTNmOWMzZGY3MTk0ZmJhYTU5MzY0NDIxMmE3NzdmMSkKICAgICAgICAgICAgOwoKICAgICAgICAgICAgCiAgICAgICAgCiAgICAKICAgICAgICAgICAgdmFyIGNpcmNsZV9tYXJrZXJfM2ZmMTM2NjQxNzdmNDFjZDk1ZDY4ZmE4OTQyYWQzMTIgPSBMLmNpcmNsZU1hcmtlcigKICAgICAgICAgICAgICAgIFs0MS43NjYyNDI5ODA5NTcwMywgLTg3LjU2ODEzODEyMjU1ODZdLAogICAgICAgICAgICAgICAgewogICJidWJibGluZ01vdXNlRXZlbnRzIjogdHJ1ZSwKICAiY29sb3IiOiAiIzMzODhmZiIsCiAgImRhc2hBcnJheSI6IG51bGwsCiAgImRhc2hPZmZzZXQiOiBudWxsLAogICJmaWxsIjogZmFsc2UsCiAgImZpbGxDb2xvciI6ICIjMzM4OGZmIiwKICAiZmlsbE9wYWNpdHkiOiAwLjIsCiAgImZpbGxSdWxlIjogImV2ZW5vZGQiLAogICJsaW5lQ2FwIjogInJvdW5kIiwKICAibGluZUpvaW4iOiAicm91bmQiLAogICJvcGFjaXR5IjogMS4wLAogICJyYWRpdXMiOiAyLAogICJzdHJva2UiOiB0cnVlLAogICJ3ZWlnaHQiOiAzCn0KICAgICAgICAgICAgICAgICkKICAgICAgICAgICAgICAgIC5hZGRUbyhtYXBfYjU2NTcwODQ2ZDMwNGFlMmFhYjk0NGI5NDM4YjY3ZmIpOwogICAgICAgICAgICAKICAgIAogICAgICAgICAgICB2YXIgcG9wdXBfYWU5NDU0NmVlODc0NDY0Yjg3N2JkMzY5MzE3NTk2MjcgPSBMLnBvcHVwKHttYXhXaWR0aDogJzMwMCcKICAgICAgICAgICAgCiAgICAgICAgICAgIH0pOwoKICAgICAgICAgICAgCiAgICAgICAgICAgICAgICB2YXIgaHRtbF83YmI3YjQ0YjNiOTU0YmYyOGI0NTBlZDRkYTU0YTc0YSA9ICQoYDxkaXYgaWQ9Imh0bWxfN2JiN2I0NGIzYjk1NGJmMjhiNDUwZWQ0ZGE1NGE3NGEiIHN0eWxlPSJ3aWR0aDogMTAwLjAlOyBoZWlnaHQ6IDEwMC4wJTsiPjYwPC9kaXY+YClbMF07CiAgICAgICAgICAgICAgICBwb3B1cF9hZTk0NTQ2ZWU4NzQ0NjRiODc3YmQzNjkzMTc1OTYyNy5zZXRDb250ZW50KGh0bWxfN2JiN2I0NGIzYjk1NGJmMjhiNDUwZWQ0ZGE1NGE3NGEpOwogICAgICAgICAgICAKCiAgICAgICAgICAgIGNpcmNsZV9tYXJrZXJfM2ZmMTM2NjQxNzdmNDFjZDk1ZDY4ZmE4OTQyYWQzMTIuYmluZFBvcHVwKHBvcHVwX2FlOTQ1NDZlZTg3NDQ2NGI4NzdiZDM2OTMxNzU5NjI3KQogICAgICAgICAgICA7CgogICAgICAgICAgICAKICAgICAgICAKICAgIAogICAgICAgICAgICB2YXIgY2lyY2xlX21hcmtlcl9hMzkyZDMyMjM1MTg0MTQzYmRkNjJiZTNjZTcwMWM5YiA9IEwuY2lyY2xlTWFya2VyKAogICAgICAgICAgICAgICAgWzQxLjc2NTgyMzM2NDI1NzgxLCAtODcuNTY2MjkxODA5MDgyMDNdLAogICAgICAgICAgICAgICAgewogICJidWJibGluZ01vdXNlRXZlbnRzIjogdHJ1ZSwKICAiY29sb3IiOiAiIzMzODhmZiIsCiAgImRhc2hBcnJheSI6IG51bGwsCiAgImRhc2hPZmZzZXQiOiBudWxsLAogICJmaWxsIjogZmFsc2UsCiAgImZpbGxDb2xvciI6ICIjMzM4OGZmIiwKICAiZmlsbE9wYWNpdHkiOiAwLjIsCiAgImZpbGxSdWxlIjogImV2ZW5vZGQiLAogICJsaW5lQ2FwIjogInJvdW5kIiwKICAibGluZUpvaW4iOiAicm91bmQiLAogICJvcGFjaXR5IjogMS4wLAogICJyYWRpdXMiOiAyLAogICJzdHJva2UiOiB0cnVlLAogICJ3ZWlnaHQiOiAzCn0KICAgICAgICAgICAgICAgICkKICAgICAgICAgICAgICAgIC5hZGRUbyhtYXBfYjU2NTcwODQ2ZDMwNGFlMmFhYjk0NGI5NDM4YjY3ZmIpOwogICAgICAgICAgICAKICAgIAogICAgICAgICAgICB2YXIgcG9wdXBfNmM0NDYxOWMyYjk4NDJkMWFkOWYzNDdiMzM4N2U2MzkgPSBMLnBvcHVwKHttYXhXaWR0aDogJzMwMCcKICAgICAgICAgICAgCiAgICAgICAgICAgIH0pOwoKICAgICAgICAgICAgCiAgICAgICAgICAgICAgICB2YXIgaHRtbF9jNGMxMTU4OWE1Y2Y0NDRkYWI0NDc4YTUyNmY3YmIyNSA9ICQoYDxkaXYgaWQ9Imh0bWxfYzRjMTE1ODlhNWNmNDQ0ZGFiNDQ3OGE1MjZmN2JiMjUiIHN0eWxlPSJ3aWR0aDogMTAwLjAlOyBoZWlnaHQ6IDEwMC4wJTsiPjYwPC9kaXY+YClbMF07CiAgICAgICAgICAgICAgICBwb3B1cF82YzQ0NjE5YzJiOTg0MmQxYWQ5ZjM0N2IzMzg3ZTYzOS5zZXRDb250ZW50KGh0bWxfYzRjMTE1ODlhNWNmNDQ0ZGFiNDQ3OGE1MjZmN2JiMjUpOwogICAgICAgICAgICAKCiAgICAgICAgICAgIGNpcmNsZV9tYXJrZXJfYTM5MmQzMjIzNTE4NDE0M2JkZDYyYmUzY2U3MDFjOWIuYmluZFBvcHVwKHBvcHVwXzZjNDQ2MTljMmI5ODQyZDFhZDlmMzQ3YjMzODdlNjM5KQogICAgICAgICAgICA7CgogICAgICAgICAgICAKICAgICAgICAKICAgIAogICAgICAgICAgICB2YXIgY2lyY2xlX21hcmtlcl8yOTQ4NWE2MGQ1Y2E0ZjQ4YjVlZGQ4ZGNkYWY1YzZlYyA9IEwuY2lyY2xlTWFya2VyKAogICAgICAgICAgICAgICAgWzQxLjc2NDkzODM1NDQ5MjE5LCAtODcuNTY1NDc1NDYzODY3MTldLAogICAgICAgICAgICAgICAgewogICJidWJibGluZ01vdXNlRXZlbnRzIjogdHJ1ZSwKICAiY29sb3IiOiAiIzMzODhmZiIsCiAgImRhc2hBcnJheSI6IG51bGwsCiAgImRhc2hPZmZzZXQiOiBudWxsLAogICJmaWxsIjogZmFsc2UsCiAgImZpbGxDb2xvciI6ICIjMzM4OGZmIiwKICAiZmlsbE9wYWNpdHkiOiAwLjIsCiAgImZpbGxSdWxlIjogImV2ZW5vZGQiLAogICJsaW5lQ2FwIjogInJvdW5kIiwKICAibGluZUpvaW4iOiAicm91bmQiLAogICJvcGFjaXR5IjogMS4wLAogICJyYWRpdXMiOiAyLAogICJzdHJva2UiOiB0cnVlLAogICJ3ZWlnaHQiOiAzCn0KICAgICAgICAgICAgICAgICkKICAgICAgICAgICAgICAgIC5hZGRUbyhtYXBfYjU2NTcwODQ2ZDMwNGFlMmFhYjk0NGI5NDM4YjY3ZmIpOwogICAgICAgICAgICAKICAgIAogICAgICAgICAgICB2YXIgcG9wdXBfMGNiNzA1YmE4NGU3NDY2MGJkN2RiOGZjOTEzMzlmZDcgPSBMLnBvcHVwKHttYXhXaWR0aDogJzMwMCcKICAgICAgICAgICAgCiAgICAgICAgICAgIH0pOwoKICAgICAgICAgICAgCiAgICAgICAgICAgICAgICB2YXIgaHRtbF9iYjIyZDkyNTE4ZmE0ZWMyOTk1OWZjZGI5M2U2ZTRlNCA9ICQoYDxkaXYgaWQ9Imh0bWxfYmIyMmQ5MjUxOGZhNGVjMjk5NTlmY2RiOTNlNmU0ZTQiIHN0eWxlPSJ3aWR0aDogMTAwLjAlOyBoZWlnaHQ6IDEwMC4wJTsiPjEyMDwvZGl2PmApWzBdOwogICAgICAgICAgICAgICAgcG9wdXBfMGNiNzA1YmE4NGU3NDY2MGJkN2RiOGZjOTEzMzlmZDcuc2V0Q29udGVudChodG1sX2JiMjJkOTI1MThmYTRlYzI5OTU5ZmNkYjkzZTZlNGU0KTsKICAgICAgICAgICAgCgogICAgICAgICAgICBjaXJjbGVfbWFya2VyXzI5NDg1YTYwZDVjYTRmNDhiNWVkZDhkY2RhZjVjNmVjLmJpbmRQb3B1cChwb3B1cF8wY2I3MDViYTg0ZTc0NjYwYmQ3ZGI4ZmM5MTMzOWZkNykKICAgICAgICAgICAgOwoKICAgICAgICAgICAgCiAgICAgICAgCiAgICAKICAgICAgICAgICAgdmFyIGNpcmNsZV9tYXJrZXJfODc2MjZlZmI4YjliNGZjMjkwOGFlYzI4ODY5YTFjNGUgPSBMLmNpcmNsZU1hcmtlcigKICAgICAgICAgICAgICAgIFs0MS43NjIxMDQwMzQ0MjM4MywgLTg3LjU2Mjg4OTA5OTEyMTFdLAogICAgICAgICAgICAgICAgewogICJidWJibGluZ01vdXNlRXZlbnRzIjogdHJ1ZSwKICAiY29sb3IiOiAiIzMzODhmZiIsCiAgImRhc2hBcnJheSI6IG51bGwsCiAgImRhc2hPZmZzZXQiOiBudWxsLAogICJmaWxsIjogZmFsc2UsCiAgImZpbGxDb2xvciI6ICIjMzM4OGZmIiwKICAiZmlsbE9wYWNpdHkiOiAwLjIsCiAgImZpbGxSdWxlIjogImV2ZW5vZGQiLAogICJsaW5lQ2FwIjogInJvdW5kIiwKICAibGluZUpvaW4iOiAicm91bmQiLAogICJvcGFjaXR5IjogMS4wLAogICJyYWRpdXMiOiAyLAogICJzdHJva2UiOiB0cnVlLAogICJ3ZWlnaHQiOiAzCn0KICAgICAgICAgICAgICAgICkKICAgICAgICAgICAgICAgIC5hZGRUbyhtYXBfYjU2NTcwODQ2ZDMwNGFlMmFhYjk0NGI5NDM4YjY3ZmIpOwogICAgICAgICAgICAKICAgIAogICAgICAgICAgICB2YXIgcG9wdXBfZThlZjdlYTU4MDJhNDEwZDk0MzA2NmYyNjNkZWVmMzYgPSBMLnBvcHVwKHttYXhXaWR0aDogJzMwMCcKICAgICAgICAgICAgCiAgICAgICAgICAgIH0pOwoKICAgICAgICAgICAgCiAgICAgICAgICAgICAgICB2YXIgaHRtbF9kYzdkMzE5OWU2MWQ0M2U0OTFkM2QzNDZjMTViOWEyYyA9ICQoYDxkaXYgaWQ9Imh0bWxfZGM3ZDMxOTllNjFkNDNlNDkxZDNkMzQ2YzE1YjlhMmMiIHN0eWxlPSJ3aWR0aDogMTAwLjAlOyBoZWlnaHQ6IDEwMC4wJTsiPjYwPC9kaXY+YClbMF07CiAgICAgICAgICAgICAgICBwb3B1cF9lOGVmN2VhNTgwMmE0MTBkOTQzMDY2ZjI2M2RlZWYzNi5zZXRDb250ZW50KGh0bWxfZGM3ZDMxOTllNjFkNDNlNDkxZDNkMzQ2YzE1YjlhMmMpOwogICAgICAgICAgICAKCiAgICAgICAgICAgIGNpcmNsZV9tYXJrZXJfODc2MjZlZmI4YjliNGZjMjkwOGFlYzI4ODY5YTFjNGUuYmluZFBvcHVwKHBvcHVwX2U4ZWY3ZWE1ODAyYTQxMGQ5NDMwNjZmMjYzZGVlZjM2KQogICAgICAgICAgICA7CgogICAgICAgICAgICAKICAgICAgICAKICAgIAogICAgICAgICAgICB2YXIgY2lyY2xlX21hcmtlcl8zMzgyYmM1NTExZjI0NTNkOThiYjIyMjY2NmE1M2RhMiA9IEwuY2lyY2xlTWFya2VyKAogICAgICAgICAgICAgICAgWzQxLjc1OTU5MDE0ODkyNTc4LCAtODcuNTYwNjIzMTY4OTQ1MzFdLAogICAgICAgICAgICAgICAgewogICJidWJibGluZ01vdXNlRXZlbnRzIjogdHJ1ZSwKICAiY29sb3IiOiAiIzMzODhmZiIsCiAgImRhc2hBcnJheSI6IG51bGwsCiAgImRhc2hPZmZzZXQiOiBudWxsLAogICJmaWxsIjogZmFsc2UsCiAgImZpbGxDb2xvciI6ICIjMzM4OGZmIiwKICAiZmlsbE9wYWNpdHkiOiAwLjIsCiAgImZpbGxSdWxlIjogImV2ZW5vZGQiLAogICJsaW5lQ2FwIjogInJvdW5kIiwKICAibGluZUpvaW4iOiAicm91bmQiLAogICJvcGFjaXR5IjogMS4wLAogICJyYWRpdXMiOiAyLAogICJzdHJva2UiOiB0cnVlLAogICJ3ZWlnaHQiOiAzCn0KICAgICAgICAgICAgICAgICkKICAgICAgICAgICAgICAgIC5hZGRUbyhtYXBfYjU2NTcwODQ2ZDMwNGFlMmFhYjk0NGI5NDM4YjY3ZmIpOwogICAgICAgICAgICAKICAgIAogICAgICAgICAgICB2YXIgcG9wdXBfZDZkYzlmODg5MDY3NDQzZmJjMWI0ODVmNGQ4OTljNzYgPSBMLnBvcHVwKHttYXhXaWR0aDogJzMwMCcKICAgICAgICAgICAgCiAgICAgICAgICAgIH0pOwoKICAgICAgICAgICAgCiAgICAgICAgICAgICAgICB2YXIgaHRtbF8yZTg1OWUzMzA4OGE0ZTZiYjJhMDQ5ZTcwYTA4NzljMCA9ICQoYDxkaXYgaWQ9Imh0bWxfMmU4NTllMzMwODhhNGU2YmIyYTA0OWU3MGEwODc5YzAiIHN0eWxlPSJ3aWR0aDogMTAwLjAlOyBoZWlnaHQ6IDEwMC4wJTsiPjYwPC9kaXY+YClbMF07CiAgICAgICAgICAgICAgICBwb3B1cF9kNmRjOWY4ODkwNjc0NDNmYmMxYjQ4NWY0ZDg5OWM3Ni5zZXRDb250ZW50KGh0bWxfMmU4NTllMzMwODhhNGU2YmIyYTA0OWU3MGEwODc5YzApOwogICAgICAgICAgICAKCiAgICAgICAgICAgIGNpcmNsZV9tYXJrZXJfMzM4MmJjNTUxMWYyNDUzZDk4YmIyMjI2NjZhNTNkYTIuYmluZFBvcHVwKHBvcHVwX2Q2ZGM5Zjg4OTA2NzQ0M2ZiYzFiNDg1ZjRkODk5Yzc2KQogICAgICAgICAgICA7CgogICAgICAgICAgICAKICAgICAgICAKICAgIAogICAgICAgICAgICB2YXIgY2lyY2xlX21hcmtlcl83NDY1NjFhMDMyNTY0NmNmYWJiNTQ4ODBlODYxMTE2YyA9IEwuY2lyY2xlTWFya2VyKAogICAgICAgICAgICAgICAgWzQxLjc1ODM1NDE4NzAxMTcyLCAtODcuNTU5NDEwMDk1MjE0ODRdLAogICAgICAgICAgICAgICAgewogICJidWJibGluZ01vdXNlRXZlbnRzIjogdHJ1ZSwKICAiY29sb3IiOiAiIzMzODhmZiIsCiAgImRhc2hBcnJheSI6IG51bGwsCiAgImRhc2hPZmZzZXQiOiBudWxsLAogICJmaWxsIjogZmFsc2UsCiAgImZpbGxDb2xvciI6ICIjMzM4OGZmIiwKICAiZmlsbE9wYWNpdHkiOiAwLjIsCiAgImZpbGxSdWxlIjogImV2ZW5vZGQiLAogICJsaW5lQ2FwIjogInJvdW5kIiwKICAibGluZUpvaW4iOiAicm91bmQiLAogICJvcGFjaXR5IjogMS4wLAogICJyYWRpdXMiOiAyLAogICJzdHJva2UiOiB0cnVlLAogICJ3ZWlnaHQiOiAzCn0KICAgICAgICAgICAgICAgICkKICAgICAgICAgICAgICAgIC5hZGRUbyhtYXBfYjU2NTcwODQ2ZDMwNGFlMmFhYjk0NGI5NDM4YjY3ZmIpOwogICAgICAgICAgICAKICAgIAogICAgICAgICAgICB2YXIgcG9wdXBfMTdiMGVmODQxODBiNGQ1NGJhOGE4Mzk2OGUyYmY5MjIgPSBMLnBvcHVwKHttYXhXaWR0aDogJzMwMCcKICAgICAgICAgICAgCiAgICAgICAgICAgIH0pOwoKICAgICAgICAgICAgCiAgICAgICAgICAgICAgICB2YXIgaHRtbF8wYzM5M2RhNTRjMGI0YTcyYjZkODYyMzg0YmE4NGRkYiA9ICQoYDxkaXYgaWQ9Imh0bWxfMGMzOTNkYTU0YzBiNGE3MmI2ZDg2MjM4NGJhODRkZGIiIHN0eWxlPSJ3aWR0aDogMTAwLjAlOyBoZWlnaHQ6IDEwMC4wJTsiPjA8L2Rpdj5gKVswXTsKICAgICAgICAgICAgICAgIHBvcHVwXzE3YjBlZjg0MTgwYjRkNTRiYThhODM5NjhlMmJmOTIyLnNldENvbnRlbnQoaHRtbF8wYzM5M2RhNTRjMGI0YTcyYjZkODYyMzg0YmE4NGRkYik7CiAgICAgICAgICAgIAoKICAgICAgICAgICAgY2lyY2xlX21hcmtlcl83NDY1NjFhMDMyNTY0NmNmYWJiNTQ4ODBlODYxMTE2Yy5iaW5kUG9wdXAocG9wdXBfMTdiMGVmODQxODBiNGQ1NGJhOGE4Mzk2OGUyYmY5MjIpCiAgICAgICAgICAgIDsKCiAgICAgICAgICAgIAogICAgICAgIAogICAgCiAgICAgICAgICAgIHZhciBjaXJjbGVfbWFya2VyX2E5MmM2YmZmZGQyYzQyYzRhZDQxZjFiYzZhMTNkOTA2ID0gTC5jaXJjbGVNYXJrZXIoCiAgICAgICAgICAgICAgICBbNDEuNzU1Njg3NzEzNjIzMDUsIC04Ny41NTY1MDMyOTU4OTg0NF0sCiAgICAgICAgICAgICAgICB7CiAgImJ1YmJsaW5nTW91c2VFdmVudHMiOiB0cnVlLAogICJjb2xvciI6ICIjMzM4OGZmIiwKICAiZGFzaEFycmF5IjogbnVsbCwKICAiZGFzaE9mZnNldCI6IG51bGwsCiAgImZpbGwiOiBmYWxzZSwKICAiZmlsbENvbG9yIjogIiMzMzg4ZmYiLAogICJmaWxsT3BhY2l0eSI6IDAuMiwKICAiZmlsbFJ1bGUiOiAiZXZlbm9kZCIsCiAgImxpbmVDYXAiOiAicm91bmQiLAogICJsaW5lSm9pbiI6ICJyb3VuZCIsCiAgIm9wYWNpdHkiOiAxLjAsCiAgInJhZGl1cyI6IDIsCiAgInN0cm9rZSI6IHRydWUsCiAgIndlaWdodCI6IDMKfQogICAgICAgICAgICAgICAgKQogICAgICAgICAgICAgICAgLmFkZFRvKG1hcF9iNTY1NzA4NDZkMzA0YWUyYWFiOTQ0Yjk0MzhiNjdmYik7CiAgICAgICAgICAgIAogICAgCiAgICAgICAgICAgIHZhciBwb3B1cF82MTY4ZWIwNTdlNTE0NWZlYWM3NjcyM2JiYWFlZGViMiA9IEwucG9wdXAoe21heFdpZHRoOiAnMzAwJwogICAgICAgICAgICAKICAgICAgICAgICAgfSk7CgogICAgICAgICAgICAKICAgICAgICAgICAgICAgIHZhciBodG1sXzA2NTA0OTdlOWZlZDQ4MTc5NGViNjU0Njc3NGNhNzZhID0gJChgPGRpdiBpZD0iaHRtbF8wNjUwNDk3ZTlmZWQ0ODE3OTRlYjY1NDY3NzRjYTc2YSIgc3R5bGU9IndpZHRoOiAxMDAuMCU7IGhlaWdodDogMTAwLjAlOyI+NjA8L2Rpdj5gKVswXTsKICAgICAgICAgICAgICAgIHBvcHVwXzYxNjhlYjA1N2U1MTQ1ZmVhYzc2NzIzYmJhYWVkZWIyLnNldENvbnRlbnQoaHRtbF8wNjUwNDk3ZTlmZWQ0ODE3OTRlYjY1NDY3NzRjYTc2YSk7CiAgICAgICAgICAgIAoKICAgICAgICAgICAgY2lyY2xlX21hcmtlcl9hOTJjNmJmZmRkMmM0MmM0YWQ0MWYxYmM2YTEzZDkwNi5iaW5kUG9wdXAocG9wdXBfNjE2OGViMDU3ZTUxNDVmZWFjNzY3MjNiYmFhZWRlYjIpCiAgICAgICAgICAgIDsKCiAgICAgICAgICAgIAogICAgICAgIAogICAgCiAgICAgICAgICAgIHZhciBjaXJjbGVfbWFya2VyXzc0MWIzNDA1YmRjNTQ0ZmI4Y2EyNDI2ZDI5OWJlOWRhID0gTC5jaXJjbGVNYXJrZXIoCiAgICAgICAgICAgICAgICBbNDEuNzUzMjczMDEwMjUzOTA2LCAtODcuNTUzOTI0NTYwNTQ2ODhdLAogICAgICAgICAgICAgICAgewogICJidWJibGluZ01vdXNlRXZlbnRzIjogdHJ1ZSwKICAiY29sb3IiOiAiIzMzODhmZiIsCiAgImRhc2hBcnJheSI6IG51bGwsCiAgImRhc2hPZmZzZXQiOiBudWxsLAogICJmaWxsIjogZmFsc2UsCiAgImZpbGxDb2xvciI6ICIjMzM4OGZmIiwKICAiZmlsbE9wYWNpdHkiOiAwLjIsCiAgImZpbGxSdWxlIjogImV2ZW5vZGQiLAogICJsaW5lQ2FwIjogInJvdW5kIiwKICAibGluZUpvaW4iOiAicm91bmQiLAogICJvcGFjaXR5IjogMS4wLAogICJyYWRpdXMiOiAyLAogICJzdHJva2UiOiB0cnVlLAogICJ3ZWlnaHQiOiAzCn0KICAgICAgICAgICAgICAgICkKICAgICAgICAgICAgICAgIC5hZGRUbyhtYXBfYjU2NTcwODQ2ZDMwNGFlMmFhYjk0NGI5NDM4YjY3ZmIpOwogICAgICAgICAgICAKICAgIAogICAgICAgICAgICB2YXIgcG9wdXBfZjVlNzMwNDM3ZTU4NDhjMjhmMTY1NjM0YWMyNGY5MzggPSBMLnBvcHVwKHttYXhXaWR0aDogJzMwMCcKICAgICAgICAgICAgCiAgICAgICAgICAgIH0pOwoKICAgICAgICAgICAgCiAgICAgICAgICAgICAgICB2YXIgaHRtbF82OGU2YTVkMWEwYTI0ZDAzOWQzZThmZGIwYjcxNmI2OSA9ICQoYDxkaXYgaWQ9Imh0bWxfNjhlNmE1ZDFhMGEyNGQwMzlkM2U4ZmRiMGI3MTZiNjkiIHN0eWxlPSJ3aWR0aDogMTAwLjAlOyBoZWlnaHQ6IDEwMC4wJTsiPjA8L2Rpdj5gKVswXTsKICAgICAgICAgICAgICAgIHBvcHVwX2Y1ZTczMDQzN2U1ODQ4YzI4ZjE2NTYzNGFjMjRmOTM4LnNldENvbnRlbnQoaHRtbF82OGU2YTVkMWEwYTI0ZDAzOWQzZThmZGIwYjcxNmI2OSk7CiAgICAgICAgICAgIAoKICAgICAgICAgICAgY2lyY2xlX21hcmtlcl83NDFiMzQwNWJkYzU0NGZiOGNhMjQyNmQyOTliZTlkYS5iaW5kUG9wdXAocG9wdXBfZjVlNzMwNDM3ZTU4NDhjMjhmMTY1NjM0YWMyNGY5MzgpCiAgICAgICAgICAgIDsKCiAgICAgICAgICAgIAogICAgICAgIAogICAgCiAgICAgICAgICAgIHZhciBjaXJjbGVfbWFya2VyXzU3NTQ0MzM2ODk5MzRjZmZiMmFhNmY5ZTRlOTNlNGMyID0gTC5jaXJjbGVNYXJrZXIoCiAgICAgICAgICAgICAgICBbNDEuNzUyNDIyMzMyNzYzNjcsIC04Ny41NTI5ODYxNDUwMTk1M10sCiAgICAgICAgICAgICAgICB7CiAgImJ1YmJsaW5nTW91c2VFdmVudHMiOiB0cnVlLAogICJjb2xvciI6ICIjMzM4OGZmIiwKICAiZGFzaEFycmF5IjogbnVsbCwKICAiZGFzaE9mZnNldCI6IG51bGwsCiAgImZpbGwiOiBmYWxzZSwKICAiZmlsbENvbG9yIjogIiMzMzg4ZmYiLAogICJmaWxsT3BhY2l0eSI6IDAuMiwKICAiZmlsbFJ1bGUiOiAiZXZlbm9kZCIsCiAgImxpbmVDYXAiOiAicm91bmQiLAogICJsaW5lSm9pbiI6ICJyb3VuZCIsCiAgIm9wYWNpdHkiOiAxLjAsCiAgInJhZGl1cyI6IDIsCiAgInN0cm9rZSI6IHRydWUsCiAgIndlaWdodCI6IDMKfQogICAgICAgICAgICAgICAgKQogICAgICAgICAgICAgICAgLmFkZFRvKG1hcF9iNTY1NzA4NDZkMzA0YWUyYWFiOTQ0Yjk0MzhiNjdmYik7CiAgICAgICAgICAgIAogICAgCiAgICAgICAgICAgIHZhciBwb3B1cF83YjJkMTJjNzZlMzg0NzM3YWY4MTYxNGYyNmQ2MWQ0MCA9IEwucG9wdXAoe21heFdpZHRoOiAnMzAwJwogICAgICAgICAgICAKICAgICAgICAgICAgfSk7CgogICAgICAgICAgICAKICAgICAgICAgICAgICAgIHZhciBodG1sX2RjNWU1MGQwYmQ2YzRmNThhMzI5ZTU0ZjUyNTdjMDZhID0gJChgPGRpdiBpZD0iaHRtbF9kYzVlNTBkMGJkNmM0ZjU4YTMyOWU1NGY1MjU3YzA2YSIgc3R5bGU9IndpZHRoOiAxMDAuMCU7IGhlaWdodDogMTAwLjAlOyI+MDwvZGl2PmApWzBdOwogICAgICAgICAgICAgICAgcG9wdXBfN2IyZDEyYzc2ZTM4NDczN2FmODE2MTRmMjZkNjFkNDAuc2V0Q29udGVudChodG1sX2RjNWU1MGQwYmQ2YzRmNThhMzI5ZTU0ZjUyNTdjMDZhKTsKICAgICAgICAgICAgCgogICAgICAgICAgICBjaXJjbGVfbWFya2VyXzU3NTQ0MzM2ODk5MzRjZmZiMmFhNmY5ZTRlOTNlNGMyLmJpbmRQb3B1cChwb3B1cF83YjJkMTJjNzZlMzg0NzM3YWY4MTYxNGYyNmQ2MWQ0MCkKICAgICAgICAgICAgOwoKICAgICAgICAgICAgCiAgICAgICAgCiAgICAKICAgICAgICAgICAgdmFyIGNpcmNsZV9tYXJrZXJfZmU5NmRjNmFkOTFkNGNkMmJmOTUzYzk0MDJiYjQ3MWYgPSBMLmNpcmNsZU1hcmtlcigKICAgICAgICAgICAgICAgIFs0MS43NTIxNDc2NzQ1NjA1NSwgLTg3LjU1MjY3MzMzOTg0Mzc1XSwKICAgICAgICAgICAgICAgIHsKICAiYnViYmxpbmdNb3VzZUV2ZW50cyI6IHRydWUsCiAgImNvbG9yIjogIiMzMzg4ZmYiLAogICJkYXNoQXJyYXkiOiBudWxsLAogICJkYXNoT2Zmc2V0IjogbnVsbCwKICAiZmlsbCI6IGZhbHNlLAogICJmaWxsQ29sb3IiOiAiIzMzODhmZiIsCiAgImZpbGxPcGFjaXR5IjogMC4yLAogICJmaWxsUnVsZSI6ICJldmVub2RkIiwKICAibGluZUNhcCI6ICJyb3VuZCIsCiAgImxpbmVKb2luIjogInJvdW5kIiwKICAib3BhY2l0eSI6IDEuMCwKICAicmFkaXVzIjogMiwKICAic3Ryb2tlIjogdHJ1ZSwKICAid2VpZ2h0IjogMwp9CiAgICAgICAgICAgICAgICApCiAgICAgICAgICAgICAgICAuYWRkVG8obWFwX2I1NjU3MDg0NmQzMDRhZTJhYWI5NDRiOTQzOGI2N2ZiKTsKICAgICAgICAgICAgCiAgICAKICAgICAgICAgICAgdmFyIHBvcHVwXzg5YTc2MGQxYjYzNzRiNDk4ZGU4Zjk2NmMyMDNjMjg1ID0gTC5wb3B1cCh7bWF4V2lkdGg6ICczMDAnCiAgICAgICAgICAgIAogICAgICAgICAgICB9KTsKCiAgICAgICAgICAgIAogICAgICAgICAgICAgICAgdmFyIGh0bWxfNWMxY2RiYjFjN2ViNGRlNmJlMWUwYTg3YTZlZDk4Y2IgPSAkKGA8ZGl2IGlkPSJodG1sXzVjMWNkYmIxYzdlYjRkZTZiZTFlMGE4N2E2ZWQ5OGNiIiBzdHlsZT0id2lkdGg6IDEwMC4wJTsgaGVpZ2h0OiAxMDAuMCU7Ij4wPC9kaXY+YClbMF07CiAgICAgICAgICAgICAgICBwb3B1cF84OWE3NjBkMWI2Mzc0YjQ5OGRlOGY5NjZjMjAzYzI4NS5zZXRDb250ZW50KGh0bWxfNWMxY2RiYjFjN2ViNGRlNmJlMWUwYTg3YTZlZDk4Y2IpOwogICAgICAgICAgICAKCiAgICAgICAgICAgIGNpcmNsZV9tYXJrZXJfZmU5NmRjNmFkOTFkNGNkMmJmOTUzYzk0MDJiYjQ3MWYuYmluZFBvcHVwKHBvcHVwXzg5YTc2MGQxYjYzNzRiNDk4ZGU4Zjk2NmMyMDNjMjg1KQogICAgICAgICAgICA7CgogICAgICAgICAgICAKICAgICAgICAKICAgIAogICAgICAgICAgICB2YXIgY2lyY2xlX21hcmtlcl8zNWI3MDFlMzdlOWE0NWY3OGQxMzkxMmY0NzM0NTUxZiA9IEwuY2lyY2xlTWFya2VyKAogICAgICAgICAgICAgICAgWzQxLjc0OTU2NTEyNDUxMTcyLCAtODcuNTUxODcyMjUzNDE3OTddLAogICAgICAgICAgICAgICAgewogICJidWJibGluZ01vdXNlRXZlbnRzIjogdHJ1ZSwKICAiY29sb3IiOiAiIzMzODhmZiIsCiAgImRhc2hBcnJheSI6IG51bGwsCiAgImRhc2hPZmZzZXQiOiBudWxsLAogICJmaWxsIjogZmFsc2UsCiAgImZpbGxDb2xvciI6ICIjMzM4OGZmIiwKICAiZmlsbE9wYWNpdHkiOiAwLjIsCiAgImZpbGxSdWxlIjogImV2ZW5vZGQiLAogICJsaW5lQ2FwIjogInJvdW5kIiwKICAibGluZUpvaW4iOiAicm91bmQiLAogICJvcGFjaXR5IjogMS4wLAogICJyYWRpdXMiOiAyLAogICJzdHJva2UiOiB0cnVlLAogICJ3ZWlnaHQiOiAzCn0KICAgICAgICAgICAgICAgICkKICAgICAgICAgICAgICAgIC5hZGRUbyhtYXBfYjU2NTcwODQ2ZDMwNGFlMmFhYjk0NGI5NDM4YjY3ZmIpOwogICAgICAgICAgICAKICAgIAogICAgICAgICAgICB2YXIgcG9wdXBfZDRjNWZkMzNiY2I3NGVjZDgzN2M1Y2FjNjU3Mjg4YmMgPSBMLnBvcHVwKHttYXhXaWR0aDogJzMwMCcKICAgICAgICAgICAgCiAgICAgICAgICAgIH0pOwoKICAgICAgICAgICAgCiAgICAgICAgICAgICAgICB2YXIgaHRtbF82NjM5NzZlZjA4NTE0N2ZkOTVjNGQxNGQzMWQ1YmE3MSA9ICQoYDxkaXYgaWQ9Imh0bWxfNjYzOTc2ZWYwODUxNDdmZDk1YzRkMTRkMzFkNWJhNzEiIHN0eWxlPSJ3aWR0aDogMTAwLjAlOyBoZWlnaHQ6IDEwMC4wJTsiPjYwPC9kaXY+YClbMF07CiAgICAgICAgICAgICAgICBwb3B1cF9kNGM1ZmQzM2JjYjc0ZWNkODM3YzVjYWM2NTcyODhiYy5zZXRDb250ZW50KGh0bWxfNjYzOTc2ZWYwODUxNDdmZDk1YzRkMTRkMzFkNWJhNzEpOwogICAgICAgICAgICAKCiAgICAgICAgICAgIGNpcmNsZV9tYXJrZXJfMzViNzAxZTM3ZTlhNDVmNzhkMTM5MTJmNDczNDU1MWYuYmluZFBvcHVwKHBvcHVwX2Q0YzVmZDMzYmNiNzRlY2Q4MzdjNWNhYzY1NzI4OGJjKQogICAgICAgICAgICA7CgogICAgICAgICAgICAKICAgICAgICAKICAgIAogICAgICAgICAgICB2YXIgY2lyY2xlX21hcmtlcl9hZDdjM2E2MTAyYTc0NGFkYThjNDE1YzdhZGU0NDE3ZCA9IEwuY2lyY2xlTWFya2VyKAogICAgICAgICAgICAgICAgWzQxLjc0NTc3NzEzMDEyNjk1LCAtODcuNTUxNjU4NjMwMzcxMV0sCiAgICAgICAgICAgICAgICB7CiAgImJ1YmJsaW5nTW91c2VFdmVudHMiOiB0cnVlLAogICJjb2xvciI6ICIjMzM4OGZmIiwKICAiZGFzaEFycmF5IjogbnVsbCwKICAiZGFzaE9mZnNldCI6IG51bGwsCiAgImZpbGwiOiBmYWxzZSwKICAiZmlsbENvbG9yIjogIiMzMzg4ZmYiLAogICJmaWxsT3BhY2l0eSI6IDAuMiwKICAiZmlsbFJ1bGUiOiAiZXZlbm9kZCIsCiAgImxpbmVDYXAiOiAicm91bmQiLAogICJsaW5lSm9pbiI6ICJyb3VuZCIsCiAgIm9wYWNpdHkiOiAxLjAsCiAgInJhZGl1cyI6IDIsCiAgInN0cm9rZSI6IHRydWUsCiAgIndlaWdodCI6IDMKfQogICAgICAgICAgICAgICAgKQogICAgICAgICAgICAgICAgLmFkZFRvKG1hcF9iNTY1NzA4NDZkMzA0YWUyYWFiOTQ0Yjk0MzhiNjdmYik7CiAgICAgICAgICAgIAogICAgCiAgICAgICAgICAgIHZhciBwb3B1cF82MzEwZTk2ZTQ3ODA0YTYzYjY4ODZlODA1ZjhhMTBjZCA9IEwucG9wdXAoe21heFdpZHRoOiAnMzAwJwogICAgICAgICAgICAKICAgICAgICAgICAgfSk7CgogICAgICAgICAgICAKICAgICAgICAgICAgICAgIHZhciBodG1sX2YwOTk5MjU5NWY5NzQyYmQ5YWRmODcyN2YwMzFlY2ZlID0gJChgPGRpdiBpZD0iaHRtbF9mMDk5OTI1OTVmOTc0MmJkOWFkZjg3MjdmMDMxZWNmZSIgc3R5bGU9IndpZHRoOiAxMDAuMCU7IGhlaWdodDogMTAwLjAlOyI+MDwvZGl2PmApWzBdOwogICAgICAgICAgICAgICAgcG9wdXBfNjMxMGU5NmU0NzgwNGE2M2I2ODg2ZTgwNWY4YTEwY2Quc2V0Q29udGVudChodG1sX2YwOTk5MjU5NWY5NzQyYmQ5YWRmODcyN2YwMzFlY2ZlKTsKICAgICAgICAgICAgCgogICAgICAgICAgICBjaXJjbGVfbWFya2VyX2FkN2MzYTYxMDJhNzQ0YWRhOGM0MTVjN2FkZTQ0MTdkLmJpbmRQb3B1cChwb3B1cF82MzEwZTk2ZTQ3ODA0YTYzYjY4ODZlODA1ZjhhMTBjZCkKICAgICAgICAgICAgOwoKICAgICAgICAgICAgCiAgICAgICAgCiAgICAKICAgICAgICAgICAgdmFyIGNpcmNsZV9tYXJrZXJfNDkyZWQ2NmRhOTcwNDBkYmEyNjA1NjdjMTNlMmE2OTUgPSBMLmNpcmNsZU1hcmtlcigKICAgICAgICAgICAgICAgIFs0MS43NDQ1MjIwOTQ3MjY1NiwgLTg3LjU1MTU4MjMzNjQyNTc4XSwKICAgICAgICAgICAgICAgIHsKICAiYnViYmxpbmdNb3VzZUV2ZW50cyI6IHRydWUsCiAgImNvbG9yIjogIiMzMzg4ZmYiLAogICJkYXNoQXJyYXkiOiBudWxsLAogICJkYXNoT2Zmc2V0IjogbnVsbCwKICAiZmlsbCI6IGZhbHNlLAogICJmaWxsQ29sb3IiOiAiIzMzODhmZiIsCiAgImZpbGxPcGFjaXR5IjogMC4yLAogICJmaWxsUnVsZSI6ICJldmVub2RkIiwKICAibGluZUNhcCI6ICJyb3VuZCIsCiAgImxpbmVKb2luIjogInJvdW5kIiwKICAib3BhY2l0eSI6IDEuMCwKICAicmFkaXVzIjogMiwKICAic3Ryb2tlIjogdHJ1ZSwKICAid2VpZ2h0IjogMwp9CiAgICAgICAgICAgICAgICApCiAgICAgICAgICAgICAgICAuYWRkVG8obWFwX2I1NjU3MDg0NmQzMDRhZTJhYWI5NDRiOTQzOGI2N2ZiKTsKICAgICAgICAgICAgCiAgICAKICAgICAgICAgICAgdmFyIHBvcHVwXzNhNmMxN2Y4OTRhNTRjZmM5ZjM3MzUwYzhhNmQ3NGVlID0gTC5wb3B1cCh7bWF4V2lkdGg6ICczMDAnCiAgICAgICAgICAgIAogICAgICAgICAgICB9KTsKCiAgICAgICAgICAgIAogICAgICAgICAgICAgICAgdmFyIGh0bWxfMWVhZjM1OTUzOTUyNGMwMmIzZDlkNTIzNWI1NGJmZTIgPSAkKGA8ZGl2IGlkPSJodG1sXzFlYWYzNTk1Mzk1MjRjMDJiM2Q5ZDUyMzViNTRiZmUyIiBzdHlsZT0id2lkdGg6IDEwMC4wJTsgaGVpZ2h0OiAxMDAuMCU7Ij4wPC9kaXY+YClbMF07CiAgICAgICAgICAgICAgICBwb3B1cF8zYTZjMTdmODk0YTU0Y2ZjOWYzNzM1MGM4YTZkNzRlZS5zZXRDb250ZW50KGh0bWxfMWVhZjM1OTUzOTUyNGMwMmIzZDlkNTIzNWI1NGJmZTIpOwogICAgICAgICAgICAKCiAgICAgICAgICAgIGNpcmNsZV9tYXJrZXJfNDkyZWQ2NmRhOTcwNDBkYmEyNjA1NjdjMTNlMmE2OTUuYmluZFBvcHVwKHBvcHVwXzNhNmMxN2Y4OTRhNTRjZmM5ZjM3MzUwYzhhNmQ3NGVlKQogICAgICAgICAgICA7CgogICAgICAgICAgICAKICAgICAgICAKICAgIAogICAgICAgICAgICB2YXIgY2lyY2xlX21hcmtlcl8yZTVkMGNlMGRkZjM0YzM4OWExNmRmZTE3Yjc5MTE2YiA9IEwuY2lyY2xlTWFya2VyKAogICAgICAgICAgICAgICAgWzQxLjc0MjY2ODE1MTg1NTQ3LCAtODcuNTUxMjYxOTAxODU1NDddLAogICAgICAgICAgICAgICAgewogICJidWJibGluZ01vdXNlRXZlbnRzIjogdHJ1ZSwKICAiY29sb3IiOiAiIzMzODhmZiIsCiAgImRhc2hBcnJheSI6IG51bGwsCiAgImRhc2hPZmZzZXQiOiBudWxsLAogICJmaWxsIjogZmFsc2UsCiAgImZpbGxDb2xvciI6ICIjMzM4OGZmIiwKICAiZmlsbE9wYWNpdHkiOiAwLjIsCiAgImZpbGxSdWxlIjogImV2ZW5vZGQiLAogICJsaW5lQ2FwIjogInJvdW5kIiwKICAibGluZUpvaW4iOiAicm91bmQiLAogICJvcGFjaXR5IjogMS4wLAogICJyYWRpdXMiOiAyLAogICJzdHJva2UiOiB0cnVlLAogICJ3ZWlnaHQiOiAzCn0KICAgICAgICAgICAgICAgICkKICAgICAgICAgICAgICAgIC5hZGRUbyhtYXBfYjU2NTcwODQ2ZDMwNGFlMmFhYjk0NGI5NDM4YjY3ZmIpOwogICAgICAgICAgICAKICAgIAogICAgICAgICAgICB2YXIgcG9wdXBfMjBjZWM4ZThiZTBlNDRmNmJkOGQ3NDgxZmEzYWUzYjEgPSBMLnBvcHVwKHttYXhXaWR0aDogJzMwMCcKICAgICAgICAgICAgCiAgICAgICAgICAgIH0pOwoKICAgICAgICAgICAgCiAgICAgICAgICAgICAgICB2YXIgaHRtbF8yMDRiNmRmM2I2MzI0OGM3ODlhNDQ0Mzk0NGM4MTJlYSA9ICQoYDxkaXYgaWQ9Imh0bWxfMjA0YjZkZjNiNjMyNDhjNzg5YTQ0NDM5NDRjODEyZWEiIHN0eWxlPSJ3aWR0aDogMTAwLjAlOyBoZWlnaHQ6IDEwMC4wJTsiPjA8L2Rpdj5gKVswXTsKICAgICAgICAgICAgICAgIHBvcHVwXzIwY2VjOGU4YmUwZTQ0ZjZiZDhkNzQ4MWZhM2FlM2IxLnNldENvbnRlbnQoaHRtbF8yMDRiNmRmM2I2MzI0OGM3ODlhNDQ0Mzk0NGM4MTJlYSk7CiAgICAgICAgICAgIAoKICAgICAgICAgICAgY2lyY2xlX21hcmtlcl8yZTVkMGNlMGRkZjM0YzM4OWExNmRmZTE3Yjc5MTE2Yi5iaW5kUG9wdXAocG9wdXBfMjBjZWM4ZThiZTBlNDRmNmJkOGQ3NDgxZmEzYWUzYjEpCiAgICAgICAgICAgIDsKCiAgICAgICAgICAgIAogICAgICAgIAogICAgCiAgICAgICAgICAgIHZhciBjaXJjbGVfbWFya2VyXzljOWFmOGRjYWM0ODRhMTQ4MTk4NDZmNjIyNTc1ZTQ0ID0gTC5jaXJjbGVNYXJrZXIoCiAgICAgICAgICAgICAgICBbNDEuNzQwNTU0ODA5NTcwMzEsIC04Ny41NDkyNjMwMDA0ODgyOF0sCiAgICAgICAgICAgICAgICB7CiAgImJ1YmJsaW5nTW91c2VFdmVudHMiOiB0cnVlLAogICJjb2xvciI6ICIjMzM4OGZmIiwKICAiZGFzaEFycmF5IjogbnVsbCwKICAiZGFzaE9mZnNldCI6IG51bGwsCiAgImZpbGwiOiBmYWxzZSwKICAiZmlsbENvbG9yIjogIiMzMzg4ZmYiLAogICJmaWxsT3BhY2l0eSI6IDAuMiwKICAiZmlsbFJ1bGUiOiAiZXZlbm9kZCIsCiAgImxpbmVDYXAiOiAicm91bmQiLAogICJsaW5lSm9pbiI6ICJyb3VuZCIsCiAgIm9wYWNpdHkiOiAxLjAsCiAgInJhZGl1cyI6IDIsCiAgInN0cm9rZSI6IHRydWUsCiAgIndlaWdodCI6IDMKfQogICAgICAgICAgICAgICAgKQogICAgICAgICAgICAgICAgLmFkZFRvKG1hcF9iNTY1NzA4NDZkMzA0YWUyYWFiOTQ0Yjk0MzhiNjdmYik7CiAgICAgICAgICAgIAogICAgCiAgICAgICAgICAgIHZhciBwb3B1cF9kNjkyNWU0YWU5ZDY0M2E2YTM3YzM0NTllZDljOWFlOSA9IEwucG9wdXAoe21heFdpZHRoOiAnMzAwJwogICAgICAgICAgICAKICAgICAgICAgICAgfSk7CgogICAgICAgICAgICAKICAgICAgICAgICAgICAgIHZhciBodG1sX2E3MDU4MTcwOTJjNDQzMTc5MzcwNmIyMTgwNmE4ODQ5ID0gJChgPGRpdiBpZD0iaHRtbF9hNzA1ODE3MDkyYzQ0MzE3OTM3MDZiMjE4MDZhODg0OSIgc3R5bGU9IndpZHRoOiAxMDAuMCU7IGhlaWdodDogMTAwLjAlOyI+MDwvZGl2PmApWzBdOwogICAgICAgICAgICAgICAgcG9wdXBfZDY5MjVlNGFlOWQ2NDNhNmEzN2MzNDU5ZWQ5YzlhZTkuc2V0Q29udGVudChodG1sX2E3MDU4MTcwOTJjNDQzMTc5MzcwNmIyMTgwNmE4ODQ5KTsKICAgICAgICAgICAgCgogICAgICAgICAgICBjaXJjbGVfbWFya2VyXzljOWFmOGRjYWM0ODRhMTQ4MTk4NDZmNjIyNTc1ZTQ0LmJpbmRQb3B1cChwb3B1cF9kNjkyNWU0YWU5ZDY0M2E2YTM3YzM0NTllZDljOWFlOSkKICAgICAgICAgICAgOwoKICAgICAgICAgICAgCiAgICAgICAgCiAgICAKICAgICAgICAgICAgdmFyIGNpcmNsZV9tYXJrZXJfNzkzMjUxZjhjMGE5NGFmM2E3NzAzMGVjODE2YzJjNWQgPSBMLmNpcmNsZU1hcmtlcigKICAgICAgICAgICAgICAgIFs0MS43MzgyMzkyODgzMzAwOCwgLTg3LjU0ODMwOTMyNjE3MTg4XSwKICAgICAgICAgICAgICAgIHsKICAiYnViYmxpbmdNb3VzZUV2ZW50cyI6IHRydWUsCiAgImNvbG9yIjogIiMzMzg4ZmYiLAogICJkYXNoQXJyYXkiOiBudWxsLAogICJkYXNoT2Zmc2V0IjogbnVsbCwKICAiZmlsbCI6IGZhbHNlLAogICJmaWxsQ29sb3IiOiAiIzMzODhmZiIsCiAgImZpbGxPcGFjaXR5IjogMC4yLAogICJmaWxsUnVsZSI6ICJldmVub2RkIiwKICAibGluZUNhcCI6ICJyb3VuZCIsCiAgImxpbmVKb2luIjogInJvdW5kIiwKICAib3BhY2l0eSI6IDEuMCwKICAicmFkaXVzIjogMiwKICAic3Ryb2tlIjogdHJ1ZSwKICAid2VpZ2h0IjogMwp9CiAgICAgICAgICAgICAgICApCiAgICAgICAgICAgICAgICAuYWRkVG8obWFwX2I1NjU3MDg0NmQzMDRhZTJhYWI5NDRiOTQzOGI2N2ZiKTsKICAgICAgICAgICAgCiAgICAKICAgICAgICAgICAgdmFyIHBvcHVwXzE2YTQwMmFhNjljMDQ4NjI5NmJiNTY1MDA3YjQ5MWI2ID0gTC5wb3B1cCh7bWF4V2lkdGg6ICczMDAnCiAgICAgICAgICAgIAogICAgICAgICAgICB9KTsKCiAgICAgICAgICAgIAogICAgICAgICAgICAgICAgdmFyIGh0bWxfNDY0MjFlNWYxMDBjNGI2YjliZjc5MmQ0N2NlMGMxNWIgPSAkKGA8ZGl2IGlkPSJodG1sXzQ2NDIxZTVmMTAwYzRiNmI5YmY3OTJkNDdjZTBjMTViIiBzdHlsZT0id2lkdGg6IDEwMC4wJTsgaGVpZ2h0OiAxMDAuMCU7Ij4wPC9kaXY+YClbMF07CiAgICAgICAgICAgICAgICBwb3B1cF8xNmE0MDJhYTY5YzA0ODYyOTZiYjU2NTAwN2I0OTFiNi5zZXRDb250ZW50KGh0bWxfNDY0MjFlNWYxMDBjNGI2YjliZjc5MmQ0N2NlMGMxNWIpOwogICAgICAgICAgICAKCiAgICAgICAgICAgIGNpcmNsZV9tYXJrZXJfNzkzMjUxZjhjMGE5NGFmM2E3NzAzMGVjODE2YzJjNWQuYmluZFBvcHVwKHBvcHVwXzE2YTQwMmFhNjljMDQ4NjI5NmJiNTY1MDA3YjQ5MWI2KQogICAgICAgICAgICA7CgogICAgICAgICAgICAKICAgICAgICAKICAgIAogICAgICAgICAgICB2YXIgY2lyY2xlX21hcmtlcl84MzNlMjQxNGYxZjE0MGI2YTc0ZjRjNGFjZDc2ZmUxMiA9IEwuY2lyY2xlTWFya2VyKAogICAgICAgICAgICAgICAgWzQxLjczNjI3MDkwNDU0MTAxNiwgLTg3LjU0ODA1NzU1NjE1MjM0XSwKICAgICAgICAgICAgICAgIHsKICAiYnViYmxpbmdNb3VzZUV2ZW50cyI6IHRydWUsCiAgImNvbG9yIjogIiMzMzg4ZmYiLAogICJkYXNoQXJyYXkiOiBudWxsLAogICJkYXNoT2Zmc2V0IjogbnVsbCwKICAiZmlsbCI6IGZhbHNlLAogICJmaWxsQ29sb3IiOiAiIzMzODhmZiIsCiAgImZpbGxPcGFjaXR5IjogMC4yLAogICJmaWxsUnVsZSI6ICJldmVub2RkIiwKICAibGluZUNhcCI6ICJyb3VuZCIsCiAgImxpbmVKb2luIjogInJvdW5kIiwKICAib3BhY2l0eSI6IDEuMCwKICAicmFkaXVzIjogMiwKICAic3Ryb2tlIjogdHJ1ZSwKICAid2VpZ2h0IjogMwp9CiAgICAgICAgICAgICAgICApCiAgICAgICAgICAgICAgICAuYWRkVG8obWFwX2I1NjU3MDg0NmQzMDRhZTJhYWI5NDRiOTQzOGI2N2ZiKTsKICAgICAgICAgICAgCiAgICAKICAgICAgICAgICAgdmFyIHBvcHVwX2YxZTllOTIxNDcwYzQ2ZGM4NzY0NTUzMjk1MmUzNTI1ID0gTC5wb3B1cCh7bWF4V2lkdGg6ICczMDAnCiAgICAgICAgICAgIAogICAgICAgICAgICB9KTsKCiAgICAgICAgICAgIAogICAgICAgICAgICAgICAgdmFyIGh0bWxfYjdlYmZkMWU0Y2JkNDhkNTgwN2FlZjY3MzEwMmYzMzUgPSAkKGA8ZGl2IGlkPSJodG1sX2I3ZWJmZDFlNGNiZDQ4ZDU4MDdhZWY2NzMxMDJmMzM1IiBzdHlsZT0id2lkdGg6IDEwMC4wJTsgaGVpZ2h0OiAxMDAuMCU7Ij4wPC9kaXY+YClbMF07CiAgICAgICAgICAgICAgICBwb3B1cF9mMWU5ZTkyMTQ3MGM0NmRjODc2NDU1MzI5NTJlMzUyNS5zZXRDb250ZW50KGh0bWxfYjdlYmZkMWU0Y2JkNDhkNTgwN2FlZjY3MzEwMmYzMzUpOwogICAgICAgICAgICAKCiAgICAgICAgICAgIGNpcmNsZV9tYXJrZXJfODMzZTI0MTRmMWYxNDBiNmE3NGY0YzRhY2Q3NmZlMTIuYmluZFBvcHVwKHBvcHVwX2YxZTllOTIxNDcwYzQ2ZGM4NzY0NTUzMjk1MmUzNTI1KQogICAgICAgICAgICA7CgogICAgICAgICAgICAKICAgICAgICAKICAgIAogICAgICAgICAgICB2YXIgY2lyY2xlX21hcmtlcl8yNTVhYjA3NzE5NDY0NDM4YjU5Y2IzZjA0NTJhNDBmNSA9IEwuY2lyY2xlTWFya2VyKAogICAgICAgICAgICAgICAgWzQxLjczMjY4NTA4OTExMTMzLCAtODcuNTQ3OTgxMjYyMjA3MDNdLAogICAgICAgICAgICAgICAgewogICJidWJibGluZ01vdXNlRXZlbnRzIjogdHJ1ZSwKICAiY29sb3IiOiAiIzMzODhmZiIsCiAgImRhc2hBcnJheSI6IG51bGwsCiAgImRhc2hPZmZzZXQiOiBudWxsLAogICJmaWxsIjogZmFsc2UsCiAgImZpbGxDb2xvciI6ICIjMzM4OGZmIiwKICAiZmlsbE9wYWNpdHkiOiAwLjIsCiAgImZpbGxSdWxlIjogImV2ZW5vZGQiLAogICJsaW5lQ2FwIjogInJvdW5kIiwKICAibGluZUpvaW4iOiAicm91bmQiLAogICJvcGFjaXR5IjogMS4wLAogICJyYWRpdXMiOiAyLAogICJzdHJva2UiOiB0cnVlLAogICJ3ZWlnaHQiOiAzCn0KICAgICAgICAgICAgICAgICkKICAgICAgICAgICAgICAgIC5hZGRUbyhtYXBfYjU2NTcwODQ2ZDMwNGFlMmFhYjk0NGI5NDM4YjY3ZmIpOwogICAgICAgICAgICAKICAgIAogICAgICAgICAgICB2YXIgcG9wdXBfOTNjYTVmNmY0NjcwNDdkZGE4MmUxZjZmZWJlN2MwOTYgPSBMLnBvcHVwKHttYXhXaWR0aDogJzMwMCcKICAgICAgICAgICAgCiAgICAgICAgICAgIH0pOwoKICAgICAgICAgICAgCiAgICAgICAgICAgICAgICB2YXIgaHRtbF82NTlmMmIxNWE4YTE0NjI3ODM0OTM5YzU3MjYxYTcxMiA9ICQoYDxkaXYgaWQ9Imh0bWxfNjU5ZjJiMTVhOGExNDYyNzgzNDkzOWM1NzI2MWE3MTIiIHN0eWxlPSJ3aWR0aDogMTAwLjAlOyBoZWlnaHQ6IDEwMC4wJTsiPjA8L2Rpdj5gKVswXTsKICAgICAgICAgICAgICAgIHBvcHVwXzkzY2E1ZjZmNDY3MDQ3ZGRhODJlMWY2ZmViZTdjMDk2LnNldENvbnRlbnQoaHRtbF82NTlmMmIxNWE4YTE0NjI3ODM0OTM5YzU3MjYxYTcxMik7CiAgICAgICAgICAgIAoKICAgICAgICAgICAgY2lyY2xlX21hcmtlcl8yNTVhYjA3NzE5NDY0NDM4YjU5Y2IzZjA0NTJhNDBmNS5iaW5kUG9wdXAocG9wdXBfOTNjYTVmNmY0NjcwNDdkZGE4MmUxZjZmZWJlN2MwOTYpCiAgICAgICAgICAgIDsKCiAgICAgICAgICAgIAogICAgICAgIAogICAgCiAgICAgICAgICAgIHZhciBjaXJjbGVfbWFya2VyXzM4MjE2MDAyMzI0YjRkYzlhZGE2NmFlYWYxMTI4ZjFhID0gTC5jaXJjbGVNYXJrZXIoCiAgICAgICAgICAgICAgICBbNDEuNzMwNTQxMjI5MjQ4MDUsIC04Ny41NDc5MDQ5NjgyNjE3Ml0sCiAgICAgICAgICAgICAgICB7CiAgImJ1YmJsaW5nTW91c2VFdmVudHMiOiB0cnVlLAogICJjb2xvciI6ICIjMzM4OGZmIiwKICAiZGFzaEFycmF5IjogbnVsbCwKICAiZGFzaE9mZnNldCI6IG51bGwsCiAgImZpbGwiOiBmYWxzZSwKICAiZmlsbENvbG9yIjogIiMzMzg4ZmYiLAogICJmaWxsT3BhY2l0eSI6IDAuMiwKICAiZmlsbFJ1bGUiOiAiZXZlbm9kZCIsCiAgImxpbmVDYXAiOiAicm91bmQiLAogICJsaW5lSm9pbiI6ICJyb3VuZCIsCiAgIm9wYWNpdHkiOiAxLjAsCiAgInJhZGl1cyI6IDIsCiAgInN0cm9rZSI6IHRydWUsCiAgIndlaWdodCI6IDMKfQogICAgICAgICAgICAgICAgKQogICAgICAgICAgICAgICAgLmFkZFRvKG1hcF9iNTY1NzA4NDZkMzA0YWUyYWFiOTQ0Yjk0MzhiNjdmYik7CiAgICAgICAgICAgIAogICAgCiAgICAgICAgICAgIHZhciBwb3B1cF8zZWRiODA3ZWZjNzU0YzA3YWU2ZDgyYmE2YjMwOGE1MCA9IEwucG9wdXAoe21heFdpZHRoOiAnMzAwJwogICAgICAgICAgICAKICAgICAgICAgICAgfSk7CgogICAgICAgICAgICAKICAgICAgICAgICAgICAgIHZhciBodG1sXzlhOTgyMWQ3MTRiMjQ0OWJhNzU1NDE1ZmI4YzBhZmZjID0gJChgPGRpdiBpZD0iaHRtbF85YTk4MjFkNzE0YjI0NDliYTc1NTQxNWZiOGMwYWZmYyIgc3R5bGU9IndpZHRoOiAxMDAuMCU7IGhlaWdodDogMTAwLjAlOyI+MDwvZGl2PmApWzBdOwogICAgICAgICAgICAgICAgcG9wdXBfM2VkYjgwN2VmYzc1NGMwN2FlNmQ4MmJhNmIzMDhhNTAuc2V0Q29udGVudChodG1sXzlhOTgyMWQ3MTRiMjQ0OWJhNzU1NDE1ZmI4YzBhZmZjKTsKICAgICAgICAgICAgCgogICAgICAgICAgICBjaXJjbGVfbWFya2VyXzM4MjE2MDAyMzI0YjRkYzlhZGE2NmFlYWYxMTI4ZjFhLmJpbmRQb3B1cChwb3B1cF8zZWRiODA3ZWZjNzU0YzA3YWU2ZDgyYmE2YjMwOGE1MCkKICAgICAgICAgICAgOwoKICAgICAgICAgICAgCiAgICAgICAgCiAgICAKICAgICAgICAgICAgdmFyIGNpcmNsZV9tYXJrZXJfNmU5N2Y0MzBjZjUwNGJhOGIxZGEwNzZhOTI3MzNjNmYgPSBMLmNpcmNsZU1hcmtlcigKICAgICAgICAgICAgICAgIFs0MS43MjgxODc1NjEwMzUxNTYsIC04Ny41NDc3NDQ3NTA5NzY1Nl0sCiAgICAgICAgICAgICAgICB7CiAgImJ1YmJsaW5nTW91c2VFdmVudHMiOiB0cnVlLAogICJjb2xvciI6ICIjMzM4OGZmIiwKICAiZGFzaEFycmF5IjogbnVsbCwKICAiZGFzaE9mZnNldCI6IG51bGwsCiAgImZpbGwiOiBmYWxzZSwKICAiZmlsbENvbG9yIjogIiMzMzg4ZmYiLAogICJmaWxsT3BhY2l0eSI6IDAuMiwKICAiZmlsbFJ1bGUiOiAiZXZlbm9kZCIsCiAgImxpbmVDYXAiOiAicm91bmQiLAogICJsaW5lSm9pbiI6ICJyb3VuZCIsCiAgIm9wYWNpdHkiOiAxLjAsCiAgInJhZGl1cyI6IDIsCiAgInN0cm9rZSI6IHRydWUsCiAgIndlaWdodCI6IDMKfQogICAgICAgICAgICAgICAgKQogICAgICAgICAgICAgICAgLmFkZFRvKG1hcF9iNTY1NzA4NDZkMzA0YWUyYWFiOTQ0Yjk0MzhiNjdmYik7CiAgICAgICAgICAgIAogICAgCiAgICAgICAgICAgIHZhciBwb3B1cF8wZmNmYzYyOGY5YTY0YzhhOTAxOTMwM2UxNDZhM2ExNSA9IEwucG9wdXAoe21heFdpZHRoOiAnMzAwJwogICAgICAgICAgICAKICAgICAgICAgICAgfSk7CgogICAgICAgICAgICAKICAgICAgICAgICAgICAgIHZhciBodG1sX2RmNzNlMTBiNTkwMzRmMWNhNjM5MmZkNzRhODc2MjUwID0gJChgPGRpdiBpZD0iaHRtbF9kZjczZTEwYjU5MDM0ZjFjYTYzOTJmZDc0YTg3NjI1MCIgc3R5bGU9IndpZHRoOiAxMDAuMCU7IGhlaWdodDogMTAwLjAlOyI+MDwvZGl2PmApWzBdOwogICAgICAgICAgICAgICAgcG9wdXBfMGZjZmM2MjhmOWE2NGM4YTkwMTkzMDNlMTQ2YTNhMTUuc2V0Q29udGVudChodG1sX2RmNzNlMTBiNTkwMzRmMWNhNjM5MmZkNzRhODc2MjUwKTsKICAgICAgICAgICAgCgogICAgICAgICAgICBjaXJjbGVfbWFya2VyXzZlOTdmNDMwY2Y1MDRiYThiMWRhMDc2YTkyNzMzYzZmLmJpbmRQb3B1cChwb3B1cF8wZmNmYzYyOGY5YTY0YzhhOTAxOTMwM2UxNDZhM2ExNSkKICAgICAgICAgICAgOwoKICAgICAgICAgICAgCiAgICAgICAgCiAgICAKICAgICAgICAgICAgdmFyIGNpcmNsZV9tYXJrZXJfNzMyODczNWUyZTE1NDAwOWE2MTA2NmJlZmM5OGM1NDIgPSBMLmNpcmNsZU1hcmtlcigKICAgICAgICAgICAgICAgIFs0Mi4zOTc2Mjg3ODQxNzk2OSwgLTg4LjE4MjA4MzEyOTg4MjgxXSwKICAgICAgICAgICAgICAgIHsKICAiYnViYmxpbmdNb3VzZUV2ZW50cyI6IHRydWUsCiAgImNvbG9yIjogIiMzMzg4ZmYiLAogICJkYXNoQXJyYXkiOiBudWxsLAogICJkYXNoT2Zmc2V0IjogbnVsbCwKICAiZmlsbCI6IGZhbHNlLAogICJmaWxsQ29sb3IiOiAiIzMzODhmZiIsCiAgImZpbGxPcGFjaXR5IjogMC4yLAogICJmaWxsUnVsZSI6ICJldmVub2RkIiwKICAibGluZUNhcCI6ICJyb3VuZCIsCiAgImxpbmVKb2luIjogInJvdW5kIiwKICAib3BhY2l0eSI6IDEuMCwKICAicmFkaXVzIjogMiwKICAic3Ryb2tlIjogdHJ1ZSwKICAid2VpZ2h0IjogMwp9CiAgICAgICAgICAgICAgICApCiAgICAgICAgICAgICAgICAuYWRkVG8obWFwX2I1NjU3MDg0NmQzMDRhZTJhYWI5NDRiOTQzOGI2N2ZiKTsKICAgICAgICAgICAgCiAgICAKICAgICAgICAgICAgdmFyIHBvcHVwX2Q5ODUwODgwYmE2ZDQwYmQ5NzI5NGUyYTE0OTlkMDMyID0gTC5wb3B1cCh7bWF4V2lkdGg6ICczMDAnCiAgICAgICAgICAgIAogICAgICAgICAgICB9KTsKCiAgICAgICAgICAgIAogICAgICAgICAgICAgICAgdmFyIGh0bWxfYzljMGJkMjkxYWE1NGZjZDkxYzM4MTRmNzBmZWJmZWQgPSAkKGA8ZGl2IGlkPSJodG1sX2M5YzBiZDI5MWFhNTRmY2Q5MWMzODE0ZjcwZmViZmVkIiBzdHlsZT0id2lkdGg6IDEwMC4wJTsgaGVpZ2h0OiAxMDAuMCU7Ij4wPC9kaXY+YClbMF07CiAgICAgICAgICAgICAgICBwb3B1cF9kOTg1MDg4MGJhNmQ0MGJkOTcyOTRlMmExNDk5ZDAzMi5zZXRDb250ZW50KGh0bWxfYzljMGJkMjkxYWE1NGZjZDkxYzM4MTRmNzBmZWJmZWQpOwogICAgICAgICAgICAKCiAgICAgICAgICAgIGNpcmNsZV9tYXJrZXJfNzMyODczNWUyZTE1NDAwOWE2MTA2NmJlZmM5OGM1NDIuYmluZFBvcHVwKHBvcHVwX2Q5ODUwODgwYmE2ZDQwYmQ5NzI5NGUyYTE0OTlkMDMyKQogICAgICAgICAgICA7CgogICAgICAgICAgICAKICAgICAgICAKICAgIAogICAgICAgICAgICB2YXIgY2lyY2xlX21hcmtlcl8yNThmYmM3NThkYmE0NzA0YjI1NDY2ZjA0ZTM1NTUyMCA9IEwuY2lyY2xlTWFya2VyKAogICAgICAgICAgICAgICAgWzQyLjM5NzYyNDk2OTQ4MjQyLCAtODguMTgyMDgzMTI5ODgyODFdLAogICAgICAgICAgICAgICAgewogICJidWJibGluZ01vdXNlRXZlbnRzIjogdHJ1ZSwKICAiY29sb3IiOiAiIzMzODhmZiIsCiAgImRhc2hBcnJheSI6IG51bGwsCiAgImRhc2hPZmZzZXQiOiBudWxsLAogICJmaWxsIjogZmFsc2UsCiAgImZpbGxDb2xvciI6ICIjMzM4OGZmIiwKICAiZmlsbE9wYWNpdHkiOiAwLjIsCiAgImZpbGxSdWxlIjogImV2ZW5vZGQiLAogICJsaW5lQ2FwIjogInJvdW5kIiwKICAibGluZUpvaW4iOiAicm91bmQiLAogICJvcGFjaXR5IjogMS4wLAogICJyYWRpdXMiOiAyLAogICJzdHJva2UiOiB0cnVlLAogICJ3ZWlnaHQiOiAzCn0KICAgICAgICAgICAgICAgICkKICAgICAgICAgICAgICAgIC5hZGRUbyhtYXBfYjU2NTcwODQ2ZDMwNGFlMmFhYjk0NGI5NDM4YjY3ZmIpOwogICAgICAgICAgICAKICAgIAogICAgICAgICAgICB2YXIgcG9wdXBfZWRkMTIzYzAzNjRkNDVjNjk5NDE0NTFhMGM2ZjAzNTMgPSBMLnBvcHVwKHttYXhXaWR0aDogJzMwMCcKICAgICAgICAgICAgCiAgICAgICAgICAgIH0pOwoKICAgICAgICAgICAgCiAgICAgICAgICAgICAgICB2YXIgaHRtbF83OTkwYmIxMDk5MWU0ZjZkOWY1ZjBmNWRlMWFhNDg2MCA9ICQoYDxkaXYgaWQ9Imh0bWxfNzk5MGJiMTA5OTFlNGY2ZDlmNWYwZjVkZTFhYTQ4NjAiIHN0eWxlPSJ3aWR0aDogMTAwLjAlOyBoZWlnaHQ6IDEwMC4wJTsiPjA8L2Rpdj5gKVswXTsKICAgICAgICAgICAgICAgIHBvcHVwX2VkZDEyM2MwMzY0ZDQ1YzY5OTQxNDUxYTBjNmYwMzUzLnNldENvbnRlbnQoaHRtbF83OTkwYmIxMDk5MWU0ZjZkOWY1ZjBmNWRlMWFhNDg2MCk7CiAgICAgICAgICAgIAoKICAgICAgICAgICAgY2lyY2xlX21hcmtlcl8yNThmYmM3NThkYmE0NzA0YjI1NDY2ZjA0ZTM1NTUyMC5iaW5kUG9wdXAocG9wdXBfZWRkMTIzYzAzNjRkNDVjNjk5NDE0NTFhMGM2ZjAzNTMpCiAgICAgICAgICAgIDsKCiAgICAgICAgICAgIAogICAgICAgIAogICAgCiAgICAgICAgICAgIHZhciBjaXJjbGVfbWFya2VyXzc0ODk5MzMxZjM1NDRhODE5OTkwMjgwZDNjOTBlZDJkID0gTC5jaXJjbGVNYXJrZXIoCiAgICAgICAgICAgICAgICBbNDIuMzk3NjQwMjI4MjcxNDksIC04OC4xODIwODMxMjk4ODI4MV0sCiAgICAgICAgICAgICAgICB7CiAgImJ1YmJsaW5nTW91c2VFdmVudHMiOiB0cnVlLAogICJjb2xvciI6ICIjMzM4OGZmIiwKICAiZGFzaEFycmF5IjogbnVsbCwKICAiZGFzaE9mZnNldCI6IG51bGwsCiAgImZpbGwiOiBmYWxzZSwKICAiZmlsbENvbG9yIjogIiMzMzg4ZmYiLAogICJmaWxsT3BhY2l0eSI6IDAuMiwKICAiZmlsbFJ1bGUiOiAiZXZlbm9kZCIsCiAgImxpbmVDYXAiOiAicm91bmQiLAogICJsaW5lSm9pbiI6ICJyb3VuZCIsCiAgIm9wYWNpdHkiOiAxLjAsCiAgInJhZGl1cyI6IDIsCiAgInN0cm9rZSI6IHRydWUsCiAgIndlaWdodCI6IDMKfQogICAgICAgICAgICAgICAgKQogICAgICAgICAgICAgICAgLmFkZFRvKG1hcF9iNTY1NzA4NDZkMzA0YWUyYWFiOTQ0Yjk0MzhiNjdmYik7CiAgICAgICAgICAgIAogICAgCiAgICAgICAgICAgIHZhciBwb3B1cF8zMGIwZDcxY2U0ZGY0OWE1OTA5NjVlZWVkMjk4NGVhZSA9IEwucG9wdXAoe21heFdpZHRoOiAnMzAwJwogICAgICAgICAgICAKICAgICAgICAgICAgfSk7CgogICAgICAgICAgICAKICAgICAgICAgICAgICAgIHZhciBodG1sX2ExOWFmYzk0ZDQ5ODRjNzQ5MTk1ZDAyYjQzYTlkZmY5ID0gJChgPGRpdiBpZD0iaHRtbF9hMTlhZmM5NGQ0OTg0Yzc0OTE5NWQwMmI0M2E5ZGZmOSIgc3R5bGU9IndpZHRoOiAxMDAuMCU7IGhlaWdodDogMTAwLjAlOyI+MDwvZGl2PmApWzBdOwogICAgICAgICAgICAgICAgcG9wdXBfMzBiMGQ3MWNlNGRmNDlhNTkwOTY1ZWVlZDI5ODRlYWUuc2V0Q29udGVudChodG1sX2ExOWFmYzk0ZDQ5ODRjNzQ5MTk1ZDAyYjQzYTlkZmY5KTsKICAgICAgICAgICAgCgogICAgICAgICAgICBjaXJjbGVfbWFya2VyXzc0ODk5MzMxZjM1NDRhODE5OTkwMjgwZDNjOTBlZDJkLmJpbmRQb3B1cChwb3B1cF8zMGIwZDcxY2U0ZGY0OWE1OTA5NjVlZWVkMjk4NGVhZSkKICAgICAgICAgICAgOwoKICAgICAgICAgICAgCiAgICAgICAgCiAgICAKICAgICAgICAgICAgdmFyIGNpcmNsZV9tYXJrZXJfMmFlNzFjYWU3ZmE0NDhhMjlmMTJkYmI3MmM4YzhlZDQgPSBMLmNpcmNsZU1hcmtlcigKICAgICAgICAgICAgICAgIFs0Mi4zOTc2NDAyMjgyNzE0OSwgLTg4LjE4MjA5ODM4ODY3MTg4XSwKICAgICAgICAgICAgICAgIHsKICAiYnViYmxpbmdNb3VzZUV2ZW50cyI6IHRydWUsCiAgImNvbG9yIjogIiMzMzg4ZmYiLAogICJkYXNoQXJyYXkiOiBudWxsLAogICJkYXNoT2Zmc2V0IjogbnVsbCwKICAiZmlsbCI6IGZhbHNlLAogICJmaWxsQ29sb3IiOiAiIzMzODhmZiIsCiAgImZpbGxPcGFjaXR5IjogMC4yLAogICJmaWxsUnVsZSI6ICJldmVub2RkIiwKICAibGluZUNhcCI6ICJyb3VuZCIsCiAgImxpbmVKb2luIjogInJvdW5kIiwKICAib3BhY2l0eSI6IDEuMCwKICAicmFkaXVzIjogMiwKICAic3Ryb2tlIjogdHJ1ZSwKICAid2VpZ2h0IjogMwp9CiAgICAgICAgICAgICAgICApCiAgICAgICAgICAgICAgICAuYWRkVG8obWFwX2I1NjU3MDg0NmQzMDRhZTJhYWI5NDRiOTQzOGI2N2ZiKTsKICAgICAgICAgICAgCiAgICAKICAgICAgICAgICAgdmFyIHBvcHVwX2NkZTZjY2JmMjliYjRmODBhOTRlOWM5ZmMxOTk2MDIyID0gTC5wb3B1cCh7bWF4V2lkdGg6ICczMDAnCiAgICAgICAgICAgIAogICAgICAgICAgICB9KTsKCiAgICAgICAgICAgIAogICAgICAgICAgICAgICAgdmFyIGh0bWxfNmM2NWI0YjAxN2ViNDIzNTg2Yzc3NmRmODY0MWY4MzggPSAkKGA8ZGl2IGlkPSJodG1sXzZjNjViNGIwMTdlYjQyMzU4NmM3NzZkZjg2NDFmODM4IiBzdHlsZT0id2lkdGg6IDEwMC4wJTsgaGVpZ2h0OiAxMDAuMCU7Ij4wPC9kaXY+YClbMF07CiAgICAgICAgICAgICAgICBwb3B1cF9jZGU2Y2NiZjI5YmI0ZjgwYTk0ZTljOWZjMTk5NjAyMi5zZXRDb250ZW50KGh0bWxfNmM2NWI0YjAxN2ViNDIzNTg2Yzc3NmRmODY0MWY4MzgpOwogICAgICAgICAgICAKCiAgICAgICAgICAgIGNpcmNsZV9tYXJrZXJfMmFlNzFjYWU3ZmE0NDhhMjlmMTJkYmI3MmM4YzhlZDQuYmluZFBvcHVwKHBvcHVwX2NkZTZjY2JmMjliYjRmODBhOTRlOWM5ZmMxOTk2MDIyKQogICAgICAgICAgICA7CgogICAgICAgICAgICAKICAgICAgICAKICAgIAogICAgICAgICAgICB2YXIgY2lyY2xlX21hcmtlcl85ZDdhNjAyODM5OTQ0ZTcwOWRjYzYzMDFiNDgwZjA4ZCA9IEwuY2lyY2xlTWFya2VyKAogICAgICAgICAgICAgICAgWzQxLjc4MzU3MzE1MDYzNDc3LCAtODcuNTg5NzU5ODI2NjYwMTZdLAogICAgICAgICAgICAgICAgewogICJidWJibGluZ01vdXNlRXZlbnRzIjogdHJ1ZSwKICAiY29sb3IiOiAiIzMzODhmZiIsCiAgImRhc2hBcnJheSI6IG51bGwsCiAgImRhc2hPZmZzZXQiOiBudWxsLAogICJmaWxsIjogZmFsc2UsCiAgImZpbGxDb2xvciI6ICIjMzM4OGZmIiwKICAiZmlsbE9wYWNpdHkiOiAwLjIsCiAgImZpbGxSdWxlIjogImV2ZW5vZGQiLAogICJsaW5lQ2FwIjogInJvdW5kIiwKICAibGluZUpvaW4iOiAicm91bmQiLAogICJvcGFjaXR5IjogMS4wLAogICJyYWRpdXMiOiAyLAogICJzdHJva2UiOiB0cnVlLAogICJ3ZWlnaHQiOiAzCn0KICAgICAgICAgICAgICAgICkKICAgICAgICAgICAgICAgIC5hZGRUbyhtYXBfYjU2NTcwODQ2ZDMwNGFlMmFhYjk0NGI5NDM4YjY3ZmIpOwogICAgICAgICAgICAKICAgIAogICAgICAgICAgICB2YXIgcG9wdXBfYzc1ZjQ0NjIyYzBiNGMwMjk0NWE0NjI2MGFmZGM1MjUgPSBMLnBvcHVwKHttYXhXaWR0aDogJzMwMCcKICAgICAgICAgICAgCiAgICAgICAgICAgIH0pOwoKICAgICAgICAgICAgCiAgICAgICAgICAgICAgICB2YXIgaHRtbF8wMGFjNWZmZmNiZGQ0NjVjYTkyN2MzY2Y2NmFjNzQ5ZiA9ICQoYDxkaXYgaWQ9Imh0bWxfMDBhYzVmZmZjYmRkNDY1Y2E5MjdjM2NmNjZhYzc0OWYiIHN0eWxlPSJ3aWR0aDogMTAwLjAlOyBoZWlnaHQ6IDEwMC4wJTsiPjEyMDwvZGl2PmApWzBdOwogICAgICAgICAgICAgICAgcG9wdXBfYzc1ZjQ0NjIyYzBiNGMwMjk0NWE0NjI2MGFmZGM1MjUuc2V0Q29udGVudChodG1sXzAwYWM1ZmZmY2JkZDQ2NWNhOTI3YzNjZjY2YWM3NDlmKTsKICAgICAgICAgICAgCgogICAgICAgICAgICBjaXJjbGVfbWFya2VyXzlkN2E2MDI4Mzk5NDRlNzA5ZGNjNjMwMWI0ODBmMDhkLmJpbmRQb3B1cChwb3B1cF9jNzVmNDQ2MjJjMGI0YzAyOTQ1YTQ2MjYwYWZkYzUyNSkKICAgICAgICAgICAgOwoKICAgICAgICAgICAgCiAgICAgICAgCiAgICAKICAgICAgICAgICAgdmFyIGNpcmNsZV9tYXJrZXJfNDQyYzE1YjZlYzRmNDY3YmJlZDI0M2FjMDBmMDNhYzcgPSBMLmNpcmNsZU1hcmtlcigKICAgICAgICAgICAgICAgIFs0MS43Mjc5MDkwODgxMzQ3NywgLTg3LjY2NzI1OTIxNjMwODZdLAogICAgICAgICAgICAgICAgewogICJidWJibGluZ01vdXNlRXZlbnRzIjogdHJ1ZSwKICAiY29sb3IiOiAiIzMzODhmZiIsCiAgImRhc2hBcnJheSI6IG51bGwsCiAgImRhc2hPZmZzZXQiOiBudWxsLAogICJmaWxsIjogZmFsc2UsCiAgImZpbGxDb2xvciI6ICIjMzM4OGZmIiwKICAiZmlsbE9wYWNpdHkiOiAwLjIsCiAgImZpbGxSdWxlIjogImV2ZW5vZGQiLAogICJsaW5lQ2FwIjogInJvdW5kIiwKICAibGluZUpvaW4iOiAicm91bmQiLAogICJvcGFjaXR5IjogMS4wLAogICJyYWRpdXMiOiAyLAogICJzdHJva2UiOiB0cnVlLAogICJ3ZWlnaHQiOiAzCn0KICAgICAgICAgICAgICAgICkKICAgICAgICAgICAgICAgIC5hZGRUbyhtYXBfYjU2NTcwODQ2ZDMwNGFlMmFhYjk0NGI5NDM4YjY3ZmIpOwogICAgICAgICAgICAKICAgIAogICAgICAgICAgICB2YXIgcG9wdXBfZTY5ZGY0OTA1NmRjNDgwYWJkYjU1ZTg3NDFiNjI3MjUgPSBMLnBvcHVwKHttYXhXaWR0aDogJzMwMCcKICAgICAgICAgICAgCiAgICAgICAgICAgIH0pOwoKICAgICAgICAgICAgCiAgICAgICAgICAgICAgICB2YXIgaHRtbF9mZGUyMWQ3MDE0ZmY0YmVjODdlM2FhNGFjOThhZDE5OCA9ICQoYDxkaXYgaWQ9Imh0bWxfZmRlMjFkNzAxNGZmNGJlYzg3ZTNhYTRhYzk4YWQxOTgiIHN0eWxlPSJ3aWR0aDogMTAwLjAlOyBoZWlnaHQ6IDEwMC4wJTsiPjA8L2Rpdj5gKVswXTsKICAgICAgICAgICAgICAgIHBvcHVwX2U2OWRmNDkwNTZkYzQ4MGFiZGI1NWU4NzQxYjYyNzI1LnNldENvbnRlbnQoaHRtbF9mZGUyMWQ3MDE0ZmY0YmVjODdlM2FhNGFjOThhZDE5OCk7CiAgICAgICAgICAgIAoKICAgICAgICAgICAgY2lyY2xlX21hcmtlcl80NDJjMTViNmVjNGY0NjdiYmVkMjQzYWMwMGYwM2FjNy5iaW5kUG9wdXAocG9wdXBfZTY5ZGY0OTA1NmRjNDgwYWJkYjU1ZTg3NDFiNjI3MjUpCiAgICAgICAgICAgIDsKCiAgICAgICAgICAgIAogICAgICAgIAogICAgCiAgICAgICAgICAgIHZhciBjaXJjbGVfbWFya2VyX2RkZWJmOWU2OWRiNDRhYjJhMjkyMTVmNjE4Mjc5NDc4ID0gTC5jaXJjbGVNYXJrZXIoCiAgICAgICAgICAgICAgICBbNDEuNzc2MTI2ODYxNTcyMjY2LCAtODcuNTkxNDkxNjk5MjE4NzVdLAogICAgICAgICAgICAgICAgewogICJidWJibGluZ01vdXNlRXZlbnRzIjogdHJ1ZSwKICAiY29sb3IiOiAiIzMzODhmZiIsCiAgImRhc2hBcnJheSI6IG51bGwsCiAgImRhc2hPZmZzZXQiOiBudWxsLAogICJmaWxsIjogZmFsc2UsCiAgImZpbGxDb2xvciI6ICIjMzM4OGZmIiwKICAiZmlsbE9wYWNpdHkiOiAwLjIsCiAgImZpbGxSdWxlIjogImV2ZW5vZGQiLAogICJsaW5lQ2FwIjogInJvdW5kIiwKICAibGluZUpvaW4iOiAicm91bmQiLAogICJvcGFjaXR5IjogMS4wLAogICJyYWRpdXMiOiAyLAogICJzdHJva2UiOiB0cnVlLAogICJ3ZWlnaHQiOiAzCn0KICAgICAgICAgICAgICAgICkKICAgICAgICAgICAgICAgIC5hZGRUbyhtYXBfYjU2NTcwODQ2ZDMwNGFlMmFhYjk0NGI5NDM4YjY3ZmIpOwogICAgICAgICAgICAKICAgIAogICAgICAgICAgICB2YXIgcG9wdXBfMjM4NWJkNjAwZWE0NDk0M2I5MWU3NDhjZWM2ZmUxZWQgPSBMLnBvcHVwKHttYXhXaWR0aDogJzMwMCcKICAgICAgICAgICAgCiAgICAgICAgICAgIH0pOwoKICAgICAgICAgICAgCiAgICAgICAgICAgICAgICB2YXIgaHRtbF9jYjYxYjc3YTg2OGI0ZTljOTY0OTI4YTFhNmZjNDg0NiA9ICQoYDxkaXYgaWQ9Imh0bWxfY2I2MWI3N2E4NjhiNGU5Yzk2NDkyOGExYTZmYzQ4NDYiIHN0eWxlPSJ3aWR0aDogMTAwLjAlOyBoZWlnaHQ6IDEwMC4wJTsiPjYwPC9kaXY+YClbMF07CiAgICAgICAgICAgICAgICBwb3B1cF8yMzg1YmQ2MDBlYTQ0OTQzYjkxZTc0OGNlYzZmZTFlZC5zZXRDb250ZW50KGh0bWxfY2I2MWI3N2E4NjhiNGU5Yzk2NDkyOGExYTZmYzQ4NDYpOwogICAgICAgICAgICAKCiAgICAgICAgICAgIGNpcmNsZV9tYXJrZXJfZGRlYmY5ZTY5ZGI0NGFiMmEyOTIxNWY2MTgyNzk0NzguYmluZFBvcHVwKHBvcHVwXzIzODViZDYwMGVhNDQ5NDNiOTFlNzQ4Y2VjNmZlMWVkKQogICAgICAgICAgICA7CgogICAgICAgICAgICAKICAgICAgICAKICAgIAogICAgICAgICAgICB2YXIgY2lyY2xlX21hcmtlcl85ZDE3OGEwN2RhNTc0NTU5YTA4NTJkMzI3NTE3OTMxYyA9IEwuY2lyY2xlTWFya2VyKAogICAgICAgICAgICAgICAgWzQxLjc3ODEwMjg3NDc1NTg2LCAtODguMjA3MTQ1NjkwOTE3OTddLAogICAgICAgICAgICAgICAgewogICJidWJibGluZ01vdXNlRXZlbnRzIjogdHJ1ZSwKICAiY29sb3IiOiAiIzMzODhmZiIsCiAgImRhc2hBcnJheSI6IG51bGwsCiAgImRhc2hPZmZzZXQiOiBudWxsLAogICJmaWxsIjogZmFsc2UsCiAgImZpbGxDb2xvciI6ICIjMzM4OGZmIiwKICAiZmlsbE9wYWNpdHkiOiAwLjIsCiAgImZpbGxSdWxlIjogImV2ZW5vZGQiLAogICJsaW5lQ2FwIjogInJvdW5kIiwKICAibGluZUpvaW4iOiAicm91bmQiLAogICJvcGFjaXR5IjogMS4wLAogICJyYWRpdXMiOiAyLAogICJzdHJva2UiOiB0cnVlLAogICJ3ZWlnaHQiOiAzCn0KICAgICAgICAgICAgICAgICkKICAgICAgICAgICAgICAgIC5hZGRUbyhtYXBfYjU2NTcwODQ2ZDMwNGFlMmFhYjk0NGI5NDM4YjY3ZmIpOwogICAgICAgICAgICAKICAgIAogICAgICAgICAgICB2YXIgcG9wdXBfMzlhMGNmNmVjN2Q4NGM5NWEyNDg1YmQ3MWVhM2JlMTUgPSBMLnBvcHVwKHttYXhXaWR0aDogJzMwMCcKICAgICAgICAgICAgCiAgICAgICAgICAgIH0pOwoKICAgICAgICAgICAgCiAgICAgICAgICAgICAgICB2YXIgaHRtbF8xMTA1Nzk2MDlkYzA0NjZlYmNlMzQyNmQ2ZjM2OGNhMyA9ICQoYDxkaXYgaWQ9Imh0bWxfMTEwNTc5NjA5ZGMwNDY2ZWJjZTM0MjZkNmYzNjhjYTMiIHN0eWxlPSJ3aWR0aDogMTAwLjAlOyBoZWlnaHQ6IDEwMC4wJTsiPjEyMDwvZGl2PmApWzBdOwogICAgICAgICAgICAgICAgcG9wdXBfMzlhMGNmNmVjN2Q4NGM5NWEyNDg1YmQ3MWVhM2JlMTUuc2V0Q29udGVudChodG1sXzExMDU3OTYwOWRjMDQ2NmViY2UzNDI2ZDZmMzY4Y2EzKTsKICAgICAgICAgICAgCgogICAgICAgICAgICBjaXJjbGVfbWFya2VyXzlkMTc4YTA3ZGE1NzQ1NTlhMDg1MmQzMjc1MTc5MzFjLmJpbmRQb3B1cChwb3B1cF8zOWEwY2Y2ZWM3ZDg0Yzk1YTI0ODViZDcxZWEzYmUxNSkKICAgICAgICAgICAgOwoKICAgICAgICAgICAgCiAgICAgICAgCiAgICAKICAgICAgICAgICAgdmFyIGNpcmNsZV9tYXJrZXJfMWI5NTkxNzdiNGU4NDg2NWIzMjNjMTI3ZGVlOGEyY2UgPSBMLmNpcmNsZU1hcmtlcigKICAgICAgICAgICAgICAgIFs0MS41MTUzNDY1MjcwOTk2MSwgLTg3Ljk1OTY0MDUwMjkyOTY5XSwKICAgICAgICAgICAgICAgIHsKICAiYnViYmxpbmdNb3VzZUV2ZW50cyI6IHRydWUsCiAgImNvbG9yIjogIiMzMzg4ZmYiLAogICJkYXNoQXJyYXkiOiBudWxsLAogICJkYXNoT2Zmc2V0IjogbnVsbCwKICAiZmlsbCI6IGZhbHNlLAogICJmaWxsQ29sb3IiOiAiIzMzODhmZiIsCiAgImZpbGxPcGFjaXR5IjogMC4yLAogICJmaWxsUnVsZSI6ICJldmVub2RkIiwKICAibGluZUNhcCI6ICJyb3VuZCIsCiAgImxpbmVKb2luIjogInJvdW5kIiwKICAib3BhY2l0eSI6IDEuMCwKICAicmFkaXVzIjogMiwKICAic3Ryb2tlIjogdHJ1ZSwKICAid2VpZ2h0IjogMwp9CiAgICAgICAgICAgICAgICApCiAgICAgICAgICAgICAgICAuYWRkVG8obWFwX2I1NjU3MDg0NmQzMDRhZTJhYWI5NDRiOTQzOGI2N2ZiKTsKICAgICAgICAgICAgCiAgICAKICAgICAgICAgICAgdmFyIHBvcHVwXzcwZWIyYzBkYmQ4NTRkN2FiNjY0MDQxMDZlMzQ4MmY1ID0gTC5wb3B1cCh7bWF4V2lkdGg6ICczMDAnCiAgICAgICAgICAgIAogICAgICAgICAgICB9KTsKCiAgICAgICAgICAgIAogICAgICAgICAgICAgICAgdmFyIGh0bWxfNTJmNDQ2ZTM0OGJkNDlkN2ExOWI1NmM4Y2MxN2M3MDEgPSAkKGA8ZGl2IGlkPSJodG1sXzUyZjQ0NmUzNDhiZDQ5ZDdhMTliNTZjOGNjMTdjNzAxIiBzdHlsZT0id2lkdGg6IDEwMC4wJTsgaGVpZ2h0OiAxMDAuMCU7Ij4wPC9kaXY+YClbMF07CiAgICAgICAgICAgICAgICBwb3B1cF83MGViMmMwZGJkODU0ZDdhYjY2NDA0MTA2ZTM0ODJmNS5zZXRDb250ZW50KGh0bWxfNTJmNDQ2ZTM0OGJkNDlkN2ExOWI1NmM4Y2MxN2M3MDEpOwogICAgICAgICAgICAKCiAgICAgICAgICAgIGNpcmNsZV9tYXJrZXJfMWI5NTkxNzdiNGU4NDg2NWIzMjNjMTI3ZGVlOGEyY2UuYmluZFBvcHVwKHBvcHVwXzcwZWIyYzBkYmQ4NTRkN2FiNjY0MDQxMDZlMzQ4MmY1KQogICAgICAgICAgICA7CgogICAgICAgICAgICAKICAgICAgICAKICAgIAogICAgICAgICAgICB2YXIgY2lyY2xlX21hcmtlcl81YTRiYTU3Yjg5YjE0ZmU0ODRhZDU2YjE5MjczZTFmOSA9IEwuY2lyY2xlTWFya2VyKAogICAgICAgICAgICAgICAgWzQxLjk4OTUyODY1NjAwNTg2LCAtODguMTA5MDYyMTk0ODI0MjJdLAogICAgICAgICAgICAgICAgewogICJidWJibGluZ01vdXNlRXZlbnRzIjogdHJ1ZSwKICAiY29sb3IiOiAiIzMzODhmZiIsCiAgImRhc2hBcnJheSI6IG51bGwsCiAgImRhc2hPZmZzZXQiOiBudWxsLAogICJmaWxsIjogZmFsc2UsCiAgImZpbGxDb2xvciI6ICIjMzM4OGZmIiwKICAiZmlsbE9wYWNpdHkiOiAwLjIsCiAgImZpbGxSdWxlIjogImV2ZW5vZGQiLAogICJsaW5lQ2FwIjogInJvdW5kIiwKICAibGluZUpvaW4iOiAicm91bmQiLAogICJvcGFjaXR5IjogMS4wLAogICJyYWRpdXMiOiAyLAogICJzdHJva2UiOiB0cnVlLAogICJ3ZWlnaHQiOiAzCn0KICAgICAgICAgICAgICAgICkKICAgICAgICAgICAgICAgIC5hZGRUbyhtYXBfYjU2NTcwODQ2ZDMwNGFlMmFhYjk0NGI5NDM4YjY3ZmIpOwogICAgICAgICAgICAKICAgIAogICAgICAgICAgICB2YXIgcG9wdXBfZGVmZTk0MzY2NjIzNDgyNWIxZjNiNjUxMTZlZTllN2MgPSBMLnBvcHVwKHttYXhXaWR0aDogJzMwMCcKICAgICAgICAgICAgCiAgICAgICAgICAgIH0pOwoKICAgICAgICAgICAgCiAgICAgICAgICAgICAgICB2YXIgaHRtbF80YjUzZDU1NjBjYmE0OGQ4YTRkZjUxNTk0NDY0ZDdhNSA9ICQoYDxkaXYgaWQ9Imh0bWxfNGI1M2Q1NTYwY2JhNDhkOGE0ZGY1MTU5NDQ2NGQ3YTUiIHN0eWxlPSJ3aWR0aDogMTAwLjAlOyBoZWlnaHQ6IDEwMC4wJTsiPjYwPC9kaXY+YClbMF07CiAgICAgICAgICAgICAgICBwb3B1cF9kZWZlOTQzNjY2MjM0ODI1YjFmM2I2NTExNmVlOWU3Yy5zZXRDb250ZW50KGh0bWxfNGI1M2Q1NTYwY2JhNDhkOGE0ZGY1MTU5NDQ2NGQ3YTUpOwogICAgICAgICAgICAKCiAgICAgICAgICAgIGNpcmNsZV9tYXJrZXJfNWE0YmE1N2I4OWIxNGZlNDg0YWQ1NmIxOTI3M2UxZjkuYmluZFBvcHVwKHBvcHVwX2RlZmU5NDM2NjYyMzQ4MjViMWYzYjY1MTE2ZWU5ZTdjKQogICAgICAgICAgICA7CgogICAgICAgICAgICAKICAgICAgICAKICAgIAogICAgICAgICAgICB2YXIgY2lyY2xlX21hcmtlcl9kZmU3NGQyZjg3Mzg0YWIwYjk3YTYwNzMwNGFhYjlhYSA9IEwuY2lyY2xlTWFya2VyKAogICAgICAgICAgICAgICAgWzQyLjM3MDA5ODExNDAxMzY3LCAtODguMTMzMDAzMjM0ODYzMjhdLAogICAgICAgICAgICAgICAgewogICJidWJibGluZ01vdXNlRXZlbnRzIjogdHJ1ZSwKICAiY29sb3IiOiAiIzMzODhmZiIsCiAgImRhc2hBcnJheSI6IG51bGwsCiAgImRhc2hPZmZzZXQiOiBudWxsLAogICJmaWxsIjogZmFsc2UsCiAgImZpbGxDb2xvciI6ICIjMzM4OGZmIiwKICAiZmlsbE9wYWNpdHkiOiAwLjIsCiAgImZpbGxSdWxlIjogImV2ZW5vZGQiLAogICJsaW5lQ2FwIjogInJvdW5kIiwKICAibGluZUpvaW4iOiAicm91bmQiLAogICJvcGFjaXR5IjogMS4wLAogICJyYWRpdXMiOiAyLAogICJzdHJva2UiOiB0cnVlLAogICJ3ZWlnaHQiOiAzCn0KICAgICAgICAgICAgICAgICkKICAgICAgICAgICAgICAgIC5hZGRUbyhtYXBfYjU2NTcwODQ2ZDMwNGFlMmFhYjk0NGI5NDM4YjY3ZmIpOwogICAgICAgICAgICAKICAgIAogICAgICAgICAgICB2YXIgcG9wdXBfZmFmMzNkOWQyZjRkNDc2Zjg2OWMzZGJkYmZiNTgyNzcgPSBMLnBvcHVwKHttYXhXaWR0aDogJzMwMCcKICAgICAgICAgICAgCiAgICAgICAgICAgIH0pOwoKICAgICAgICAgICAgCiAgICAgICAgICAgICAgICB2YXIgaHRtbF9lNDQ0NjQwMGYxNGQ0ZjlmYmM0MzhhNDdkYzI0MmRmZSA9ICQoYDxkaXYgaWQ9Imh0bWxfZTQ0NDY0MDBmMTRkNGY5ZmJjNDM4YTQ3ZGMyNDJkZmUiIHN0eWxlPSJ3aWR0aDogMTAwLjAlOyBoZWlnaHQ6IDEwMC4wJTsiPjA8L2Rpdj5gKVswXTsKICAgICAgICAgICAgICAgIHBvcHVwX2ZhZjMzZDlkMmY0ZDQ3NmY4NjljM2RiZGJmYjU4Mjc3LnNldENvbnRlbnQoaHRtbF9lNDQ0NjQwMGYxNGQ0ZjlmYmM0MzhhNDdkYzI0MmRmZSk7CiAgICAgICAgICAgIAoKICAgICAgICAgICAgY2lyY2xlX21hcmtlcl9kZmU3NGQyZjg3Mzg0YWIwYjk3YTYwNzMwNGFhYjlhYS5iaW5kUG9wdXAocG9wdXBfZmFmMzNkOWQyZjRkNDc2Zjg2OWMzZGJkYmZiNTgyNzcpCiAgICAgICAgICAgIDsKCiAgICAgICAgICAgIAogICAgICAgIAogICAgCiAgICAgICAgICAgIHZhciBjaXJjbGVfbWFya2VyXzU5ZjczZmRmMGMzYjRiZjViM2Q3NDQ0MmI2MzMyZjc0ID0gTC5jaXJjbGVNYXJrZXIoCiAgICAgICAgICAgICAgICBbNDEuODg2Njg4MjMyNDIxODgsIC04OC40MTE2ODIxMjg5MDYyNV0sCiAgICAgICAgICAgICAgICB7CiAgImJ1YmJsaW5nTW91c2VFdmVudHMiOiB0cnVlLAogICJjb2xvciI6ICIjMzM4OGZmIiwKICAiZGFzaEFycmF5IjogbnVsbCwKICAiZGFzaE9mZnNldCI6IG51bGwsCiAgImZpbGwiOiBmYWxzZSwKICAiZmlsbENvbG9yIjogIiMzMzg4ZmYiLAogICJmaWxsT3BhY2l0eSI6IDAuMiwKICAiZmlsbFJ1bGUiOiAiZXZlbm9kZCIsCiAgImxpbmVDYXAiOiAicm91bmQiLAogICJsaW5lSm9pbiI6ICJyb3VuZCIsCiAgIm9wYWNpdHkiOiAxLjAsCiAgInJhZGl1cyI6IDIsCiAgInN0cm9rZSI6IHRydWUsCiAgIndlaWdodCI6IDMKfQogICAgICAgICAgICAgICAgKQogICAgICAgICAgICAgICAgLmFkZFRvKG1hcF9iNTY1NzA4NDZkMzA0YWUyYWFiOTQ0Yjk0MzhiNjdmYik7CiAgICAgICAgICAgIAogICAgCiAgICAgICAgICAgIHZhciBwb3B1cF8zNDEzNGI2Njg2ODE0YTQ3YWNkOTY2MWNiNGQ4ZmJhOSA9IEwucG9wdXAoe21heFdpZHRoOiAnMzAwJwogICAgICAgICAgICAKICAgICAgICAgICAgfSk7CgogICAgICAgICAgICAKICAgICAgICAgICAgICAgIHZhciBodG1sXzQ4ZTJkNTUwYzQ5NDQxY2M4ZDUzODAzZTcxODgzMmIzID0gJChgPGRpdiBpZD0iaHRtbF80OGUyZDU1MGM0OTQ0MWNjOGQ1MzgwM2U3MTg4MzJiMyIgc3R5bGU9IndpZHRoOiAxMDAuMCU7IGhlaWdodDogMTAwLjAlOyI+NjA8L2Rpdj5gKVswXTsKICAgICAgICAgICAgICAgIHBvcHVwXzM0MTM0YjY2ODY4MTRhNDdhY2Q5NjYxY2I0ZDhmYmE5LnNldENvbnRlbnQoaHRtbF80OGUyZDU1MGM0OTQ0MWNjOGQ1MzgwM2U3MTg4MzJiMyk7CiAgICAgICAgICAgIAoKICAgICAgICAgICAgY2lyY2xlX21hcmtlcl81OWY3M2ZkZjBjM2I0YmY1YjNkNzQ0NDJiNjMzMmY3NC5iaW5kUG9wdXAocG9wdXBfMzQxMzRiNjY4NjgxNGE0N2FjZDk2NjFjYjRkOGZiYTkpCiAgICAgICAgICAgIDsKCiAgICAgICAgICAgIAogICAgICAgIAo8L3NjcmlwdD4=\" style=\"position:absolute;width:100%;height:100%;left:0;top:0;border:none !important;\" allowfullscreen webkitallowfullscreen mozallowfullscreen></iframe></div></div>"
      ],
      "text/plain": [
       "<folium.folium.Map at 0x11ff72278>"
      ]
     },
     "execution_count": 9,
     "metadata": {},
     "output_type": "execute_result"
    }
   ],
   "source": [
    "m"
   ]
  },
  {
   "cell_type": "code",
   "execution_count": null,
   "metadata": {},
   "outputs": [],
   "source": [
    "# It looks like source has some duplicate names.  Drop the values from the airports\n",
    "# file ane keep the one from the routes file\n",
    "lex_routes = lex_routes.drop(['source_y','source'], axis=1)\n",
    "lex_routes = lex_routes.rename(columns={'source_x': 'source'})"
   ]
  },
  {
   "cell_type": "code",
   "execution_count": null,
   "metadata": {},
   "outputs": [],
   "source": [
    "# Let's keep only one route between each airport pair\n",
    "# so we don't have a bunch of lines on top of each other\n",
    "# The subset option tells it to consider just those columns when determining\n",
    "# what is a duplicate. \n",
    "\n",
    "lex_routes = lex_routes.drop_duplicates(subset=['source', 'dest'])\n",
    "lex_routes"
   ]
  },
  {
   "cell_type": "markdown",
   "metadata": {},
   "source": [
    "That looks better.  Now, let's create a map.  To avoid adding duplicate airports, we are going to use a container called a set.  A set is an unordered collection of unique elements.  This means we can keep adding LEX to the set, and end up with only 1 LEX in the end.  "
   ]
  },
  {
   "cell_type": "code",
   "execution_count": null,
   "metadata": {},
   "outputs": [],
   "source": [
    "# create a basic map, centered on Lexington\n",
    "lex_air = folium.Map(\n",
    "    location=[38.034,-84.500],\n",
    "    tiles='Stamen Toner',\n",
    "    zoom_start=4\n",
    ")"
   ]
  },
  {
   "cell_type": "code",
   "execution_count": null,
   "metadata": {},
   "outputs": [],
   "source": [
    "# Define some empty sets\n",
    "airport_set = set()\n",
    "route_set = set()\n",
    "\n",
    "# Make sure we don't add duplicates, especially for the origins\n",
    "for name, row in lex_routes.iterrows():\n",
    "    \n",
    "    if row['source'] not in airport_set: \n",
    "        popup_string = row['city_source'] + ' (' + row['source'] + ')'\n",
    "        marker = folium.CircleMarker([row[\"latitude_source\"], row[\"longitude_source\"]], \n",
    "                                     color='DarkCyan',\n",
    "                                     fill_color='DarkCyan', \n",
    "                                     radius=5, popup=popup_string)\n",
    "        marker.add_to(lex_air)\n",
    "        airport_set.add(row['source'])\n",
    "        \n",
    "    if row['dest'] not in airport_set: \n",
    "        popup_string = row['city_dest'] + ' (' + row['dest'] + ')'\n",
    "        marker = folium.CircleMarker([row[\"latitude_dest\"], row[\"longitude_dest\"]], \n",
    "                                     color='MidnightBlue',\n",
    "                                     fill_color='MidnightBlue', \n",
    "                                     radius=5, popup=popup_string)\n",
    "        marker.add_to(lex_air)\n",
    "        airport_set.add(row['dest'])\n",
    "    \n",
    "    # the parentheses in the indicate that we are adding a tuple to the route_set\n",
    "    if (row['source'],row['dest']) not in route_set:            \n",
    "        popup_string = row['source'] + '-' + row['dest']        \n",
    "        line = folium.PolyLine([(row[\"latitude_source\"], row[\"longitude_source\"]), \n",
    "                                (row[\"latitude_dest\"], row[\"longitude_dest\"])], \n",
    "                                weight=2, \n",
    "                                popup=popup_string)\n",
    "        line.add_to(lex_air)\n",
    "        route_set.add((row['source'],row['dest']))\n",
    "        \n",
    "lex_air"
   ]
  },
  {
   "cell_type": "markdown",
   "metadata": {},
   "source": [
    "That's cool.  But airplanes don't fly in a straight line.  They follow the great circle.  So when you fly from Chicago to London, you go over Greenland (which is really pretty on a clear day!).  Can we make the lines follow a great circle? \n",
    "\n",
    "It looks like there are some options here: \n",
    "\n",
    "http://gis.stackexchange.com/questions/47/what-tools-in-python-are-available-for-doing-great-circle-distance-line-creati\n",
    "\n",
    "Let's try one of them. "
   ]
  },
  {
   "cell_type": "code",
   "execution_count": null,
   "metadata": {},
   "outputs": [],
   "source": [
    "import pyproj\n",
    "\n",
    "# when creating a function, it is good practice to define the API!\n",
    "def getGreatCirclePoints(startlat, startlon, endlat, endlon): \n",
    "    \"\"\"\n",
    "    startlat - starting latitude \n",
    "    startlon - starting longitude \n",
    "    endlat   - ending latitude \n",
    "    endlon   - ending longitude \n",
    "    \n",
    "    returns - a list of tuples, where each tuple is the lat-long for a point\n",
    "              along the curve.  \n",
    "    \"\"\"\n",
    "    # calculate distance between points\n",
    "    g = pyproj.Geod(ellps='WGS84')\n",
    "    (az12, az21, dist) = g.inv(startlon, startlat, endlon, endlat)\n",
    "\n",
    "    # calculate line string along path with segments <= 20 km\n",
    "    lonlats = g.npts(startlon, startlat, endlon, endlat,\n",
    "                     1 + int(dist / 20000))\n",
    "\n",
    "    # the npts function uses lon-lat, while the folium functions use lat-lon\n",
    "    # This sort of thing is maddening!  What happens is the lines don't show\n",
    "    # up on the map and you don't know why.  Learn from my mistakes\n",
    "    latlons = []\n",
    "    for lon_lat in lonlats: \n",
    "        \n",
    "        # this is how you get values out of a tuple\n",
    "        (lon, lat) = lon_lat\n",
    "            \n",
    "        # add them to our list\n",
    "        latlons.append((lat, lon))\n",
    "    \n",
    "    # npts doesn't include start/end points, so prepend/append them\n",
    "    latlons.insert(0, (startlat, startlon))\n",
    "    latlons.append((endlat, endlon))\n",
    "    \n",
    "    return latlons\n"
   ]
  },
  {
   "cell_type": "code",
   "execution_count": null,
   "metadata": {},
   "outputs": [],
   "source": [
    "# any time we write a function, we should test that it works\n",
    "p = getGreatCirclePoints(38.034, -84.500, 33.636700, -84.428101) \n",
    "p"
   ]
  },
  {
   "cell_type": "code",
   "execution_count": null,
   "metadata": {},
   "outputs": [],
   "source": [
    "# create a basic map, centered on Lexington\n",
    "lex_air = folium.Map(\n",
    "    location=[38.034,-84.500],\n",
    "    tiles='Stamen Toner',\n",
    "    zoom_start=4\n",
    ")"
   ]
  },
  {
   "cell_type": "code",
   "execution_count": null,
   "metadata": {},
   "outputs": [],
   "source": [
    "# define the map in the same way, but use great circles for the lines\n",
    "\n",
    "# Define some empty sets\n",
    "airport_set = set()\n",
    "route_set = set()\n",
    "\n",
    "# Make sure we don't add duplicates, especially for the origins\n",
    "for name, row in lex_routes.iterrows():\n",
    "    \n",
    "    if row['source'] not in airport_set: \n",
    "        popup_string = row['city_source'] + ' (' + row['source'] + ')'\n",
    "        marker = folium.CircleMarker([row[\"latitude_source\"], row[\"longitude_source\"]], \n",
    "                                     color='DarkCyan',\n",
    "                                     fill_color='DarkCyan', \n",
    "                                     radius=5, popup=popup_string)\n",
    "        marker.add_to(lex_air)\n",
    "        airport_set.add(row['source'])\n",
    "        \n",
    "    if row['dest'] not in airport_set: \n",
    "        popup_string = row['city_dest'] + ' (' + row['dest'] + ')'\n",
    "        marker = folium.CircleMarker([row[\"latitude_dest\"], row[\"longitude_dest\"]], \n",
    "                                     color='MidnightBlue',\n",
    "                                     fill_color='MidnightBlue', \n",
    "                                     radius=5, popup=popup_string)\n",
    "        marker.add_to(lex_air)\n",
    "        airport_set.add(row['dest'])\n",
    "    \n",
    "    # PolyLine will accept a whole list of tuples, not just two\n",
    "    if (row['source'],row['dest']) not in route_set:            \n",
    "        popup_string = row['source'] + '-' + row['dest']       \n",
    "        \n",
    "        gc_points = getGreatCirclePoints(row[\"latitude_source\"], \n",
    "                                         row[\"longitude_source\"], \n",
    "                                         row[\"latitude_dest\"], \n",
    "                                         row[\"longitude_dest\"])\n",
    "        \n",
    "        line = folium.PolyLine(gc_points, weight=2, popup=popup_string)\n",
    "        line.add_to(lex_air)\n",
    "        route_set.add((row['source'],row['dest']))\n",
    "        \n",
    "lex_air   "
   ]
  },
  {
   "cell_type": "code",
   "execution_count": null,
   "metadata": {},
   "outputs": [],
   "source": [
    "# save it to its own file\n",
    "lex_air.save(\"lex_air.html\")"
   ]
  },
  {
   "cell_type": "markdown",
   "metadata": {},
   "source": [
    "### Your turn\n",
    "\n",
    "The above map shows everywhere you can get to from Lexington on a direct flight.  Your job is to:\n",
    "\n",
    "1. Make a map of all the possible destinations with one transfer. \n",
    "2. Make a map of all the possible desitnations with two transfers. \n",
    "\n",
    "Make the maps look nice!  Use color coding, vary the size of the features, or be selective about what you display in order to communicate the information effectively.  \n",
    "\n",
    "Bonus: This is the air travel version of the Kevin Bacon game (https://oracleofbacon.org/).  What is the number N, such that you can reach every airport in the world with N or fewer transfers?  \n",
    "\n",
    "Extra Bonus: Use this very important piece of knowledge to impress your friends at parties!"
   ]
  },
  {
   "cell_type": "markdown",
   "metadata": {},
   "source": [
    "The next cell defines some useful functions and other variables that are used in created both maps for questions 1 and 2."
   ]
  },
  {
   "cell_type": "code",
   "execution_count": null,
   "metadata": {},
   "outputs": [],
   "source": [
    "import math\n",
    "\n",
    "# takes lat-longs for calculating the distance between them\n",
    "# used to compute the shortest transfers\n",
    "def distance(origin, destination):\n",
    "    lat1, lon1 = origin\n",
    "    lat2, lon2 = destination\n",
    "    radius = 6371 # km\n",
    "\n",
    "    dlat = math.radians(lat2-lat1)\n",
    "    dlon = math.radians(lon2-lon1)\n",
    "    a = math.sin(dlat/2) * math.sin(dlat/2) + math.cos(math.radians(lat1)) \\\n",
    "        * math.cos(math.radians(lat2)) * math.sin(dlon/2) * math.sin(dlon/2)\n",
    "    c = 2 * math.atan2(math.sqrt(a), math.sqrt(1-a))\n",
    "    d = radius * c\n",
    "\n",
    "    return d\n",
    "\n",
    "# used to create a lst with exclusive airport pairs\n",
    "# used with dataframes to create a sub-dataset\n",
    "# which only includes true items\n",
    "def check_for_dup_pair(row, compare_lst):\n",
    "    if (row['source'],row['dest']) in compare_lst: return False\n",
    "    else:\n",
    "        compare_lst.append((row['source'],row['dest']))\n",
    "        return True\n",
    "\n",
    "# used to compare shortest pairs for transfers\n",
    "# used with dataframes to create a sub-dataset\n",
    "# which only includes true items\n",
    "def compare_to_shortest_pairs(row, compare_set):\n",
    "    if  (row['dest'],row['source']) in compare_set: return True\n",
    "    else: return False\n",
    "\n",
    "# create a folium marker from dataframe row\n",
    "# add it to a feature group and return the marker\n",
    "def create_marker(row, index, color, feature_group, _set):\n",
    "    popup = row['city_'+index] + ' (' + row[index] + ')'\n",
    "    marker = folium.CircleMarker([row['latitude_'+index], row['longitude_'+index]], color=color, fill_color=color, radius=2, popup=popup)\n",
    "    marker.add_to(feature_group)\n",
    "    _set.add(row[index])\n",
    "    return marker\n",
    "\n",
    "# create the full feature group for the map\n",
    "def add_to_feature_group(fg_airports_name, fg_routes_name,_map, df, color_source, color_dest):\n",
    "    #create the feature groups\n",
    "    fg_airports = folium.FeatureGroup(name=fg_airports_name)\n",
    "    fg_routes = folium.FeatureGroup(name=fg_routes_name)\n",
    "    \n",
    "    # iterate over dataframe rows\n",
    "    for name, row in df.iterrows():\n",
    "        # check if airport is not been created on the map yet\n",
    "        if row['dest'] not in airport_set:\n",
    "            # if not create marker\n",
    "            create_marker(row, 'dest', color_dest, fg_airports, airport_set)\n",
    "    \n",
    "        # check if the route has been created yet\n",
    "        if (row['source'],row['dest']) not in route_set:\n",
    "            popup_string = row['source'] + '-' + row['dest']\n",
    "            gc_points = getGreatCirclePoints(row[\"latitude_source\"], row[\"longitude_source\"], row[\"latitude_dest\"], row[\"longitude_dest\"])\n",
    "            \n",
    "            # logic for detecting routes that cross 180 degrees longitude\n",
    "            gc_points_1 = None\n",
    "            gc_points_2 = None\n",
    "            for points_index in range(len(gc_points)):\n",
    "                lat,lon = gc_points[points_index]\n",
    "                \n",
    "                try: # try to check next point\n",
    "                    lat_1,lon_1 = gc_points[points_index+1]\n",
    "                except IndexError:\n",
    "                    # next point doesn't exist and not triggered logic below it\n",
    "                    # therefore doesn't cross 180 degree long\n",
    "                    continue\n",
    "                    \n",
    "                if (lon > 179 and lon_1 < 0) or (lon < -179 and lon_1 > 0):\n",
    "                    # the route crosses 180, split route in 2\n",
    "                    # this prevents a wrapping error in folium maps\n",
    "                    gc_points_1 = gc_points[:points_index]\n",
    "                    gc_points_2 = gc_points[points_index+1:]\n",
    "                    break\n",
    "            \n",
    "            # if the route does not cross 180 add the line w/o modification\n",
    "            if gc_points_1 == None and gc_points_2 == None:\n",
    "                line = folium.PolyLine(gc_points, weight=2, popup=popup_string, color=color_source)\n",
    "                line.add_to(fg_routes)\n",
    "\n",
    "            else: # the route crosses 180\n",
    "                # get points at split\n",
    "                lat,lon = gc_points_1[-1]\n",
    "                lat_1,lon_1 = gc_points_2[1]\n",
    "                \n",
    "                # create new popups\n",
    "                popup = row['source'] + '-' + row['dest']\n",
    "                popup_1 = popup + ' end of segment 1'\n",
    "                popup_2 = popup + ' begining of segment 2'\n",
    "                \n",
    "                # create marks at end of segments\n",
    "                marker_1 = folium.CircleMarker([lat, lon], color='Green', fill_color='Green', radius=3, popup=popup_1)\n",
    "                marker_1.add_to(fg_routes)\n",
    "                marker_2 = folium.CircleMarker([lat_1, lon_1], color='Green', fill_color='Green', radius=3, popup=popup_2)\n",
    "                marker_2.add_to(fg_routes)\n",
    "                \n",
    "                # create new lines\n",
    "                line_1 = folium.PolyLine(gc_points_1, weight=2, popup=popup_string, color=color_source)\n",
    "                line_1.add_to(fg_routes)\n",
    "                line_2 = folium.PolyLine(gc_points_2, weight=2, popup=popup_string, color=color_source)\n",
    "                line_2.add_to(fg_routes)\n",
    "            \n",
    "            # add the route to the set\n",
    "            route_set.add((row['source'],row['dest']))\n",
    "    return (fg_airports, fg_routes)\n",
    "\n",
    "# define constant lexington mark to use\n",
    "row = lex_routes.iloc[0]\n",
    "popup = row['city_source'] + ' (' + row['source'] + ')'\n",
    "lex_marker = folium.CircleMarker([row['latitude_source'], row['longitude_source']], color='Red', fill_color='Red', radius=2, popup=popup)"
   ]
  },
  {
   "cell_type": "markdown",
   "metadata": {},
   "source": [
    "The following functions filters unwanted flights and merge airport information into the routes:"
   ]
  },
  {
   "cell_type": "code",
   "execution_count": null,
   "metadata": {},
   "outputs": [],
   "source": [
    "def filter_air_route_df(df_ref, source_airport):\n",
    "    # create dataframe w/ all routes out of airports with direct flights from df_ref\n",
    "    df_filtered = routes[routes.apply(lambda row : row['source'] in df_ref[0]['dest'].tolist(), axis=1)]\n",
    "    original_record_num = len(df_filtered)\n",
    "    print('Original Creation # of Records: ', len(df_filtered))\n",
    "    \n",
    "    # remove direct flights between airports with direct flights from df_ref airports\n",
    "    df_filtered = df_filtered[df_filtered.apply(lambda row : row['dest'] not in df_ref[0]['dest'].tolist(), axis=1)]\n",
    "    print('Filtered direct flights between airports: ', len(df_filtered))\n",
    "    \n",
    "    # remove all direct flights to df from previous dfs, allows for layer segmentation\n",
    "    df_filtered = df_filtered[df_filtered['dest'] != source_airport]\n",
    "    df_count = 1\n",
    "    for df in df_ref:\n",
    "        if df_count == 1:\n",
    "            continue\n",
    "        df_filtered = df_filtered[df_filtered.apply(lambda row : row['dest'] not in df['source'].tolist())]\n",
    "        df_count += 1\n",
    "    print('Filtered earlier flights for layer segmenation: ', len(df_filtered))\n",
    "    \n",
    "    # filter out multiple flights between airport pairs\n",
    "    airport_pair_lst = []\n",
    "    df_filtered = df_filtered[df_filtered.apply(check_for_dup_pair, axis=1, compare_lst=airport_pair_lst)]\n",
    "    print('Filtered out mulitple flights between airport pairs: ', len(df_filtered))\n",
    "    \n",
    "    # calculate the shortest transfer flight from the list of original trnasfer airports\n",
    "    # ex. Atlanta to Memphis and O'Hare to Memphis, only Atlanta to Memphis would be kept\n",
    "    shortest_transfers = {} # dict to store shortest\n",
    "    for dest_airport in df_filtered['dest']:\n",
    "        # create the destination airport in dict\n",
    "        shortest_transfers[dest_airport] = {'source':'','dist':-1}\n",
    "        # get list of all applicable layover airports w/ flights to destination airport\n",
    "        layover_airports = df_filtered[df_filtered['dest'] == dest_airport]['source']\n",
    "        # get info on destination airport\n",
    "        dest_airport_info = airports[airports['iata'] == dest_airport]\n",
    "    \n",
    "        for source_airport in layover_airports:\n",
    "            # get info on source airport\n",
    "            source_airport_info = airports[airports['iata'] == source_airport]\n",
    "            try: # to calculate the distance if all data exists\n",
    "                dist = distance((source_airport_info['latitude'].tolist()[0],source_airport_info['longitude'].tolist()[0]),\n",
    "                            (dest_airport_info['latitude'].tolist()[0],dest_airport_info['longitude'].tolist()[0]))\n",
    "            except IndexError: # some data may be missing\n",
    "                # simply choose the last source airport w/ flight to destination airport\n",
    "                shortest_transfers[dest_airport]['source'] = source_airport\n",
    "            \n",
    "            # check if distance is shorter than current shortest if so change entry\n",
    "            if dist < shortest_transfers[dest_airport]['dist'] or shortest_transfers[dest_airport]['dist'] == -1:\n",
    "                shortest_transfers[dest_airport]['source'] = source_airport\n",
    "                shortest_transfers[dest_airport]['dist'] = dist\n",
    "\n",
    "    shortest_pairs = set()\n",
    "    for airport in shortest_transfers:\n",
    "        shortest_pairs.add((airport,shortest_transfers[airport]['source']))\n",
    "    \n",
    "    # filter out all routes longer than the shortest transfer\n",
    "    df_filtered = df_filtered[df_filtered.apply(compare_to_shortest_pairs, axis=1, compare_set=shortest_pairs)]\n",
    "    print('Filtered out longer transfer flights: ', len(df_filtered))\n",
    "    print()\n",
    "    print('Starting Number of Records: ', original_record_num)\n",
    "    print('Returned Number of Records: ', len(df_filtered))\n",
    "    return df_filtered\n",
    "\n",
    "def mergeAndDropDF(df):\n",
    "    # merge airports into routes to have data on airport locations\n",
    "    df = pd.merge(df, airports, left_on='source_id', right_on='id', how='left')\n",
    "    df = pd.merge(df, airports, left_on='dest_id', right_on='id', how='left', suffixes=['_source','_dest'])\n",
    "    \n",
    "    # drop duplicated data, rename rows and drop data with NaNs\n",
    "    df = df.drop(['source_y','source','type_dest','iata_dest','iata_source','id_source','icao_dest','id_dest','icao_source','type_source'], axis=1)\n",
    "    df = df.rename(columns={'source_x': 'source'})\n",
    "    df = df.dropna(subset=['city_dest','city_source','latitude_dest','longitude_dest','longitude_source','latitude_source'])\n",
    "    print('Number of records returned after dropping NaNs: ', len(df))\n",
    "    \n",
    "    return df"
   ]
  },
  {
   "cell_type": "markdown",
   "metadata": {},
   "source": [
    "The next functions create the map:"
   ]
  },
  {
   "cell_type": "code",
   "execution_count": null,
   "metadata": {},
   "outputs": [],
   "source": [
    "def LEXMap():\n",
    "    return folium.Map(location=[38.034,-84.500], zoom_start=4)"
   ]
  },
  {
   "cell_type": "markdown",
   "metadata": {},
   "source": [
    "Answer to question 1. Make a map of all the possible destinations with one transfer."
   ]
  },
  {
   "cell_type": "code",
   "execution_count": null,
   "metadata": {},
   "outputs": [],
   "source": [
    "second_hop = filter_air_route_df([lex_routes], 'LEX')"
   ]
  },
  {
   "cell_type": "code",
   "execution_count": null,
   "metadata": {},
   "outputs": [],
   "source": [
    "second_hop = mergeAndDropDF(second_hop)"
   ]
  },
  {
   "cell_type": "code",
   "execution_count": null,
   "metadata": {},
   "outputs": [],
   "source": [
    "# create a basic map, centered on Lexington\n",
    "second_hop_map = LEXMap()"
   ]
  },
  {
   "cell_type": "code",
   "execution_count": null,
   "metadata": {},
   "outputs": [],
   "source": [
    "# Define empty sets\n",
    "airport_set = set()\n",
    "route_set = set()\n",
    "\n",
    "# get feature groups with routes and airports\n",
    "ff_airports,ff_routes = add_to_feature_group('First Flight - Destination', 'First Flight - Routes', second_hop_map, lex_routes, 'Black', 'MidnightBlue', )\n",
    "ft_airports,ft_routes = add_to_feature_group('Second Flight - Destination', 'Second Flight - Routes', second_hop_map, second_hop, 'MidnightBlue', 'Blue')\n",
    "\n",
    "# add feature groups to maps\n",
    "ft_airports.add_to(second_hop_map)\n",
    "second_hop_map.keep_in_front(ft_airports)\n",
    "ft_routes.add_to(second_hop_map)\n",
    "\n",
    "ff_airports.add_to(second_hop_map)\n",
    "second_hop_map.keep_in_front(ff_airports)\n",
    "ff_routes.add_to(second_hop_map)\n",
    "\n",
    "# add lex marker\n",
    "lex_marker.add_to(second_hop_map)\n",
    "second_hop_map.keep_in_front(lex_marker)\n",
    "\n",
    "# add layer control\n",
    "folium.LayerControl().add_to(second_hop_map)\n",
    "\n",
    "# display map\n",
    "second_hop_map"
   ]
  },
  {
   "cell_type": "code",
   "execution_count": null,
   "metadata": {},
   "outputs": [],
   "source": [
    "second_hop_map.save(\"second_hop_map.html\")"
   ]
  },
  {
   "cell_type": "markdown",
   "metadata": {},
   "source": [
    "Answer to question 2. Make a map of all the possible destinations with two transfers."
   ]
  },
  {
   "cell_type": "code",
   "execution_count": null,
   "metadata": {},
   "outputs": [],
   "source": [
    "third_hop = filter_air_route_df([second_hop,lex_routes], 'LEX')"
   ]
  },
  {
   "cell_type": "code",
   "execution_count": null,
   "metadata": {},
   "outputs": [],
   "source": [
    "third_hop = mergeAndDropDF(third_hop)\n",
    "third_hop.head()"
   ]
  },
  {
   "cell_type": "code",
   "execution_count": null,
   "metadata": {},
   "outputs": [],
   "source": [
    "# create a basic map, centered on Lexington\n",
    "third_hop_map = LEXMap()"
   ]
  },
  {
   "cell_type": "code",
   "execution_count": null,
   "metadata": {},
   "outputs": [],
   "source": [
    "# Define some empty sets\n",
    "airport_set = set()\n",
    "route_set = set()\n",
    "\n",
    "# get feature groups with routes and airports\n",
    "ff_airports,ff_routes = add_to_feature_group('First Flight - Destination', 'First Flight - Routes', third_hop_map, lex_routes, 'Black', 'MidnightBlue', )\n",
    "ft_airports,ft_routes = add_to_feature_group('Second Flight - Destination', 'Second Flight - Routes', third_hop_map, second_hop, 'MidnightBlue', 'Blue')\n",
    "st_airports,st_routes = add_to_feature_group('Third Flight - Destination', 'Third Flight - Routes', third_hop_map, third_hop, 'Blue', '#0099cc')\n",
    "\n",
    "# add feature groups to maps\n",
    "st_airports.add_to(third_hop_map)\n",
    "third_hop_map.keep_in_front(st_airports)\n",
    "st_routes.add_to(third_hop_map)\n",
    "\n",
    "ft_airports.add_to(third_hop_map)\n",
    "third_hop_map.keep_in_front(ft_airports)\n",
    "ft_routes.add_to(third_hop_map)\n",
    "\n",
    "ff_airports.add_to(third_hop_map)\n",
    "third_hop_map.keep_in_front(ff_airports)\n",
    "ff_routes.add_to(third_hop_map)\n",
    "\n",
    "# add lex marker\n",
    "lex_marker.add_to(third_hop_map)\n",
    "third_hop_map.keep_in_front(lex_marker)\n",
    "\n",
    "# add layer control\n",
    "folium.LayerControl().add_to(third_hop_map)\n",
    "\n",
    "# display map\n",
    "third_hop_map"
   ]
  },
  {
   "cell_type": "code",
   "execution_count": null,
   "metadata": {},
   "outputs": [],
   "source": [
    "third_hop_map.save(\"third_hop_map.html\")"
   ]
  }
 ],
 "metadata": {
  "anaconda-cloud": {},
  "kernelspec": {
   "display_name": "Python 3",
   "language": "python",
   "name": "python3"
  },
  "language_info": {
   "codemirror_mode": {
    "name": "ipython",
    "version": 3
   },
   "file_extension": ".py",
   "mimetype": "text/x-python",
   "name": "python",
   "nbconvert_exporter": "python",
   "pygments_lexer": "ipython3",
   "version": "3.7.1"
  }
 },
 "nbformat": 4,
 "nbformat_minor": 1
}
