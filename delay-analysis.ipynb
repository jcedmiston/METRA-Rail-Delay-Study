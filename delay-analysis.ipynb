{
 "cells": [
  {
   "cell_type": "code",
   "execution_count": 1,
   "metadata": {},
   "outputs": [],
   "source": [
    "import folium\n",
    "import pandas as pd\n",
    "import numpy as np\n",
    "import seaborn as sns\n",
    "import statsmodels.formula.api as smf\n",
    "from helpers import *\n",
    "\n",
    "# this allows plots to appear directly in the notebook\n",
    "%matplotlib inline"
   ]
  },
  {
   "cell_type": "code",
   "execution_count": 2,
   "metadata": {},
   "outputs": [],
   "source": [
    "# These files use \\N as a missing value indicator.  When reading the CSVs, we will tell\n",
    "# it to use that value as missing or NA.  The double backslash is required because\n",
    "# otherwise it will interpret \\N as a carriage return.\n",
    "train_data = pd.read_csv(\"data/trip.csv\", header=None, na_values='\\\\N')\n",
    "train_data.columns = [\"time\", \"time_formated\", \"id\", \"route_id\", \"vehicle_id\", \"vehicle_label\", \"delay\", \"lat\", \"lon\", \"general_weather\", \"temp\", \"temp_min\", \"temp_max\", \"visibility\", \"wind_speed\"]\n",
    "train_data[\"time_formated\"] = pd.to_datetime(train_data[\"time_formated\"])"
   ]
  },
  {
   "cell_type": "code",
   "execution_count": null,
   "metadata": {},
   "outputs": [],
   "source": [
    "train_data['normalized_delay'] = train_data['delay'] / (train_data['delay'].std() * 1)"
   ]
  },
  {
   "cell_type": "code",
   "execution_count": null,
   "metadata": {},
   "outputs": [],
   "source": [
    "train_data['color'] = train_data.apply(colorRange, axis=1)"
   ]
  },
  {
   "cell_type": "code",
   "execution_count": null,
   "metadata": {},
   "outputs": [],
   "source": [
    "train_data['time_since_midnight'] = train_data.apply(timeSinceMidnight, axis=1)"
   ]
  },
  {
   "cell_type": "code",
   "execution_count": null,
   "metadata": {},
   "outputs": [],
   "source": [
    "train_data['time_group_since_midnight'] = train_data.apply(groupTime, axis=1)"
   ]
  },
  {
   "cell_type": "code",
   "execution_count": null,
   "metadata": {},
   "outputs": [],
   "source": [
    "train_data['lat_round'] = train_data.apply(lambda row: round(row['lat'],3), axis=1)\n",
    "train_data['lon_round'] = train_data.apply(lambda row: round(row['lon'],3), axis=1)"
   ]
  },
  {
   "cell_type": "code",
   "execution_count": null,
   "metadata": {},
   "outputs": [],
   "source": [
    "train_data.to_csv('data/train_data.csv')"
   ]
  },
  {
   "cell_type": "code",
   "execution_count": null,
   "metadata": {},
   "outputs": [],
   "source": [
    "all_data_map = folium.Map(location=[41.8781,-87.6298], zoom_start=9, tiles='Stamen Toner')\n",
    "for name, row in train_data.iterrows():\n",
    "    marker = folium.CircleMarker([row['lat'], row['lon']], radius=1, popup=str(row['delay']))\n",
    "    marker.add_to(all_data_map)\n",
    "all_data_map.save('Maps/all_data_map.html')"
   ]
  },
  {
   "cell_type": "code",
   "execution_count": null,
   "metadata": {},
   "outputs": [],
   "source": [
    "color_coded_map = folium.Map(location=[41.8781,-87.6298], zoom_start=9, tiles='Stamen Toner')\n",
    "\n",
    "for name, row in train_data.iterrows():\n",
    "    marker = folium.CircleMarker([row['lat'], row['lon']], \n",
    "                                 opacity=0.5, radius=0.5, \n",
    "                                 color='#'+str(hex(row['color'], \n",
    "                                 fill_color='#'+str(hex(row['color'])), \n",
    "                                 popup=row['delay']\n",
    "    marker.add_to(color_coded_map)\n",
    "color_coded_map.save('Maps/color_coded_map.html')"
   ]
  },
  {
   "cell_type": "code",
   "execution_count": null,
   "metadata": {},
   "outputs": [],
   "source": [
    "loc_groups = train_data.groupby(['lat','lon'])\n",
    "delay = loc_groups['delay']\n",
    "delay_mean = delay.mean()\n",
    "delay_mean['color'] = delay_mean.apply(delaycolors)"
   ]
  },
  {
   "cell_type": "code",
   "execution_count": null,
   "metadata": {},
   "outputs": [],
   "source": [
    "sns.distplot(train_data['delay'])"
   ]
  },
  {
   "cell_type": "code",
   "execution_count": null,
   "metadata": {},
   "outputs": [],
   "source": [
    "sns.distplot(train_data['visibility'])"
   ]
  },
  {
   "cell_type": "code",
   "execution_count": null,
   "metadata": {},
   "outputs": [],
   "source": [
    "sns.jointplot(x=\"delay\", y=\"temp\", data=train_data, size=8)"
   ]
  },
  {
   "cell_type": "code",
   "execution_count": null,
   "metadata": {},
   "outputs": [],
   "source": [
    "sns.regplot(x=\"delay\", y=\"temp\", data=train_data)"
   ]
  },
  {
   "cell_type": "code",
   "execution_count": null,
   "metadata": {},
   "outputs": [],
   "source": [
    "mod = smf.ols(formula='delay ~ temp', data=train_data)\n",
    "res = mod.fit()\n",
    "print(res.summary())"
   ]
  },
  {
   "cell_type": "code",
   "execution_count": null,
   "metadata": {},
   "outputs": [],
   "source": [
    "train_data.head(100)"
   ]
  },
  {
   "cell_type": "code",
   "execution_count": null,
   "metadata": {},
   "outputs": [],
   "source": [
    "delay_group = train_data.groupby(['lat_round', 'lon_round', 'time_group_since_midnight'])['normalized_delay'].mean()\n",
    "delay_group"
   ]
  },
  {
   "cell_type": "code",
   "execution_count": null,
   "metadata": {},
   "outputs": [],
   "source": [
    "group_dict = {}\n",
    "for group_id, group_delay in delay_group.iteritems():\n",
    "    lat, lon, time = group_id\n",
    "    try:\n",
    "        current = group_dict[time]\n",
    "    except KeyError:\n",
    "        group_dict[time] = {0:{'lat': lat, 'lon': lon, 'delay': group_delay}}\n",
    "    else:\n",
    "        group_dict[time][len(current)] = {'lat': lat, 'lon': lon, 'delay': group_delay}"
   ]
  },
  {
   "cell_type": "code",
   "execution_count": null,
   "metadata": {},
   "outputs": [],
   "source": [
    "import json\n",
    "with open('data/stops.json') as stops_file:  \n",
    "    stops = json.load(stops_file)    "
   ]
  },
  {
   "cell_type": "code",
   "execution_count": null,
   "metadata": {},
   "outputs": [],
   "source": [
    "time_groups = [time for time in range(0,86400,900)]\n",
    "line_groups = {}\n",
    "for time in time_groups:\n",
    "    time_map = folium.Map(location=[41.8781,-87.6298], zoom_start=9)\n",
    "    \n",
    "    for stop in stops:\n",
    "        marker = folium.CircleMarker([stop['stop_lat'],\n",
    "                                      stop['stop_lon']], \n",
    "                                     radius=1, \n",
    "                                     popup=stop['stop_name'])\n",
    "        marker.add_to(time_map)\n",
    "        #time_map.keep_in_front(marker)\n",
    "    \n",
    "    try:\n",
    "        time_group = group_dict[time]\n",
    "    except KeyError:\n",
    "        continue\n",
    "    for index, delay_data in time_group.items():\n",
    "        color = colorRangeNum(delay_data['delay'])\n",
    "        marker = folium.CircleMarker([delay_data['lat'], delay_data['lon']],\n",
    "                                     opacity=0.5,\n",
    "                                     radius=0.5, color='#'+str(color)[2:], \n",
    "                                     fill_color='#'+str(color)[2:], \n",
    "                                     popup=str(int(delay_data['delay'] * (train_data['delay'].std() * 1))))\n",
    "        marker.add_to(time_map)\n",
    "    time_map.save('Maps/Time_Maps/Map_'+format_time(time)+'.html') "
   ]
  },
  {
   "cell_type": "code",
   "execution_count": null,
   "metadata": {},
   "outputs": [],
   "source": [
    "time_delay = train_data.groupby(['time_since_midnight', 'route_id'])['delay'].mean()"
   ]
  },
  {
   "cell_type": "code",
   "execution_count": null,
   "metadata": {},
   "outputs": [],
   "source": [
    "time_delay"
   ]
  },
  {
   "cell_type": "code",
   "execution_count": null,
   "metadata": {},
   "outputs": [],
   "source": [
    "time_delay_dict = {}\n",
    "for info_id, delay in time_delay.iteritems():\n",
    "    time, route = info_id\n",
    "    time_delay_dict[len(time_delay_dict)] = {'time' : time, 'route_id': route, 'delay' : delay}"
   ]
  },
  {
   "cell_type": "code",
   "execution_count": null,
   "metadata": {},
   "outputs": [],
   "source": [
    "time_delay_df = pd.DataFrame.from_dict(time_delay_dict, orient='index')"
   ]
  },
  {
   "cell_type": "code",
   "execution_count": null,
   "metadata": {},
   "outputs": [],
   "source": [
    "time_delay_df"
   ]
  },
  {
   "cell_type": "code",
   "execution_count": null,
   "metadata": {},
   "outputs": [],
   "source": [
    "mod = smf.ols(formula='delay ~ time', data=time_delay_df)\n",
    "res = mod.fit()\n",
    "print(res.summary())"
   ]
  },
  {
   "cell_type": "code",
   "execution_count": null,
   "metadata": {},
   "outputs": [],
   "source": [
    "mod = smf.ols(formula='delay ~ time + C(route_id)', data=train_data)\n",
    "res = mod.fit()\n",
    "print(res.summary())"
   ]
  },
  {
   "cell_type": "code",
   "execution_count": null,
   "metadata": {},
   "outputs": [],
   "source": []
  },
  {
   "cell_type": "code",
   "execution_count": null,
   "metadata": {},
   "outputs": [],
   "source": []
  }
 ],
 "metadata": {
  "anaconda-cloud": {},
  "kernelspec": {
   "display_name": "Python 3",
   "language": "python",
   "name": "python3"
  },
  "language_info": {
   "codemirror_mode": {
    "name": "ipython",
    "version": 3
   },
   "file_extension": ".py",
   "mimetype": "text/x-python",
   "name": "python",
   "nbconvert_exporter": "python",
   "pygments_lexer": "ipython3",
   "version": "3.7.1"
  }
 },
 "nbformat": 4,
 "nbformat_minor": 1
}
